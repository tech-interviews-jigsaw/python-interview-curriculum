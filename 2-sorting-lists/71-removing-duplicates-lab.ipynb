{
 "cells": [
  {
   "cell_type": "markdown",
   "id": "bcf4d450-5b9e-4b8b-9a02-bf86879eb175",
   "metadata": {},
   "source": [
    "# Working with Duplicates Lab"
   ]
  },
  {
   "cell_type": "markdown",
   "id": "a7eb32a2-dca8-476d-b52d-464e0f8a0fb1",
   "metadata": {},
   "source": [
    "### Introduction"
   ]
  },
  {
   "cell_type": "markdown",
   "id": "9cc2942c-4202-4804-8e3c-e696a6a7084e",
   "metadata": {},
   "source": [
    "In this lesson, we'll use practice using a sorted array."
   ]
  },
  {
   "cell_type": "markdown",
   "id": "9aafca79-facc-43eb-be7d-00e29a1fa6c7",
   "metadata": {},
   "source": [
    "### Returning Duplicates"
   ]
  },
  {
   "cell_type": "markdown",
   "id": "0388731b-882d-4842-806f-ae20ff8707d1",
   "metadata": {},
   "source": [
    "Given an integer array of nums return a list of all of the duplicate numbers."
   ]
  },
  {
   "cell_type": "code",
   "execution_count": 14,
   "id": "59ea9552-2481-4fda-8ea8-f869fe9c718f",
   "metadata": {},
   "outputs": [],
   "source": [
    "values = [5, 2, 1, 8, 1, 2]\n",
    "\n",
    "other_values = [5, 2, 1, 8, 5, 8]\n",
    "\n",
    "def duplicate_numbers(values):\n",
    "    pass"
   ]
  },
  {
   "cell_type": "code",
   "execution_count": 6,
   "id": "36f37f01-c768-4849-9283-a936bc63b63b",
   "metadata": {},
   "outputs": [
    {
     "data": {
      "text/plain": [
       "[1, 2]"
      ]
     },
     "execution_count": 6,
     "metadata": {},
     "output_type": "execute_result"
    }
   ],
   "source": [
    "duplicate_numbers(values)\n",
    "# [1, 2]"
   ]
  },
  {
   "cell_type": "code",
   "execution_count": 7,
   "id": "81b9d36f-dc34-4f28-8f42-70cf8b7b452a",
   "metadata": {},
   "outputs": [
    {
     "data": {
      "text/plain": [
       "[5, 8]"
      ]
     },
     "execution_count": 7,
     "metadata": {},
     "output_type": "execute_result"
    }
   ],
   "source": [
    "duplicate_numbers(other_values)\n",
    "\n",
    "# [5, 8]"
   ]
  },
  {
   "cell_type": "markdown",
   "id": "8ea28956-9627-4528-a458-9451370a8828",
   "metadata": {},
   "source": [
    "### Removing Duplicates"
   ]
  },
  {
   "cell_type": "markdown",
   "id": "80f31ca7-74e5-43b6-a472-1852d65c47bc",
   "metadata": {},
   "source": [
    "Now let's move onto a leetcode problem."
   ]
  },
  {
   "cell_type": "markdown",
   "id": "c84ea5a6-23ce-4e60-9448-8db91df4088e",
   "metadata": {},
   "source": [
    "> Given an integer array nums sorted in non-decreasing order, remove some duplicates in-place such that each unique element appears **at most twice**. The relative order of the elements should be kept the same.\n",
    "\n",
    "> Do not allocate extra space for another array. You must do this by modifying the input array in-place with O(1) extra memory.  It does not matter what you place in the extra slots of the array."
   ]
  },
  {
   "cell_type": "markdown",
   "id": "800cc747-f409-46fc-b846-dbe2e57dd23e",
   "metadata": {},
   "source": [
    "Example:\n",
    "    "
   ]
  },
  {
   "cell_type": "code",
   "execution_count": 11,
   "id": "c252b2b2-cad6-4a12-a5a1-7849c8cccb2c",
   "metadata": {},
   "outputs": [],
   "source": [
    "def remove_duplicates(values):\n",
    "    pass"
   ]
  },
  {
   "cell_type": "code",
   "execution_count": 12,
   "id": "8f45c7fb-63cd-4ebc-b2fb-c6e526042e9f",
   "metadata": {},
   "outputs": [],
   "source": [
    "values = [1,1,1, 2, 2, 3]\n",
    "\n",
    "remove_duplicates(values)\n",
    "\n",
    "# [1, 1, 2, 2, 3, \"\"]"
   ]
  },
  {
   "cell_type": "code",
   "execution_count": 13,
   "id": "b453f920-4a1b-4da2-b822-e9d14ce5e856",
   "metadata": {},
   "outputs": [],
   "source": [
    "values = [0, 0, 1, 1, 1, 1, 2, 3, 3]\n",
    "\n",
    "remove_duplicates(values)\n",
    "\n",
    "# [0, 0, 1, 1, 2, 3, 3]"
   ]
  },
  {
   "cell_type": "markdown",
   "id": "c38a3910-9d9d-433e-9396-3af9588bdcfa",
   "metadata": {},
   "source": [
    "### Resources\n",
    "\n",
    "[Blog post remove duplicates](https://jjoyli.medium.com/leetcode-80-remove-duplicates-from-sorted-array-ii-6a7818c4ae5)"
   ]
  }
 ],
 "metadata": {
  "kernelspec": {
   "display_name": "Python 3 (ipykernel)",
   "language": "python",
   "name": "python3"
  },
  "language_info": {
   "codemirror_mode": {
    "name": "ipython",
    "version": 3
   },
   "file_extension": ".py",
   "mimetype": "text/x-python",
   "name": "python",
   "nbconvert_exporter": "python",
   "pygments_lexer": "ipython3",
   "version": "3.10.6"
  }
 },
 "nbformat": 4,
 "nbformat_minor": 5
}
