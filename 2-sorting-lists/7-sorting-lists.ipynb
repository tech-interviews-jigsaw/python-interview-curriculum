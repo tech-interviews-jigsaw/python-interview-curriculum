{
 "cells": [
  {
   "cell_type": "markdown",
   "id": "bcf4d450-5b9e-4b8b-9a02-bf86879eb175",
   "metadata": {},
   "source": [
    "# Sorting Lists"
   ]
  },
  {
   "cell_type": "markdown",
   "id": "a7eb32a2-dca8-476d-b52d-464e0f8a0fb1",
   "metadata": {},
   "source": [
    "### Introduction"
   ]
  },
  {
   "cell_type": "markdown",
   "id": "f2067cef-b06d-42a9-9c9e-0821408365ee",
   "metadata": {},
   "source": [
    "In previous lessons, we have worked with lists.  And this may have involved finding elements in lists, or organizing our lists.  In this lesson, we'll see how we can make our problems easier by sorting our lists."
   ]
  },
  {
   "cell_type": "markdown",
   "id": "9aafca79-facc-43eb-be7d-00e29a1fa6c7",
   "metadata": {},
   "source": [
    "### Using a sorted list"
   ]
  },
  {
   "cell_type": "markdown",
   "id": "d53e699f-2e25-4a55-b532-d2da1cf5281d",
   "metadata": {},
   "source": [
    "To begin, let's start with some ordinary lists below:"
   ]
  },
  {
   "cell_type": "code",
   "execution_count": 28,
   "id": "0436ee51-22b5-442c-9980-565197073ed5",
   "metadata": {},
   "outputs": [],
   "source": [
    "values = [8, 9, 4, 7, 3, 1]\n",
    "\n",
    "other_values = [8, 9, 4, 12, 6, 7, 2, 3, 1]"
   ]
  },
  {
   "cell_type": "markdown",
   "id": "79fea700-155e-463d-af4c-da2919b5683f",
   "metadata": {},
   "source": [
    "And then we can we can procede with the following tasks."
   ]
  },
  {
   "cell_type": "markdown",
   "id": "3b63932d-fd81-4a31-8000-10aba6e5904a",
   "metadata": {},
   "source": [
    "* Find the minimum value in the array.\n",
    "\n",
    "* Find the maximum value in the array.\n",
    "\n",
    "* Find the median value in the array.\n",
    "\n",
    "> The median value is the midpoint in the array.  If there are an even number of values, the median is the average of the two middle numbers."
   ]
  },
  {
   "cell_type": "markdown",
   "id": "51ddc293-e1a3-467e-bb69-fc8f9ab36b1c",
   "metadata": {},
   "source": [
    "In each case think about -- and then code out -- the solution with a sorted list."
   ]
  },
  {
   "cell_type": "code",
   "execution_count": 29,
   "id": "c35c8d61-ff4f-4030-a0f7-14340644852a",
   "metadata": {},
   "outputs": [
    {
     "data": {
      "text/plain": [
       "[1, 3, 4, 7, 8, 9]"
      ]
     },
     "execution_count": 29,
     "metadata": {},
     "output_type": "execute_result"
    }
   ],
   "source": [
    "values = [8, 9, 4, 7, 3, 1]\n",
    "sorted(values)"
   ]
  },
  {
   "cell_type": "code",
   "execution_count": 1,
   "id": "670df55e-66ef-4596-9341-ddc5d178dc5f",
   "metadata": {},
   "outputs": [],
   "source": [
    "def median(values):\n",
    "    pass\n",
    "        "
   ]
  },
  {
   "cell_type": "code",
   "execution_count": 34,
   "id": "244fcd63-7ac1-4e0b-9688-7af9d82a90e0",
   "metadata": {},
   "outputs": [
    {
     "data": {
      "text/plain": [
       "5.5"
      ]
     },
     "execution_count": 34,
     "metadata": {},
     "output_type": "execute_result"
    }
   ],
   "source": [
    "median(values)\n",
    "# 5.5"
   ]
  },
  {
   "cell_type": "code",
   "execution_count": 35,
   "id": "25cfbbbb-93fe-4fea-9aa9-301205cf814e",
   "metadata": {},
   "outputs": [
    {
     "data": {
      "text/plain": [
       "4"
      ]
     },
     "execution_count": 35,
     "metadata": {},
     "output_type": "execute_result"
    }
   ],
   "source": [
    "median(other_values)\n",
    "# 4"
   ]
  },
  {
   "cell_type": "markdown",
   "id": "d5933f06-2935-47e4-8796-49ca7ddc8390",
   "metadata": {},
   "source": [
    "### The cost sorting a list - and the log"
   ]
  },
  {
   "cell_type": "markdown",
   "id": "a219ce3c-64a0-4869-b66f-fa80d7f2d9de",
   "metadata": {},
   "source": [
    "Now one way to sort a list is to use a nested loop, which has a cost of $n^2$.  But under the hood, Python and other languages will use an algorithm called merge sort to sort the list.  This has a cost of O(n log n).  We'll explore the log more in a later lesson but we can talk about it briefly now.  "
   ]
  },
  {
   "cell_type": "markdown",
   "id": "e5076393-7def-42c4-b1ee-0833c439bee7",
   "metadata": {},
   "source": [
    "One way to think about the log is that if we start with a number like 16, and we keep dividing by 2, log is the number of times we need to keep dividing to get back to one.\n",
    "\n",
    "So for example, for the number 16..."
   ]
  },
  {
   "cell_type": "code",
   "execution_count": 2,
   "id": "7b83bb85-428b-4478-9ac8-868d623a051b",
   "metadata": {},
   "outputs": [
    {
     "data": {
      "text/plain": [
       "8.0"
      ]
     },
     "execution_count": 2,
     "metadata": {},
     "output_type": "execute_result"
    }
   ],
   "source": [
    "16/2 "
   ]
  },
  {
   "cell_type": "code",
   "execution_count": 3,
   "id": "a8be9696-eb6d-4db0-86ea-8c5bcb019b4a",
   "metadata": {},
   "outputs": [
    {
     "data": {
      "text/plain": [
       "4.0"
      ]
     },
     "execution_count": 3,
     "metadata": {},
     "output_type": "execute_result"
    }
   ],
   "source": [
    "8.0/2"
   ]
  },
  {
   "cell_type": "code",
   "execution_count": 4,
   "id": "b7d9a54f-ae52-46d4-9ae4-9ac54d094846",
   "metadata": {},
   "outputs": [
    {
     "data": {
      "text/plain": [
       "2.0"
      ]
     },
     "execution_count": 4,
     "metadata": {},
     "output_type": "execute_result"
    }
   ],
   "source": [
    "4/2"
   ]
  },
  {
   "cell_type": "code",
   "execution_count": 5,
   "id": "c4d3500e-4b8e-4aae-92ff-2cc2ba786013",
   "metadata": {},
   "outputs": [
    {
     "data": {
      "text/plain": [
       "1.0"
      ]
     },
     "execution_count": 5,
     "metadata": {},
     "output_type": "execute_result"
    }
   ],
   "source": [
    "2/2"
   ]
  },
  {
   "cell_type": "markdown",
   "id": "2658af9c-84ed-43d8-ad8e-096a03861eae",
   "metadata": {},
   "source": [
    "So $log(16)  = 4$."
   ]
  },
  {
   "cell_type": "markdown",
   "id": "c7b781fd-cbe6-45f7-9fef-bfa422f523b8",
   "metadata": {},
   "source": [
    "> We can check this with numpy."
   ]
  },
  {
   "cell_type": "code",
   "execution_count": 8,
   "id": "f4a7a7cc-7b74-487a-9c1b-ee05a07a236d",
   "metadata": {},
   "outputs": [
    {
     "data": {
      "text/plain": [
       "4.0"
      ]
     },
     "execution_count": 8,
     "metadata": {},
     "output_type": "execute_result"
    }
   ],
   "source": [
    "import numpy as np\n",
    "\n",
    "np.log2(16)"
   ]
  },
  {
   "cell_type": "markdown",
   "id": "de44ef3e-cac7-49f5-8c16-1686bb0ecd62",
   "metadata": {},
   "source": [
    "Notice that this is a good bit smaller than our number $n$.  This is even more pronounced if we choose a large number, like $10,000$."
   ]
  },
  {
   "cell_type": "code",
   "execution_count": 9,
   "id": "b78113f1-ab95-470a-93f7-0774fe5246af",
   "metadata": {},
   "outputs": [
    {
     "data": {
      "text/plain": [
       "13.287712379549449"
      ]
     },
     "execution_count": 9,
     "metadata": {},
     "output_type": "execute_result"
    }
   ],
   "source": [
    "import numpy as np\n",
    "\n",
    "np.log2(10_000)"
   ]
  },
  {
   "cell_type": "markdown",
   "id": "0db26974-d0fa-494b-892b-16650bc58870",
   "metadata": {},
   "source": [
    "And we said that merge sort has a cost of n log n as opposed to using a nested loop which has a cost of $n^2$.  So if we have a list that is 1,000 elements log, the cost of using merge sort is essentially $10,000$:"
   ]
  },
  {
   "cell_type": "code",
   "execution_count": 10,
   "id": "0203895b-bf71-4b4c-8d9d-d917447db1b6",
   "metadata": {},
   "outputs": [
    {
     "data": {
      "text/plain": [
       "9965.784284662088"
      ]
     },
     "execution_count": 10,
     "metadata": {},
     "output_type": "execute_result"
    }
   ],
   "source": [
    "import numpy as np\n",
    "\n",
    "np.log2(1_000) * 1_000"
   ]
  },
  {
   "cell_type": "markdown",
   "id": "2ecb26f8-ab60-4194-bdaa-0c11e8a5bc6a",
   "metadata": {},
   "source": [
    "While the cost of using a nested loop is $1,000^2 = 1,000,000$."
   ]
  },
  {
   "cell_type": "markdown",
   "id": "0a4891ff-088c-4051-9e7c-c00603db6468",
   "metadata": {},
   "source": [
    "So we can think of our cost of n log n as a little worse than just $n$ and drastically better than `n log n`."
   ]
  },
  {
   "cell_type": "markdown",
   "id": "66613418-7a50-48f2-807a-3ed1e963b85e",
   "metadata": {},
   "source": [
    "### The key takeaways"
   ]
  },
  {
   "cell_type": "markdown",
   "id": "a3caeb99-b1d5-4c1a-8d96-118dc66af95a",
   "metadata": {},
   "source": [
    "So the key point from all of this is that sorting a list can be very beneficial, and not all that costly to us.  Yes, it is slightly more costly than n, but not by that much.  Also, many tasks can be made easier by sorting our list -- and we saw a few like finding the min, the max and the median in this lesson.\n",
    "\n",
    "If you do want to get a sense of how merge sort works, feel free to look at this [short video](https://www.youtube.com/watch?v=Pr2Jf83_kG0) or this [blog post](https://medium.com/karuna-sehgal/a-simplified-explanation-of-merge-sort-77089fe03bb2) to see it implemented in Python."
   ]
  }
 ],
 "metadata": {
  "kernelspec": {
   "display_name": "Python 3 (ipykernel)",
   "language": "python",
   "name": "python3"
  },
  "language_info": {
   "codemirror_mode": {
    "name": "ipython",
    "version": 3
   },
   "file_extension": ".py",
   "mimetype": "text/x-python",
   "name": "python",
   "nbconvert_exporter": "python",
   "pygments_lexer": "ipython3",
   "version": "3.10.6"
  }
 },
 "nbformat": 4,
 "nbformat_minor": 5
}
