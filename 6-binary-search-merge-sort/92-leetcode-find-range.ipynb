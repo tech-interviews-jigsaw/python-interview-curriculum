{
 "cells": [
  {
   "cell_type": "markdown",
   "id": "71b8f98e-749b-4f93-bd22-752bc3ce21db",
   "metadata": {},
   "source": [
    "1. Write out binary search"
   ]
  },
  {
   "cell_type": "markdown",
   "id": "fac142f1-b6dd-4714-9d4b-e7985896405f",
   "metadata": {},
   "source": [
    "[Find first and last position in sorted array](https://leetcode.com/problems/find-first-and-last-position-of-element-in-sorted-array/)"
   ]
  },
  {
   "cell_type": "markdown",
   "id": "0f5093b1-f088-45ea-9bac-6ea5ba4b4d0b",
   "metadata": {},
   "source": [
    "* Think of edge cases\n",
    "* Moving from one data structure to another, etc."
   ]
  }
 ],
 "metadata": {
  "kernelspec": {
   "display_name": "Python 3 (ipykernel)",
   "language": "python",
   "name": "python3"
  },
  "language_info": {
   "codemirror_mode": {
    "name": "ipython",
    "version": 3
   },
   "file_extension": ".py",
   "mimetype": "text/x-python",
   "name": "python",
   "nbconvert_exporter": "python",
   "pygments_lexer": "ipython3",
   "version": "3.9.10"
  }
 },
 "nbformat": 4,
 "nbformat_minor": 5
}
