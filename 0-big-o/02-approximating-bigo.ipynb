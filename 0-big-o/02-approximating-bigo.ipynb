{
 "cells": [
  {
   "cell_type": "markdown",
   "metadata": {},
   "source": [
    "## Big O\n",
    "\n",
    "\n",
    "### Introduction\n",
    "\n",
    "So far with time complexity, we consider the worst case because that is when we tend to feel the costs of performance.  Well, with time complexity, we also are really only concerned with large datasets.   This is because, when the amount of data is small, the time it takes the computer to perform the operation is a non-issue.  By this, we mean a size in the tens of thousands, but of course our amount of data could be much larger.  \n",
    "\n",
    "Because of this, time complexity is sometimes called **asymptotic time complexity**.  \n",
    "\n",
    ">  By **asymptotic**, we mean to consider what occurs as *n* -- the length of our input -- approaches infinity.\n",
    "\n",
    "This is how we really calculate the cost of our function, by asking what is the worst case scenario when our input gets really large."
   ]
  },
  {
   "cell_type": "markdown",
   "metadata": {},
   "source": [
    "### Our second algorithm: a worthy alternative\n",
    "\n",
    "In the last section, we answered whether a list included a target number by moving through each element in the list, one by one.  Our function looked like the following:"
   ]
  },
  {
   "cell_type": "code",
   "execution_count": 7,
   "metadata": {},
   "outputs": [],
   "source": [
    "elements = [3, 1, 9, 0, 2, 6, 4]\n",
    "target = 6\n",
    "\n",
    "def is_in(elements, target):\n",
    "    for element in elements:\n",
    "        if element == target:\n",
    "            return True\n",
    "    else:\n",
    "        return False"
   ]
  },
  {
   "cell_type": "code",
   "execution_count": null,
   "metadata": {},
   "outputs": [
    {
     "data": {
      "text/plain": [
       "True"
      ]
     },
     "execution_count": 6,
     "metadata": {},
     "output_type": "execute_result"
    }
   ],
   "source": [
    "is_in(elements, target)"
   ]
  },
  {
   "cell_type": "markdown",
   "metadata": {},
   "source": [
    "Let's say that given a list of numbers say `[1, 2, 3]`, we want a function that multiplies each number by every other number in the list -- including itself.  \n",
    "\n",
    "So given the list above we should have an output of:"
   ]
  },
  {
   "cell_type": "code",
   "execution_count": 2,
   "metadata": {},
   "outputs": [
    {
     "data": {
      "text/plain": [
       "[1, 2, 3, 2, 4, 6, 3, 6, 9]"
      ]
     },
     "execution_count": 2,
     "metadata": {},
     "output_type": "execute_result"
    }
   ],
   "source": [
    "[1*1, 1*2, 1*3, 2*1, 2*2, 2*3, 3*1, 3*2, 3*3]"
   ]
  },
  {
   "cell_type": "markdown",
   "metadata": {},
   "source": [
    "To achieve this we can use a nested loop:"
   ]
  },
  {
   "cell_type": "code",
   "execution_count": 6,
   "metadata": {},
   "outputs": [
    {
     "name": "stdout",
     "output_type": "stream",
     "text": [
      "1 1\n",
      "1 2\n",
      "1 3\n",
      "2 1\n",
      "2 2\n",
      "2 3\n",
      "3 1\n",
      "3 2\n",
      "3 3\n"
     ]
    },
    {
     "data": {
      "text/plain": [
       "[1, 2, 3, 2, 4, 6, 3, 6, 9]"
      ]
     },
     "execution_count": 6,
     "metadata": {},
     "output_type": "execute_result"
    }
   ],
   "source": [
    "elements = [1, 2, 3]\n",
    "\n",
    "def all_products(elements):\n",
    "    products = []\n",
    "    for first_multiplier in elements:\n",
    "        for second_multiplier in elements:\n",
    "            print(first_multiplier, second_multiplier)\n",
    "            product = first_multiplier * second_multiplier\n",
    "            products.append(product)\n",
    "            \n",
    "    return products\n",
    "\n",
    "all_products(elements)"
   ]
  },
  {
   "cell_type": "markdown",
   "metadata": {},
   "source": [
    "How long does the above take?  Well for each of the three elements of the list, we need to move through all other elements in the list.  So the cost is 3 x 3 = 9.  And regardless of the size of the list, our cost will be $n * n$ or $n^2$.  \n",
    "\n",
    "> To understand the above better, try different sized inputs like `[1, 2, 3, 4]` and confirm that the cost is $4^2 = 16$."
   ]
  },
  {
   "cell_type": "markdown",
   "metadata": {},
   "source": [
    "### Calculating the Time Complexity"
   ]
  },
  {
   "cell_type": "markdown",
   "metadata": {},
   "source": [
    "Now let's calculate the time complexity for both functions.  As we'll see, our two functions are quite different in terms how performant they are.  Let's move through it.\n",
    "\n",
    "  1. *Consider the worse case scenario in both functions*\n",
    "  \n",
    "As we know, the worst case scenario for our `is_in` function is when the target element is in the last position.  And for this new `all_products` function, we always have to go through all of the elements -- so we are always in the worst case scenario, so to speak.\n",
    "     \n",
    " 2. *Calculate the cost as the size of our input varies*\n",
    "\n",
    "Ok, so we already concluded the cost of our `is_in` function was $n + 1$ where n is the length of the list.  And as we saw earlier, the cost of our `all_products` function is $n^2$ as we multiply each element by all of the other n elements."
   ]
  },
  {
   "cell_type": "markdown",
   "metadata": {},
   "source": [
    "It turns out the a big o of $n^2$ is drastically more costly than a big o of $n$.  To see this look at the chart below."
   ]
  },
  {
   "cell_type": "markdown",
   "metadata": {},
   "source": [
    "\n",
    "| Input size (n) | is_in | all_products\n",
    "| ------------- |-------------|-------------|\n",
    "| 1 | 1 | 1| \n",
    "| 2 | 2 | 4|\n",
    "| 4 | 4 | 16|\n",
    "| 8 | 8 | 64 |\n",
    "| 100 | 100 | 10,000|\n",
    "| 2000 | 2000 | 4,000,000\n",
    "|10,000| 10,000 | 100,000,000"
   ]
  },
  {
   "cell_type": "markdown",
   "metadata": {},
   "source": [
    "Ok, so as you see that once we get to an input size of 100 (which really a tiny amount of data) the cost between of `all_products` is drastically more than `is_in` -- 9,990 more.  By the time we get up to 10,000 records the cost is almost 100 million more.  "
   ]
  },
  {
   "cell_type": "markdown",
   "metadata": {},
   "source": [
    "### Simplifying Time Complexity\n",
    "\n",
    "So at this point, it's pretty meaningless to state that the cost of `is_in` is $n + 1$, as oppposed to just $n$.  That extra cost of $1$ doesn't move the dial.  Even if we were to double the cost of our `is_in` function, by say adding an extra line inside of the loop, it still wouldn't matter."
   ]
  },
  {
   "cell_type": "code",
   "execution_count": null,
   "metadata": {},
   "outputs": [],
   "source": [
    "def is_in(elements, target):\n",
    "    for element in elements:\n",
    "        print('an extra line that makes the cost 2*n + 1')\n",
    "        if element == target:\n",
    "\n",
    "            return True\n",
    "    else:\n",
    "        return False"
   ]
  },
  {
   "cell_type": "markdown",
   "metadata": {},
   "source": [
    "This is because even at an input size of $10,000$, going from $10,000$ to $20,000$ isn't that significant, when a cost of $n^2$ takes us from from $10,000$ to $100$ million."
   ]
  },
  {
   "cell_type": "markdown",
   "metadata": {},
   "source": [
    "The point is, when we consider time complexity, we never care about how much we need to add or multiply by.  Rather the only number we care about is the leading exponent of our formula.  You may remember this from our Google Search a few lessons ago.\n",
    "\n",
    "![](https://s3-us-west-2.amazonaws.com/curriculum-content/web-development/algorithms/time-complexity.png)"
   ]
  },
  {
   "cell_type": "markdown",
   "metadata": {},
   "source": [
    "So we can now begin to understand that second sentence, stating that big o \"excludes coefficients and lower order terms.\"  Coefficients just mean anything that we multiply $n$ by, and exclude lower order terms means that we should only consider the \"term\" with the highest exponent.  \n",
    "\n",
    "> For example, let's say that the time complexity of our function is $5n^3 + n^2 + 100n + > log_2(n) + 100$.  \n",
    "\n",
    "> Then $n^3$, $n^2$, $100n$, $log_2(n)$ and $100$ are all \"terms\" of the function.  Excluding the lower order terms we would say that the time complexity of our function is $5n^3$, and excluding $n^3$'s coefficient of $5$ we would say that the time complexity is  $n^3$. "
   ]
  },
  {
   "cell_type": "markdown",
   "metadata": {},
   "source": [
    "Ok, so the Internet told us to exclude co-efficients and lower order terms, but can we really just get get away with that?\n",
    "\n",
    "Well let's assume the time complexity of our function and is **$n^3 + n^2 + n + log2(n) + 100$** and assume that $n = 1,000$.  "
   ]
  },
  {
   "cell_type": "code",
   "execution_count": 68,
   "metadata": {},
   "outputs": [
    {
     "data": {
      "text/plain": [
       "(1000000000, 1000000, 1000, 6.907755278982137, 100)"
      ]
     },
     "execution_count": 68,
     "metadata": {},
     "output_type": "execute_result"
    }
   ],
   "source": [
    "import numpy as np\n",
    "n = 1000\n",
    "costs_of_terms = (n**3, n**2, n, np.log(n), 100)\n",
    "costs_of_terms"
   ]
  },
  {
   "cell_type": "code",
   "execution_count": 69,
   "metadata": {},
   "outputs": [
    {
     "data": {
      "text/plain": [
       "1001001106.9077553"
      ]
     },
     "execution_count": 69,
     "metadata": {},
     "output_type": "execute_result"
    }
   ],
   "source": [
    "total_cost = sum(costs_of_terms)\n",
    "total_cost"
   ]
  },
  {
   "cell_type": "markdown",
   "metadata": {},
   "source": [
    "As you can see above, when n is 1000, the formula returns approximately 1,001,001,110. But the dominant contributor to this number is the $n^3$.\n",
    "\n",
    "Compared to $n^3$, the $n^2$ doesn't move the dial.  It accounts for just 1,000th of our overall cost.  And this is still when our n is relatively small.  Imagine if our input size were to increase to ten thousand...  \n",
    "So this is why we only consider the leading exponent when calculating the cost of our function. \n",
    "\n",
    "\n",
    "Now if we can exclude something like n², can we also exclude our leading coefficients?  The answer is yes.  Any number we multiply by won't really have an impact.    \n",
    "\n",
    "So in summary, when considering asymptoptic time complexity: \n",
    "1. We only look to the term with the largest exponent, \n",
    "2. We only consider the worse case scenario, and\n",
    "3. We ignore coefficients as well as any smaller terms.  \n",
    "\n",
    "We call this big O."
   ]
  },
  {
   "cell_type": "markdown",
   "metadata": {},
   "source": [
    "### Calculating Big O\n",
    "\n",
    "Ok, so now we have learned that when expressing the cost of an algorithm, we only consider the term with the largest exponent.  So, the next question is, is there a good technique to calculate the big O of a function?  Yes there is  \n",
    "\n",
    "Let's look at a couple of functions:"
   ]
  },
  {
   "cell_type": "code",
   "execution_count": 73,
   "metadata": {},
   "outputs": [],
   "source": [
    "def nested_loop(elements):\n",
    "    for i in elements:\n",
    "        print(i)\n",
    "        for i in elements:\n",
    "            print(i)"
   ]
  },
  {
   "cell_type": "code",
   "execution_count": 75,
   "metadata": {},
   "outputs": [],
   "source": [
    "# nested_loop([1, 2, 3])"
   ]
  },
  {
   "cell_type": "markdown",
   "metadata": {},
   "source": [
    "\n",
    "The big O of the above function is $n^2$.  The reason why is because the inner loop has a cost of three (if we pass through 1, 2, and 3).  And then how many times does the outer loop call the inner loop?  Well three times.  So we incur a cost of three, three times leading to a total cost is nine.  So moving to a list of length $n$, we go through the inner loop $n$ times, and the cost of that inner loop is $n$, giving us a total cost of $n^2$.\n",
    "\n",
    "Now let's look at $n^3$.  "
   ]
  },
  {
   "cell_type": "code",
   "execution_count": 78,
   "metadata": {},
   "outputs": [],
   "source": [
    "def further_nested_loop(elements):\n",
    "    for i in elements:\n",
    "        for i in elements:\n",
    "            print(i)\n",
    "            for i in elements:\n",
    "                print(i)"
   ]
  },
  {
   "cell_type": "markdown",
   "metadata": {},
   "source": [
    "> One way of thinking about the above function is our outer most loop goes through our two inner loops n times.  And we know that the cost of those two inner loops is $n^2$, so now our total cost is $n * n^2 = n^3$"
   ]
  },
  {
   "cell_type": "markdown",
   "metadata": {},
   "source": [
    "Here's the point: to calculate the big O of a function if each loop forces you to go through your dataset n times, *just count the number of nested loops*.  "
   ]
  },
  {
   "cell_type": "markdown",
   "metadata": {},
   "source": [
    "### Gotchas"
   ]
  },
  {
   "cell_type": "markdown",
   "metadata": {},
   "source": [
    "Here is one gotcha.  The big O of the below function is not $n^2$.  It's just $n$. Do you see why?"
   ]
  },
  {
   "cell_type": "code",
   "execution_count": 79,
   "metadata": {},
   "outputs": [],
   "source": [
    "def two_loops(elements):\n",
    "    for i in elements:\n",
    "            print(i)\n",
    "    for i in elements:\n",
    "        print(i)"
   ]
  },
  {
   "cell_type": "markdown",
   "metadata": {},
   "source": [
    "In the function above, our loop isn't nessted.  So we loop through our elements two times, giving us a big o of $2n$.  And because we ignore multipliers we have a big O of n.  "
   ]
  },
  {
   "cell_type": "markdown",
   "metadata": {},
   "source": [
    "Here is another gotcha: be careful of code that is calling methods that rely on loops.  So we saw that one such method was our `in` function."
   ]
  },
  {
   "cell_type": "code",
   "execution_count": null,
   "metadata": {},
   "outputs": [],
   "source": [
    "def remember_in(elements, target):\n",
    "    for i in elements:\n",
    "        print(target in elements)"
   ]
  },
  {
   "cell_type": "markdown",
   "metadata": {},
   "source": [
    "So the function above would really have a cost of $n^2$, as the cost of each `in` call is $n$.  Another method is anytime we sort a collection -- there we can assume the cost is `O(n * log2(n))`.\n",
    "\n",
    "> We'll discuss the cost of various Python functions in future lessons."
   ]
  },
  {
   "cell_type": "markdown",
   "metadata": {},
   "source": [
    "## Summary\n",
    "\n",
    "In this section we saw that when the input size is large (meaning over ten thousand or so), the leading exponent dominates our calculation of the cost of an algorithm, and so we can ignore considerations like smaller exponents, multipliers of an exponent and any number we need to add by.  Then we saw that we can calculate the big O of a function by generally counting the number of nested loops that ask us to traverse through each number."
   ]
  }
 ],
 "metadata": {
  "kernelspec": {
   "display_name": "Python 3 (ipykernel)",
   "language": "python",
   "name": "python3"
  },
  "language_info": {
   "codemirror_mode": {
    "name": "ipython",
    "version": 3
   },
   "file_extension": ".py",
   "mimetype": "text/x-python",
   "name": "python",
   "nbconvert_exporter": "python",
   "pygments_lexer": "ipython3",
   "version": "3.10.6"
  }
 },
 "nbformat": 4,
 "nbformat_minor": 4
}
