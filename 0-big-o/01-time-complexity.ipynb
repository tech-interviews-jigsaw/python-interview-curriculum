{
 "cells": [
  {
   "cell_type": "markdown",
   "metadata": {},
   "source": [
    "# Introduction to Time Complexity"
   ]
  },
  {
   "cell_type": "markdown",
   "metadata": {},
   "source": [
    "### Introduction"
   ]
  },
  {
   "cell_type": "markdown",
   "metadata": {},
   "source": [
    "In programming, a principle we can operate by, when writing code is to:\n",
    "\n",
    "* make it work, make it right, and then make it fast.\n",
    "\n",
    "As we may suspect, when working with larger datasets making our code fast becomes more and more of a priority.  And before we can make our code any faster, we'll need a way to calculate how long it takes to run our code in the first place.  That's what we'll introduce in this lesson.  We'll begin to learn to calculate the time complexity of a given function."
   ]
  },
  {
   "cell_type": "markdown",
   "metadata": {},
   "source": [
    "### Peaking Underneath"
   ]
  },
  {
   "cell_type": "markdown",
   "metadata": {},
   "source": [
    "Time complexity can be tricky because it often involves thinking about what is underneath a function.  For example, take a seemingly simple line of Python code below."
   ]
  },
  {
   "cell_type": "code",
   "execution_count": 5,
   "metadata": {},
   "outputs": [],
   "source": [
    "elements = [3, 4, 1, 2, 6]"
   ]
  },
  {
   "cell_type": "code",
   "execution_count": 6,
   "metadata": {},
   "outputs": [
    {
     "data": {
      "text/plain": [
       "True"
      ]
     },
     "execution_count": 6,
     "metadata": {},
     "output_type": "execute_result"
    }
   ],
   "source": [
    "6 in elements"
   ]
  },
  {
   "cell_type": "markdown",
   "metadata": {},
   "source": [
    "Ok, so for Python to calculate the above, it needs to check each number in the above list.  In fact, let's write our own function.  We'll let `elements` be our list, and `target` be our target number, like 6."
   ]
  },
  {
   "cell_type": "code",
   "execution_count": 16,
   "metadata": {},
   "outputs": [],
   "source": [
    "def is_in(elements, target):\n",
    "    for element in elements:\n",
    "        if element == target:\n",
    "            return True\n",
    "    else:\n",
    "        return False"
   ]
  },
  {
   "cell_type": "code",
   "execution_count": 19,
   "metadata": {},
   "outputs": [
    {
     "data": {
      "text/plain": [
       "(True, False)"
      ]
     },
     "execution_count": 19,
     "metadata": {},
     "output_type": "execute_result"
    }
   ],
   "source": [
    "is_in(elements, 6), is_in(elements, 9)"
   ]
  },
  {
   "cell_type": "markdown",
   "metadata": {},
   "source": [
    "> As we can see, our `is_in` function loops through each element, checks each one, and returns `True` if there is match.  If the function completes the loop and there is no match, we return `False`."
   ]
  },
  {
   "cell_type": "markdown",
   "metadata": {},
   "source": [
    "So how long does it take?  Well with our list of elements above, `[3, 4, 1, 2, 6]`, for each element we check if the `element == target`, so this occurs 6 times, and then perhaps that `return True` also costs us one step, so in total we have a cost of 7."
   ]
  },
  {
   "cell_type": "markdown",
   "metadata": {},
   "source": [
    "It's a little more complicated than just saying the cost is 7, because our `is_in` function of course can take lists of different size.  For example, if we had the following:\n",
    "\n",
    "```python\n",
    "elements = [4, 3, 6]\n",
    "target = 6\n",
    "```\n",
    "Then now we would only have to perform the `==` three times, for a total cost of four.  Generalizing from this, we can see that the cost of our function is the `length of our input + 1`, or in other words, $n + 1$.  We call this the **time complexity** of the function.\n",
    "\n",
    "> Let's take a look at the definition in Wikipedia."
   ]
  },
  {
   "cell_type": "markdown",
   "metadata": {},
   "source": [
    "<img src=\"./time-complexity.png\" width=\"60%\">"
   ]
  },
  {
   "cell_type": "markdown",
   "metadata": {},
   "source": [
    "So taking another look at the `in` function above, we can begin by estimating the type of complexity as `n + 1` as each time the length of our input increases by one, our cost increases by one."
   ]
  },
  {
   "cell_type": "code",
   "execution_count": null,
   "metadata": {},
   "outputs": [],
   "source": [
    "def is_in(elements, target):\n",
    "    for element in elements:\n",
    "        if element == target:\n",
    "            return True\n",
    "    else:\n",
    "        return False"
   ]
  },
  {
   "cell_type": "markdown",
   "metadata": {},
   "source": [
    "Now there is one thing we seem to be skipping over.  Doesn't the cost of the function depend on whether our matching element is the first element, the last, or somewhere in the middle?\n",
    "\n",
    "As we'll see in the next section, when calculating time complexity, we always go with the worst case scenario."
   ]
  },
  {
   "cell_type": "markdown",
   "metadata": {},
   "source": [
    "### Best, Average, worst?  Always Choose worst.\n",
    "\n",
    "1. **Best Case** \n",
    "\n",
    "The best case scenario for the function above is to ask if the number 6 is in the elements `[6,  3]`.  We can return True in two steps: we see that the first element matches and then we return True.  But when calculating time complexity, we don't consider the best case scenario for a good reason: under the besst case scenario we really don't need to worry about time complexity.  Our computer is able to solve the best case scenarios quickly, and so it's not necessary to worry about the best case scenarios.\n",
    "\n",
    "2. **Average Case**\n",
    "\n",
    "The average case is also rarely chosen.  This is because determining what the average case is, is tricky.  It generally requires looking at what data we are generally working with (for example is the data generally ordered), and gathering that information can be difficult when coding.  Sometimes the average case scenario is asked for -- but this is rare.\n",
    "\n",
    "3. **Worst Case** \n",
    "\n",
    "Instead, when evaluating the time complexity of an algorithm, we consider the worse case scenario.  This is because, (1) this is when the pain is felt the most and (2) we can assume the worse case scenario without considering any external data.  \n",
    "\n",
    "In our example above, this means that we should always assume the target is the last element in the list.  And with that assumption, we calculate our time complexity as a function of the length of the inputs."
   ]
  },
  {
   "cell_type": "code",
   "execution_count": 1,
   "metadata": {},
   "outputs": [],
   "source": [
    "elements = [4, 3, 6]\n",
    "target = 6"
   ]
  },
  {
   "cell_type": "markdown",
   "metadata": {},
   "source": [
    "So then looking at our code again, we can confirm that our cost is the length of the input list plus one, or $n + 1$.  \n",
    "\n",
    "> Now, it turns out that we won't consider that last `+ 1`, but we'll discuss that in the next lesson."
   ]
  },
  {
   "cell_type": "markdown",
   "metadata": {},
   "source": [
    "### Summary"
   ]
  },
  {
   "cell_type": "markdown",
   "metadata": {},
   "source": [
    "In this lesson, we were introduced to calculating the time complexity of an operation.  With time complexity, we are trying to estimate how long it takes for a function to complete.  Oftentimes, this is expressed in terms of the length of the inputs. For example, with out `is_in` function, there is an additional operation for each element in the list, so we estimate the time complexity as $n + 1$."
   ]
  },
  {
   "cell_type": "markdown",
   "metadata": {},
   "source": [
    "We then discussed how when calculating time complexity, we always focus on the worst case scenario.  This is because, this is because under the best case scenario our algorithm will be fast no matter what, and relying on the average case generally requires external data, which may be difficult to acquire.  Instead, the worse case scenario is when the time required for our function to run can be a real problem, and imagining this scenario requires no external data."
   ]
  },
  {
   "cell_type": "markdown",
   "metadata": {},
   "source": [
    "### Resoures\n",
    "\n",
    "[Time Complexity Python](https://www.ics.uci.edu/~pattis/ICS-33/lectures/complexitypython.txt)\n",
    "\n",
    "[Hacker Earth](https://www.hackerearth.com/practice/basic-programming/complexity-analysis/time-and-space-complexity/tutorial/)"
   ]
  }
 ],
 "metadata": {
  "kernelspec": {
   "display_name": "Python 3 (ipykernel)",
   "language": "python",
   "name": "python3"
  },
  "language_info": {
   "codemirror_mode": {
    "name": "ipython",
    "version": 3
   },
   "file_extension": ".py",
   "mimetype": "text/x-python",
   "name": "python",
   "nbconvert_exporter": "python",
   "pygments_lexer": "ipython3",
   "version": "3.10.6"
  }
 },
 "nbformat": 4,
 "nbformat_minor": 4
}
