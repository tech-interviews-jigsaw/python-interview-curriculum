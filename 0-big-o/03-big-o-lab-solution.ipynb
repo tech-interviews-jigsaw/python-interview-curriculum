{
 "cells": [
  {
   "cell_type": "markdown",
   "metadata": {},
   "source": [
    "# Big O Lab"
   ]
  },
  {
   "cell_type": "markdown",
   "metadata": {},
   "source": [
    "### Introduction"
   ]
  },
  {
   "cell_type": "markdown",
   "metadata": {},
   "source": [
    "In this lesson, we'll practice writing some typical methods that perhaps we have seen before in Python.  After doing so, we'll calculate the time complexity of our function."
   ]
  },
  {
   "cell_type": "markdown",
   "metadata": {},
   "source": [
    "### Find the Minimum"
   ]
  },
  {
   "cell_type": "markdown",
   "metadata": {},
   "source": [
    "Given a list find the minimum element.  \n",
    "\n",
    "> Do not use Python's `min` function."
   ]
  },
  {
   "cell_type": "code",
   "execution_count": 28,
   "metadata": {},
   "outputs": [],
   "source": [
    "original_list = [64, 39, 79, 73, 81, 42, 74, 63, 52, 36, 67]"
   ]
  },
  {
   "cell_type": "code",
   "execution_count": 23,
   "metadata": {},
   "outputs": [],
   "source": [
    "def min_list(elements):\n",
    "    pass"
   ]
  },
  {
   "cell_type": "code",
   "execution_count": 31,
   "metadata": {},
   "outputs": [],
   "source": [
    "min_list(original_list) \n",
    "# 36"
   ]
  },
  {
   "cell_type": "markdown",
   "metadata": {},
   "source": [
    "Calculate the big O of your function."
   ]
  },
  {
   "cell_type": "markdown",
   "metadata": {},
   "source": [
    "### Slicing a list"
   ]
  },
  {
   "cell_type": "code",
   "execution_count": 18,
   "metadata": {},
   "outputs": [
    {
     "data": {
      "text/plain": [
       "[36, 67]"
      ]
     },
     "execution_count": 18,
     "metadata": {},
     "output_type": "execute_result"
    }
   ],
   "source": [
    "original_list = [64, 39, 79, 73, 81, 42, 74, 63, 52, 36, 67]\n",
    "\n",
    "def slice_elements(elements, target_index, reverse = False):\n",
    "    selected_elements = []\n",
    "    if reverse:\n",
    "        for index, element in enumerate(elements):\n",
    "            if index >= len(elements) - target_index:\n",
    "                selected_elements.append(element)\n",
    "    else:\n",
    "        for index, element in enumerate(elements):\n",
    "            if index <= target_index:\n",
    "                selected_elements.append(element)\n",
    "                \n",
    "            \n",
    "    \n",
    "    return selected_elements\n",
    "        \n",
    "slice_elements(original_list, 2, False)\n",
    "\n",
    "slice_elements(original_list, 2, True)"
   ]
  },
  {
   "cell_type": "markdown",
   "metadata": {},
   "source": [
    "### Finding Uniqueness"
   ]
  },
  {
   "cell_type": "markdown",
   "metadata": {},
   "source": [
    "Now a list is unique if there are no repeating elements.  Write a function called `all_unique` below that returns True if all of the elements in a list is True and False if there are repeating elements.  \n",
    "\n",
    "> Avoid using Python's `set` operation in writing your function.    "
   ]
  },
  {
   "cell_type": "code",
   "execution_count": 18,
   "metadata": {},
   "outputs": [],
   "source": [
    "import numpy as np\n",
    "non_unique = [ -78,   81,   63,   79,  -27,   52,  -18,   20,   52,   39,   -1,\n",
    "        -48,   12,  -46,  -49,   64,   36,  -71,   73,  -70,   -8,   11,\n",
    "        -98,  -95,  -68,   67,   42,  -79,   52,  -93,   30,   67,   -4,\n",
    "        -35,   17,  -70,  -27,  -15,  -68,   74,   -1,  -44,  -67,  -94,\n",
    "        -46]\n",
    "\n",
    "unique_elements = [-98, -95, -94, -93, -79, -78, -71, -70, -68, -67, -49, -48, -46,\n",
    "       -44, -35, -27, -18, -15,  -8,  -4,  -1,  11,  12,  17,  20,  30,\n",
    "        36,  39,  42,  52,  63,  64,  67,  73,  74,  79,  81]"
   ]
  },
  {
   "cell_type": "code",
   "execution_count": 3,
   "metadata": {},
   "outputs": [],
   "source": [
    "def all_unique(elements):\n",
    "    pass"
   ]
  },
  {
   "cell_type": "code",
   "execution_count": 15,
   "metadata": {},
   "outputs": [],
   "source": [
    "all_unique(non_unique)\n",
    "# False"
   ]
  },
  {
   "cell_type": "code",
   "execution_count": 17,
   "metadata": {},
   "outputs": [],
   "source": [
    "all_unique(unique_elements)\n",
    "# True"
   ]
  },
  {
   "cell_type": "markdown",
   "metadata": {},
   "source": [
    "Then calculate the time complexity of your function.  If there are any improvements you would like to make to your code, rewrite it below. "
   ]
  },
  {
   "cell_type": "markdown",
   "metadata": {},
   "source": [
    "### Reversing a List"
   ]
  },
  {
   "cell_type": "markdown",
   "metadata": {},
   "source": [
    "Next let's write a function to reverse a list in Python.  \n",
    "\n",
    "> Do not use the `reverse` function or the slice function in doing so.  Also avoid using recursion, whatever that means."
   ]
  },
  {
   "cell_type": "code",
   "execution_count": 36,
   "metadata": {},
   "outputs": [],
   "source": [
    "original_list = [7, 2, 4, 6, 3, 3, 5, 2]"
   ]
  },
  {
   "cell_type": "code",
   "execution_count": 32,
   "metadata": {},
   "outputs": [],
   "source": [
    "def reverse_list(original_list):\n",
    "    pass"
   ]
  },
  {
   "cell_type": "code",
   "execution_count": 37,
   "metadata": {},
   "outputs": [],
   "source": [
    "reverse_list(original_list)\n",
    "\n",
    "# [2, 5, 3, 3, 6, 4, 2, 7]"
   ]
  },
  {
   "cell_type": "markdown",
   "metadata": {},
   "source": [
    "> Calculate the big o of your function."
   ]
  },
  {
   "cell_type": "markdown",
   "metadata": {},
   "source": [
    "### Reconsidering the Functions"
   ]
  },
  {
   "cell_type": "markdown",
   "metadata": {},
   "source": [
    "Now some of the functions we wrote above may be simpler if we first sort the inputs.  Which functions perhaps become easier to write by first sorting the elements in the list.  Rewrite those functions below. \n",
    "\n",
    "How does the big O of the functions change?"
   ]
  },
  {
   "cell_type": "markdown",
   "metadata": {},
   "source": [
    "### Resources\n",
    "\n",
    "[Time Complexity Resource](https://www.ics.uci.edu/~pattis/ICS-33/lectures/complexitypython.txt)"
   ]
  },
  {
   "cell_type": "markdown",
   "metadata": {},
   "source": [
    "[StackOverflow Reverse](https://stackoverflow.com/questions/5249348/creating-a-reverse-method-for-a-python-list-from-scratch)"
   ]
  }
 ],
 "metadata": {
  "kernelspec": {
   "display_name": "Python 3 (ipykernel)",
   "language": "python",
   "name": "python3"
  },
  "language_info": {
   "codemirror_mode": {
    "name": "ipython",
    "version": 3
   },
   "file_extension": ".py",
   "mimetype": "text/x-python",
   "name": "python",
   "nbconvert_exporter": "python",
   "pygments_lexer": "ipython3",
   "version": "3.10.6"
  }
 },
 "nbformat": 4,
 "nbformat_minor": 4
}
