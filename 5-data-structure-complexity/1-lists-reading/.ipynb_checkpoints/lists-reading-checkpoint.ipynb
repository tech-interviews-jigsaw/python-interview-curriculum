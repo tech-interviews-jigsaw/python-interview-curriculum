{
 "cells": [
  {
   "cell_type": "markdown",
   "id": "aboriginal-herald",
   "metadata": {},
   "source": [
    "# Lists\n",
    "\n",
    "### Introduction\n",
    "\n",
    "In this lesson, we'll consider what happens when our computer performs operations on a list -- whether retrieving elements, or adding or removing elements.  Let's get started.\n",
    "\n"
   ]
  },
  {
   "cell_type": "markdown",
   "id": "optical-divorce",
   "metadata": {},
   "source": [
    "### Lists - under the hood\n",
    "\n",
    "When we initialize a list in a programming language, the language allocates space in memory an initial list, and then points that variable's starting point in memory.\n",
    "\n",
    "In initializing the list, the program assigns a fixed amount of memory for each element.  \n",
    "\n",
    "![](https://s3.amazonaws.com/learn-verified/objects-tenElementArray.gif)\n",
    "\n",
    "For example, let's say my list say begins at memory address 100.  And that Python allocates 8 bits of space for each element in the list -- and enough space for ten elements.\n",
    "\n",
    "Ok, so given the above, let's think about how a computer can retrieve an element of a list at a specific index.\n",
    "\n",
    "```python\n",
    "letters = ['a']\n",
    "\n",
    "letters[0]\n",
    "# a\n",
    "\n",
    "```\n",
    "\n",
    "So above, we first initialize the array and assign the letter 'a' as the first element, the programming language associates the letter \"a\" to a specific location in memory.  In our example, address 100.  So then, when we call `my_arr[0]` all the program has to do is go to address 100, and retreive the element."
   ]
  },
  {
   "cell_type": "markdown",
   "id": "perceived-engagement",
   "metadata": {},
   "source": [
    "Now let's update our list to look like the following:\n",
    "\n",
    "```python\n",
    "letters = ['a', 'b', 'c', 'd']\n",
    "```"
   ]
  },
  {
   "cell_type": "markdown",
   "id": "affecting-crime",
   "metadata": {},
   "source": [
    "So now, what do you think happens if we call `my_arr[3]`, to return what is in that slot.  If the `my_arr` begins at address 100, and we allocate eight bits of space for each, at what address can we find the element at index 3?\n",
    "\n",
    "Well, we can use some algebra to figure it out.\n",
    "\n",
    "```python\n",
    "letters[3] \n",
    "\n",
    "100 + 3*8 = 124\n",
    "```"
   ]
  },
  {
   "cell_type": "markdown",
   "id": "champion-blocking",
   "metadata": {},
   "source": [
    "<img src=\"./mailboxes.jpg\" width=\"50%\">"
   ]
  },
  {
   "cell_type": "markdown",
   "id": "parliamentary-century",
   "metadata": {},
   "source": [
    "So our programming language knows that if eight bits are allocated to each element, and then to retrieve an element at a specific index, the program simply visits an address by using the following formula: \n",
    "\n",
    "* `memoryLocationOfElement = arrayStartAddress + indexNumber * bit_allocation`"
   ]
  },
  {
   "cell_type": "markdown",
   "id": "verified-electricity",
   "metadata": {},
   "source": [
    "### Manipulating list elements"
   ]
  },
  {
   "cell_type": "markdown",
   "id": "strategic-marketing",
   "metadata": {},
   "source": [
    "Now that we talked about retrieving elements from an array, let's talk about removing elements from an array.\n",
    "\n",
    "```javascript\n",
    "our_list = [1, 24, 48, 9]\n",
    "our_list.pop()  \n",
    "// 9\n",
    "\n",
    "our_list\n",
    "// [1, 24, 48]\n",
    "```\n",
    " \n",
    "Performing an operation like pop is fairly simple. Again let's assume that our array begins at memory address 100.\n",
    "\n",
    "| memory address  |100  | 108  | 116 | 124 | \n",
    "| ----            |:---:| ----:|----:|----:|\n",
    "| our_list             |  1  |  24  |  48 | 9\n",
    "| our_list.pop()         |  1  |  24  |  48 | X\n",
    "\n",
    "So removing from the end of the array, is not so bad.  But removing an element from the beginning involves a lot more.  \n",
    "\n",
    "| memory address  |100  | 108  | 116 | 124 | \n",
    "| ----            |:---:| ----:|----:|----:|\n",
    "| our_list             |  1  |  24  |  48 | 9\n",
    "| our_list.pop(0)     | 24   |  48  | 9  | X\n",
    "\n",
    "\n",
    "Looking at the chart above, removing the first element involves moving every remaining element to a new space in memory.  The cost is equal to the number of elements in the list.  So the time complexity of removing an element from the beginning of a list is big O(n).  Similarly, adding elements to the beginning of the list also costs big O(n) as every subsequent element would have to move to different spot in memory.\n",
    "\n",
    "| memory address  |100  | 108  | 116 | 124 | 132\n",
    "| ----            |:---:| ----:|----:|----:|----:|\n",
    "| our_list             |  1  |  24  |  48 | 9   |\n",
    "| our_list.append(5)  |  5   | 1   | 24  | 48  | 9\n",
    "\n",
    "So removing elements from the beginning is big O(n) and adding elements to the front is big O(n).  However, popping and finding elements take the same amount of time regardless the size of the array.  That is, the time complexity is big O(1), meaning that the cost of the operation does not depend on the number of elements in the array."
   ]
  },
  {
   "cell_type": "markdown",
   "id": "speaking-least",
   "metadata": {},
   "source": [
    "### A second problem: too many elements\n",
    "\n",
    "As we saw above, to retrieve information from a lisst, we simply need to apply the formula `startingAddress + index * bitAllocation` and go to the corresponding address.  Well, one problem that occurs with having all of these contiguous elements, is that we must allocate a specific amount of space when we create the list, say enough space for 10 elements.  So now let's think about what occurs when we want to add eleven elements?\n",
    "\n",
    "| memory address  |100  | 108  | 116 | 124 | 132 | 140\n",
    "| ----            |:---:| ----:|----:|----:|----:|----:|\n",
    "| our_list             |  1  |  24  |  48 | 9   | 32  | img.jpg\n",
    "| our_list.append(5)     |  1  |  24  |  48 | 9   | 32  | img.jpg\n",
    "\n",
    "Do you see our problem?  We want to push another element, but something else is on those eight bits.  If we move our new element to a different location, our formula for retrieving elements no longer works.  Instead what we do, is copy our array into a new location in memory where there is enough space.  However, notice that the cost of doing this is big O(n) as we must incur a cost for each element we copy over.  \n",
    "\n",
    "| new memory address with wide open space |300  | 308  | 316 | 324 | 332 | 340\n",
    "| ----            |:---:| ----:|----:|----:|----:|----:|\n",
    "| arr             |  1  |  24  |  48 | 9   | 32  | \n",
    "| arr.push(5)     |  1  |  24  |  48 | 9   | 32  | 5"
   ]
  },
  {
   "cell_type": "markdown",
   "id": "extraordinary-retirement",
   "metadata": {},
   "source": [
    "### Summary \n",
    "We saw in this section that some of the strengths and weaknesses of using a list.  Retrieving elements by index and adding elements to the end of the array has a time complexity of big O(1), while adding or removing elements at the beginning of a list is big O(n).  We also saw that because operations in our array rely on using neighboring locations in memory, we can run out of space.\n",
    "\n",
    "But do not despair, there is alternative data structure that does not rely on elements having contiguous memory addresses and is less costly for adding and removing elements from the beginning. That is a dictionary, or a hash -- we'll learn about this in the next lesson."
   ]
  }
 ],
 "metadata": {
  "kernelspec": {
   "display_name": "Python 3",
   "language": "python",
   "name": "python3"
  },
  "language_info": {
   "codemirror_mode": {
    "name": "ipython",
    "version": 3
   },
   "file_extension": ".py",
   "mimetype": "text/x-python",
   "name": "python",
   "nbconvert_exporter": "python",
   "pygments_lexer": "ipython3",
   "version": "3.8.6"
  }
 },
 "nbformat": 4,
 "nbformat_minor": 5
}
