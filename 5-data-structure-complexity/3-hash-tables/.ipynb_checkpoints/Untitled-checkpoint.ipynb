{
 "cells": [
  {
   "cell_type": "markdown",
   "id": "awful-season",
   "metadata": {},
   "source": [
    "## Hash Table"
   ]
  },
  {
   "cell_type": "markdown",
   "id": "small-finance",
   "metadata": {},
   "source": [
    "### Hash Tables\n",
    "\n",
    "\n",
    "In this lesson we'll go a little bit deeper into a dictionary -- also known as a hash.  A hash uses a hash table, which is where information related to a key is assigned to a specific index.  \n",
    "\n",
    "And for a hash to work, we use a **hash function** to determine where exactly to store a information related to that key.  Later, use the same hash function to determine where to search for a given key."
   ]
  },
  {
   "cell_type": "markdown",
   "id": "alive-visiting",
   "metadata": {},
   "source": [
    "### A library as an analogy\n",
    "\n",
    "One way to think about how hashes relate to hash functions is thinking about how we find a book in a library.  We do this by telling a librarian the title and author of a book, and the librarian tells us precisely where to find the book.\n",
    "\n",
    "![](https://s3-us-west-2.amazonaws.com/curriculum-content/algorithms/dewey-decimal-arrangement.jpg)\n",
    "\n",
    "So here, the key is the title and author of the book, which then corresponds to a card catalogue id.  The card catalogue id (which comes from the Dewey Decimal System above) tells us exactly where to find the book.  If the book is there, we have our book and all of the information inside.  If nothing is there, there is no book.\n",
    "\n",
    "So let's start with inserting some books.  We have the following books: *The Bible*, *Alexander Hamilton*, *Introduction to Physics*, and *War and Peace*.  Based on our hash function, we store the books in the following locations:\n",
    "\n",
    "| Index        |Book           |\n",
    "| ------------- |:-------------:|\n",
    "| 000 |  |\n",
    "| 100 |  |\n",
    "| 200 | *The Bible*|\n",
    "| 300 | |\n",
    "| 400 | |\n",
    "| 500 | *Introduction to Physics*|\n",
    "| 600 | |\n",
    "| 700 | |\n",
    "| 800 | *War and Peace* |\n",
    "| 900 | *Alexander Hamilton*|\n",
    "\n",
    "We can see that while the Dewey Decimal System assigns us one of a range of numbers, we adapt its formula to store each book at the lowest number possible for each section.  So based on that, The Bible is assigned 200, because it falls under religion.  Accordingly, we also assign Introduction to Physics number 500, War and Peace 800 and Alexander Hamilton 900.\n",
    "\n",
    "Because we assigned each of our books according to this formula, when we retrieve a book, we do not need to look through every index to find our books, instead we just look at the place of the book based on the Dewey Decimal System.\n",
    "\n",
    "![](https://s3.amazonaws.com/learn-verified/geroge-peabody-library-horizontal-large-gallery.jpg)\n",
    "> A massive library"
   ]
  },
  {
   "cell_type": "markdown",
   "id": "associate-costume",
   "metadata": {},
   "source": [
    "So we use our formula to tell us both where to insert a book.\n",
    "\n",
    "And we also use our formula to know if a book exists in our collection.  If someone asks us if *Learn Python* is in our hash table, we simply visit our index at location 600, see that nothing is there, and can confidently reply that the book is not located there.  Because our formula tells us where to retrieve a book, we are able to retrieve and insert an element in constant time.\n",
    "\n",
    "So with a hash table, we look at the value of our key, run it through our hash function to determine where to place the element and associated data.  Later, we also use the key, combined with our hash function to indicate where to retrieve this data.  With this process we achieve our goal of constant time for inserting and retrieving elements irrespective of the number of elements in our collection.\n",
    "\n",
    "#### The Problem: Collision\n",
    "\n",
    "Our hash table currently looks like the following:\n",
    "\n",
    "| Index        |Book           |\n",
    "| ------------- |:-------------:|\n",
    "| 000 |  |\n",
    "| 100 |  |\n",
    "| 200 | *The Bible*|\n",
    "| 300 | |\n",
    "| 400 | |\n",
    "| 500 | *Introduction to Physics*|\n",
    "| 600 | |\n",
    "| 700 | |\n",
    "| 800 | *War and Peace* |\n",
    "| 900 | *Alexander Hamilton*|\n",
    "\n",
    "Now what happens if we need to store another book, this time *Introduction to Biology*.  Well, our adapted Dewey Decimal System tells us to store the key at precisely index 500.  The only problem is that the slot is already filled.  We have just encountered a **collision**.  A collision is where our hash function outputs an index that already is assigned to another key in our hash table.  \n",
    "\n",
    "To handle our collision we apply a technique called *separate chaining*.  With separate chaining, each index points to a linked list.  So in our example above we could place both *Introduction to Physics* and *Introduction to Biology* in the place linked list is located at index 500.  Applying the separate chaining technique, our hash table looks like the following:  \n",
    "\n",
    "| Index        |Book           |\n",
    "| ------------- |:-------------:|\n",
    "| 000 |  |\n",
    "| 100 |  |\n",
    "| 200 | [ \"*The Bible*\" ]|\n",
    "| 300 | |\n",
    "| 400 | |\n",
    "| 500 | [ \"*Introduction to Physics*\", \"*Introduction to Biology*\" ]|\n",
    "| 600 | |\n",
    "| 700 | |\n",
    "| 800 | [ \"*War and Peace*\" ]|\n",
    "| 900 | [ \"*Alexander Hamilton*\" ]|\n",
    "\n",
    "Note that in the worse case scenario, all of our inserted elements collide and we have to traverse a linked list of length n to retrieve an element, so we have O(n).  However, on average collisions do not occur, so we retrieve constant time for lookup, insertion and deletion *on average*.  \n",
    "\n",
    "### Choosing a good hash function\n",
    "\n",
    "Going forward, we should choose a hash function that minimizes the chance of a collision occurring.  Some properties of a good hash function.\n",
    "\n",
    "1. Makes use of all information provided by a given key to maximize the number of possible hash values.  Note that the real Dewey Decimal System does a better job at this: different titles by different authors map to different values.\n",
    "2. Maps similar keys to very different values - making collisions much less likely.\n",
    "4. Also because hash functions are called frequently they should employ simple and quick translations.  \n",
    "\n",
    "### Summary\n",
    "\n",
    "In this function we learned about hash tables.  Hash tables place the value of an element into a hash function which outputs a hash value.  The hash value determines where to place the element.  Because a hash function produces the same hash value for a given element, it also gives us fast lookup time to retrieve an element.  \n",
    "\n",
    "When a hash function outputs the same hash value for two different elements we have a collision.  We can resolve a collision by employing separate chaining where each hash value points to a linked list, and when there is a collision we attach the element to the linked list.  \n",
    "\n",
    "Because retrieving elements from a linked list is O(n), we try to choose a hash function that avoids collisions.  Because we must use our hash function to insert, delete, and retrieve elements we also choose a fast hash function."
   ]
  },
  {
   "cell_type": "markdown",
   "id": "related-simulation",
   "metadata": {},
   "source": [
    "[Hash table](https://www.hackerearth.com/practice/data-structures/hash-tables/basics-of-hash-tables/tutorial/)"
   ]
  }
 ],
 "metadata": {
  "kernelspec": {
   "display_name": "Python 3",
   "language": "python",
   "name": "python3"
  },
  "language_info": {
   "codemirror_mode": {
    "name": "ipython",
    "version": 3
   },
   "file_extension": ".py",
   "mimetype": "text/x-python",
   "name": "python",
   "nbconvert_exporter": "python",
   "pygments_lexer": "ipython3",
   "version": "3.8.6"
  }
 },
 "nbformat": 4,
 "nbformat_minor": 5
}
