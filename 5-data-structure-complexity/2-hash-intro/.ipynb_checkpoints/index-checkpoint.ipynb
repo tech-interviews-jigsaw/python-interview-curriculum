{
 "cells": [
  {
   "cell_type": "markdown",
   "id": "hispanic-priest",
   "metadata": {},
   "source": [
    "## Understanding Dictionaries\n",
    "\n",
    "### What is a dictionary \n",
    "\n",
    "A dictionary is a data structure that supports key-based lookup.  This means that given a key, it retrieves a value.  If there is no key, then it knows that nothing has been stored at that key.    \n"
   ]
  },
  {
   "cell_type": "markdown",
   "id": "threatened-experiment",
   "metadata": {},
   "source": [
    "```python\n",
    "dictionary = {'foo': 'bar'}\n",
    "dictionary['foo']\n",
    "# bar\n",
    "\n",
    "dictionary['other']\n",
    "# KeyError: 'other'\n",
    "```"
   ]
  },
  {
   "cell_type": "markdown",
   "id": "industrial-antique",
   "metadata": {},
   "source": [
    "### Why Dictionaries \n",
    "\n",
    "##### The problem with lists \n",
    "\n",
    "Arrays are very good at looking up elements at a specific index.  So for example, if we want to find the element in the third slot we can access that element in the list.  Now, this works quite well if say, we have a list of student gpas, from highest to lowest, and we are asked, 'What is the third highest gpa in a high school class'.  We can answer this question with one operation.\n",
    "\n",
    "```python \n",
    "gpas = [3.9, 3.2, 2.1, 1.3]\n",
    "gpas[2]\n",
    "\n",
    "```\n",
    "\n",
    "However, when we want to see if a person with a given name is in a high school class.  Now, even if those names are sorted, we can no longer answer the question so easily.  Instead, we would have to look through some of the elements, perhaps by employing binary search.  \n",
    "\n",
    "This takes O(log n) time, as with binary search we cut the sorted array in half with each attempt until we find the matching elements.  So is O(log n) the fastest way for us to see if an element is in an array.\n",
    "\n",
    "```python \n",
    "students = ['Alex', 'Ian', 'Johann', 'Leigh', 'Sam', 'Steven']\n",
    "binary_search(students, 'Leigh')\n",
    "# True\n",
    "```"
   ]
  },
  {
   "cell_type": "markdown",
   "id": "approved-antique",
   "metadata": {},
   "source": [
    "##### A Better Way\n",
    "\n",
    "Well, maybe on second thought, there is another way.  Maybe the way to determine if an element is in an array is to pre-assign a name to a given slot.  For example, if the name Bob is in an array, it must be in the second slot.  The name Fred must be in the fifth slot.  Now, as you may notice a coupled of things.\n",
    "\n",
    "1. First, with a large high school class, there will be too many names to simply remember precisely the index for each name.  Instead, we likely need some **formula** to know precisely where to find a given name.\n",
    "\n",
    "2.  Second, once we present this key to our formula, and it tells us the index to examine, note that we could store whatever we want in the index.  For example, say that someone with the name Bob is always found in the third slot of the array.  We can store his gpa, or his telephone number, or whatever we want there.  That means that there bob is there, and he has the associated data that's in the slot.  To represent nothing there is no bob, we simply have nothing in the slot.  The cost of this is O(1).  This is because once we know exactly where to look, finding the right element is not dependent on the number of elements in the collection.\n",
    "\n",
    "\n",
    "That my friends, is a dictionary: key value pairs, and a formula to tell us when given a key, where to find the associated data.  We'll explore these same concepts in more detail in the next section.\n",
    "\n",
    "### Summary\n",
    "\n",
    "Lists provide a lot of use to us.  However, where they really shine is with ordered elements.  However, even with a sorted list, determining whether an element is in a list has us use binary search which occurs in O(log n) time.  Dictionaries (AKA hashes) allow us to determine if something is in our collection in O(1) time, and we can look up that element with a key that maps to a precise location.  "
   ]
  }
 ],
 "metadata": {
  "kernelspec": {
   "display_name": "Python 3",
   "language": "python",
   "name": "python3"
  },
  "language_info": {
   "codemirror_mode": {
    "name": "ipython",
    "version": 3
   },
   "file_extension": ".py",
   "mimetype": "text/x-python",
   "name": "python",
   "nbconvert_exporter": "python",
   "pygments_lexer": "ipython3",
   "version": "3.8.6"
  }
 },
 "nbformat": 4,
 "nbformat_minor": 5
}
