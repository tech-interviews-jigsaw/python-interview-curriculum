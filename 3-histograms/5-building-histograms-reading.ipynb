{
 "cells": [
  {
   "cell_type": "markdown",
   "id": "0ea12872-23c2-423c-ad5d-f41c91285af0",
   "metadata": {},
   "source": [
    "# Building Histograms Reading"
   ]
  },
  {
   "cell_type": "markdown",
   "id": "f2fcb512-fa7b-4c75-a667-6e435bc9a705",
   "metadata": {},
   "source": [
    "### Introduction"
   ]
  },
  {
   "cell_type": "markdown",
   "id": "bae4b5e1-0574-48d3-97a5-d1ac101a8d21",
   "metadata": {},
   "source": [
    "In this lesson, we'll walk through building histograms."
   ]
  },
  {
   "cell_type": "markdown",
   "id": "8d9a58b5-ca37-4c04-9bc8-3c43315eeed9",
   "metadata": {},
   "source": [
    "### Reviewing the Problem"
   ]
  },
  {
   "cell_type": "markdown",
   "id": "14495536-da06-4808-8c44-b8397965e81b",
   "metadata": {},
   "source": [
    "So we'll start with our list of M&Ms, and want to count up how many times each color appears.  So given an input like the following:"
   ]
  },
  {
   "cell_type": "code",
   "execution_count": 8,
   "id": "932b09a7-2359-48a1-aed8-ad45b965c94d",
   "metadata": {},
   "outputs": [],
   "source": [
    "candies = ['red', 'yellow', 'orange', 'yellow', 'yellow', 'brown', 'red', 'blue', 'red']"
   ]
  },
  {
   "cell_type": "markdown",
   "id": "61e8f5b0-ecd4-453b-bd41-9d752ce7407a",
   "metadata": {},
   "source": [
    "We can pass it through our function."
   ]
  },
  {
   "cell_type": "code",
   "execution_count": 1,
   "id": "82c19047-792b-43b3-ae38-45a25e77494f",
   "metadata": {},
   "outputs": [],
   "source": [
    "def build_histogram(candies):\n",
    "    pass"
   ]
  },
  {
   "cell_type": "markdown",
   "id": "efd2213c-dd55-45a4-ab99-acdf2a514a5f",
   "metadata": {},
   "source": [
    "And get something like the following."
   ]
  },
  {
   "cell_type": "code",
   "execution_count": 19,
   "id": "438fe755-778d-4a12-a82b-a5c77cea6e4b",
   "metadata": {},
   "outputs": [],
   "source": [
    "histogram = {'blue': 1, 'orange': 1, 'red': 3, 'brown': 1, 'yellow': 3}"
   ]
  },
  {
   "cell_type": "markdown",
   "id": "b0f950db-5d27-4ae6-a6fa-3005fa6e1b25",
   "metadata": {},
   "source": [
    "### Determine a Skeleton"
   ]
  },
  {
   "cell_type": "markdown",
   "id": "501f1650-b8bf-46e7-82d7-5b43e091e45f",
   "metadata": {},
   "source": [
    "The first step is to build a skeleton, or a placeholder.  By this we mean a data structure that is in the proper format for us to ultimately fill with data. "
   ]
  },
  {
   "cell_type": "markdown",
   "id": "057c5d39-391c-4465-b00b-a98bade51a4b",
   "metadata": {},
   "source": [
    "For this problem a good skeleton would look like the following:"
   ]
  },
  {
   "cell_type": "code",
   "execution_count": 3,
   "id": "f69c2374-e3df-4295-bc82-638099e315cb",
   "metadata": {},
   "outputs": [],
   "source": [
    "histogram = {'blue': 0, 'orange': 0, 'red': 0, 'brown': 0, 'yellow': 0}"
   ]
  },
  {
   "cell_type": "markdown",
   "id": "f5e9b751-0644-472c-ad3a-e05dfd73ab7e",
   "metadata": {},
   "source": [
    "Do you see how this makes sense.  Once we have all of the colors listed, we'll then just need to count up the corresponding values for each color.  But getting to this skeleton will accomplish a lot of the work.  \n",
    "\n",
    "So the first step is to set all of the keys in a dictionary with an initial value of zero.  So how do we do that?"
   ]
  },
  {
   "cell_type": "markdown",
   "id": "04588529-df13-4db0-854b-ba5b9a55a62d",
   "metadata": {},
   "source": [
    "### Build the skeleton"
   ]
  },
  {
   "cell_type": "markdown",
   "id": "49370405-7e91-4446-9df2-cfa077c7c1b8",
   "metadata": {},
   "source": [
    "Here's one way to accomplish this."
   ]
  },
  {
   "cell_type": "markdown",
   "id": "4659d422-dc3d-4217-98ba-51514918a3c4",
   "metadata": {},
   "source": [
    "> First get a unique list of candies."
   ]
  },
  {
   "cell_type": "code",
   "execution_count": 9,
   "id": "374452fc-2ae8-4ad3-86c9-7b798212ae22",
   "metadata": {},
   "outputs": [
    {
     "data": {
      "text/plain": [
       "{'blue', 'brown', 'orange', 'red', 'yellow'}"
      ]
     },
     "execution_count": 9,
     "metadata": {},
     "output_type": "execute_result"
    }
   ],
   "source": [
    "unique_colors = set(candies)\n",
    "unique_colors"
   ]
  },
  {
   "cell_type": "markdown",
   "id": "4b61f2c8-58f9-495d-8ddd-0eed447a51a1",
   "metadata": {},
   "source": [
    "Then create a dictionary and set each value to zero."
   ]
  },
  {
   "cell_type": "code",
   "execution_count": 15,
   "id": "51fe7265-3c44-4945-9985-1c945dc722fd",
   "metadata": {},
   "outputs": [],
   "source": [
    "hist = {}\n",
    "for color in unique_colors:\n",
    "    hist[color] = 0"
   ]
  },
  {
   "cell_type": "code",
   "execution_count": 16,
   "id": "8f6869ac-0277-4717-bb31-87a9c975d669",
   "metadata": {},
   "outputs": [
    {
     "data": {
      "text/plain": [
       "{'blue': 0, 'orange': 0, 'red': 0, 'brown': 0, 'yellow': 0}"
      ]
     },
     "execution_count": 16,
     "metadata": {},
     "output_type": "execute_result"
    }
   ],
   "source": [
    "hist"
   ]
  },
  {
   "cell_type": "code",
   "execution_count": 17,
   "id": "2e1db69c-989b-41d7-aea7-2dad13a05eec",
   "metadata": {},
   "outputs": [],
   "source": [
    "for candy in candies:\n",
    "    hist[candy] += 1"
   ]
  },
  {
   "cell_type": "code",
   "execution_count": 18,
   "id": "eb193a94-aa4e-40cd-95f7-4fefd3d16dca",
   "metadata": {},
   "outputs": [
    {
     "data": {
      "text/plain": [
       "{'blue': 1, 'orange': 1, 'red': 3, 'brown': 1, 'yellow': 3}"
      ]
     },
     "execution_count": 18,
     "metadata": {},
     "output_type": "execute_result"
    }
   ],
   "source": [
    "hist"
   ]
  },
  {
   "cell_type": "markdown",
   "id": "291c84d7-39e7-416f-8d4c-469642a88591",
   "metadata": {},
   "source": [
    "### Rebuilding the skeleton"
   ]
  },
  {
   "cell_type": "markdown",
   "id": "98f8d32f-49c5-46c8-9328-17454ea64c87",
   "metadata": {},
   "source": [
    "Above we saw one way to build the skeleton like so."
   ]
  },
  {
   "cell_type": "code",
   "execution_count": 2,
   "id": "4bfc3ac1-4903-4b87-abc8-8113b51b02b1",
   "metadata": {},
   "outputs": [
    {
     "data": {
      "text/plain": [
       "{'red': 0, 'yellow': 0, 'brown': 0, 'blue': 0, 'orange': 0}"
      ]
     },
     "execution_count": 2,
     "metadata": {},
     "output_type": "execute_result"
    }
   ],
   "source": [
    "candies = ['red', 'yellow', 'orange', 'yellow', 'yellow', 'brown', 'red', 'blue', 'red']\n",
    "\n",
    "unique_colors = set(candies)\n",
    "\n",
    "hist = {}\n",
    "for color in unique_colors:\n",
    "    hist[color] = 0\n",
    "    \n",
    "hist"
   ]
  },
  {
   "cell_type": "markdown",
   "id": "772496db-62f6-4a98-8a8e-5c0ba616834e",
   "metadata": {},
   "source": [
    "Another way to build this initial data structure is with the `fromkeys` method. "
   ]
  },
  {
   "cell_type": "code",
   "execution_count": 5,
   "id": "f4cab507-f8ae-494b-98a4-f972acaa943b",
   "metadata": {},
   "outputs": [
    {
     "data": {
      "text/plain": [
       "{'red': 0, 'yellow': 0, 'orange': 0, 'brown': 0, 'blue': 0}"
      ]
     },
     "execution_count": 5,
     "metadata": {},
     "output_type": "execute_result"
    }
   ],
   "source": [
    "candies = ['red', 'yellow', 'orange', 'yellow', 'yellow', 'brown', 'red', 'blue', 'red']\n",
    "\n",
    "initial_hist = dict.fromkeys(candies, 0)\n",
    "initial_hist"
   ]
  },
  {
   "cell_type": "markdown",
   "id": "58b9b997-2228-45b1-ab97-54925fce5488",
   "metadata": {},
   "source": [
    "So we can see if we pass through the initial list, and the default value for each key, we get back the same initial histogram.  And from there, we can again iterate through our list of values, incrementing by one each time. "
   ]
  },
  {
   "cell_type": "code",
   "execution_count": 6,
   "id": "3857a48f-be70-4925-90ce-85481e4a1eab",
   "metadata": {},
   "outputs": [
    {
     "data": {
      "text/plain": [
       "{'red': 3, 'yellow': 3, 'orange': 1, 'brown': 1, 'blue': 1}"
      ]
     },
     "execution_count": 6,
     "metadata": {},
     "output_type": "execute_result"
    }
   ],
   "source": [
    "for candy in candies:\n",
    "    initial_hist[candy] += 1\n",
    "    \n",
    "initial_hist"
   ]
  },
  {
   "cell_type": "markdown",
   "id": "7a463281-9efa-4487-abd0-5fc3cffebfba",
   "metadata": {},
   "source": [
    "### The Counter"
   ]
  },
  {
   "cell_type": "markdown",
   "id": "4499ffec-948a-485f-b201-3b0c02dfd7b0",
   "metadata": {},
   "source": [
    "Finally, Python does have a built in class that given a list will produce this histogram.  "
   ]
  },
  {
   "cell_type": "code",
   "execution_count": 7,
   "id": "2cb56b40-e3eb-4b17-94ff-e1e4634728e6",
   "metadata": {},
   "outputs": [],
   "source": [
    "from collections import Counter"
   ]
  },
  {
   "cell_type": "code",
   "execution_count": 11,
   "id": "da17be3f-40dd-4f13-82d2-b06d69d7a3d7",
   "metadata": {},
   "outputs": [
    {
     "data": {
      "text/plain": [
       "Counter({'red': 3, 'yellow': 3, 'orange': 1, 'brown': 1, 'blue': 1})"
      ]
     },
     "execution_count": 11,
     "metadata": {},
     "output_type": "execute_result"
    }
   ],
   "source": [
    "counter = Counter(candies)\n",
    "\n",
    "counter"
   ]
  },
  {
   "cell_type": "markdown",
   "id": "9a1913ce-6e5e-408f-8e86-1a6209ab169f",
   "metadata": {},
   "source": [
    "And if we want, we can easily turn this into a dictionary."
   ]
  },
  {
   "cell_type": "code",
   "execution_count": 12,
   "id": "73137df0-0e5b-4aa0-84a8-ce44bddb5289",
   "metadata": {},
   "outputs": [
    {
     "data": {
      "text/plain": [
       "{'red': 3, 'yellow': 3, 'orange': 1, 'brown': 1, 'blue': 1}"
      ]
     },
     "execution_count": 12,
     "metadata": {},
     "output_type": "execute_result"
    }
   ],
   "source": [
    "dict(counter)"
   ]
  },
  {
   "cell_type": "markdown",
   "id": "e257742a-b22c-4c48-a3e3-d71f8ebfd997",
   "metadata": {},
   "source": [
    "In general, we recommend not leaning on the Counter class when practicing these labs.  It may not be available to you in an interview."
   ]
  }
 ],
 "metadata": {
  "kernelspec": {
   "display_name": "Python 3 (ipykernel)",
   "language": "python",
   "name": "python3"
  },
  "language_info": {
   "codemirror_mode": {
    "name": "ipython",
    "version": 3
   },
   "file_extension": ".py",
   "mimetype": "text/x-python",
   "name": "python",
   "nbconvert_exporter": "python",
   "pygments_lexer": "ipython3",
   "version": "3.9.10"
  }
 },
 "nbformat": 4,
 "nbformat_minor": 5
}
