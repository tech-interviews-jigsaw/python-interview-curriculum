{
 "cells": [
  {
   "cell_type": "markdown",
   "id": "several-office",
   "metadata": {},
   "source": [
    "# Two Sum Problem"
   ]
  },
  {
   "cell_type": "markdown",
   "id": "confident-hebrew",
   "metadata": {},
   "source": [
    "Given a list of numbers, find every pair of numbers that adds up to a given target."
   ]
  },
  {
   "cell_type": "markdown",
   "id": "royal-evolution",
   "metadata": {},
   "source": [
    "* Example"
   ]
  },
  {
   "cell_type": "code",
   "execution_count": null,
   "id": "breeding-behalf",
   "metadata": {},
   "outputs": [],
   "source": [
    "nums = [1, 2, -2, 5,  -10]\n",
    "target = 3"
   ]
  },
  {
   "cell_type": "code",
   "execution_count": 1,
   "id": "widespread-bachelor",
   "metadata": {},
   "outputs": [],
   "source": [
    "# return value -> [(2, 1), (-2, 5)]"
   ]
  }
 ],
 "metadata": {
  "kernelspec": {
   "display_name": "Python 3",
   "language": "python",
   "name": "python3"
  },
  "language_info": {
   "codemirror_mode": {
    "name": "ipython",
    "version": 3
   },
   "file_extension": ".py",
   "mimetype": "text/x-python",
   "name": "python",
   "nbconvert_exporter": "python",
   "pygments_lexer": "ipython3",
   "version": "3.8.6"
  }
 },
 "nbformat": 4,
 "nbformat_minor": 5
}
