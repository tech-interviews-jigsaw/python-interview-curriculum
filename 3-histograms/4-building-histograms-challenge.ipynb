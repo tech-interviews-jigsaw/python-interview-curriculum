{
 "cells": [
  {
   "cell_type": "markdown",
   "id": "0ea12872-23c2-423c-ad5d-f41c91285af0",
   "metadata": {},
   "source": [
    "# Building Histograms"
   ]
  },
  {
   "cell_type": "markdown",
   "id": "f2fcb512-fa7b-4c75-a667-6e435bc9a705",
   "metadata": {},
   "source": [
    "### Introduction"
   ]
  },
  {
   "cell_type": "markdown",
   "id": "eee90206-a1b7-47ab-8a29-7fe49ac169f4",
   "metadata": {},
   "source": [
    "Now so far we have used the brute force technique to try all possible combinations and come to a solution.  Sometimes, we can write more efficient and simpler algorithms by coercing our data.  One typical coercion is to convert a list into a histogram.  \n",
    "\n",
    "A histogram is a dictionary that has key value pairs of the element and the number of times that the element appears.\n",
    "\n",
    "In this lesson we'll practice building a histogram."
   ]
  },
  {
   "cell_type": "markdown",
   "id": "489e849f-1868-40a9-b8f4-dd194543a42a",
   "metadata": {},
   "source": [
    "### Building our Histogram"
   ]
  },
  {
   "cell_type": "markdown",
   "id": "14495536-da06-4808-8c44-b8397965e81b",
   "metadata": {},
   "source": [
    "Let's say that we have a list of M&Ms, and we would like to count up how many times each color appears.\n",
    "\n",
    "So give an input like this."
   ]
  },
  {
   "cell_type": "code",
   "execution_count": 8,
   "id": "932b09a7-2359-48a1-aed8-ad45b965c94d",
   "metadata": {},
   "outputs": [],
   "source": [
    "candies = ['red', 'yellow', 'orange', 'yellow', 'yellow', 'brown', 'red', 'blue', 'red']"
   ]
  },
  {
   "cell_type": "code",
   "execution_count": 2,
   "id": "86eca4de-b28c-42a1-bc8f-f695082493a7",
   "metadata": {},
   "outputs": [],
   "source": [
    "def build_histogram(dataset):\n",
    "    pass"
   ]
  },
  {
   "cell_type": "markdown",
   "id": "20879e37-db77-4238-b02f-566c0a85bcdb",
   "metadata": {},
   "source": [
    "We should get an output like the following:"
   ]
  },
  {
   "cell_type": "code",
   "execution_count": 3,
   "id": "438fe755-778d-4a12-a82b-a5c77cea6e4b",
   "metadata": {},
   "outputs": [],
   "source": [
    "# {'blue': 1, 'orange': 1, 'red': 3, 'brown': 1, 'yellow': 3}"
   ]
  },
  {
   "cell_type": "markdown",
   "id": "fe1ffd01-67d0-433b-bb14-b06db684293b",
   "metadata": {},
   "source": [
    "Give it a shot.  Take some time to write a function that produces the output above."
   ]
  }
 ],
 "metadata": {
  "kernelspec": {
   "display_name": "Python 3 (ipykernel)",
   "language": "python",
   "name": "python3"
  },
  "language_info": {
   "codemirror_mode": {
    "name": "ipython",
    "version": 3
   },
   "file_extension": ".py",
   "mimetype": "text/x-python",
   "name": "python",
   "nbconvert_exporter": "python",
   "pygments_lexer": "ipython3",
   "version": "3.9.10"
  }
 },
 "nbformat": 4,
 "nbformat_minor": 5
}
