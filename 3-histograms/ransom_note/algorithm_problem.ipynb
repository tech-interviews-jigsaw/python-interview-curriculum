{
 "cells": [
  {
   "cell_type": "markdown",
   "id": "computational-afghanistan",
   "metadata": {},
   "source": [
    "# Ransom Note"
   ]
  },
  {
   "cell_type": "markdown",
   "id": "acquired-pacific",
   "metadata": {},
   "source": [
    "Design a function that determines whether you can build a ransom note from cut up letters in a magazine article."
   ]
  },
  {
   "cell_type": "markdown",
   "id": "extra-drink",
   "metadata": {},
   "source": [
    "Here's an example:"
   ]
  },
  {
   "cell_type": "code",
   "execution_count": 1,
   "id": "postal-china",
   "metadata": {},
   "outputs": [],
   "source": [
    "magazine = [\"h\", \"e\", \"r\", \"e\", \"a\", \"r\", \"e\", \"s\", \"o\", \"m\",\n",
    "\"e\", \"n\", \"i\", \"c\", \"e\", \"c\", \"l\", \"o\", \"t\", \"h\", \"e\", \"s\", \"t\",\n",
    "\"h\", \"a\", \"t\", \"y\", \"o\", \"u\", \"s\", \"h\", \"o\", \"u\", \"l\", \"d\", \"b\",\n",
    "\"u\", \"y\", \"t\", \"h\", \"e\", \"y\", \"a\", \"r\", \"e\", \"c\", \"h\", \"e\", \"a\",\n",
    "\"p\", \"a\", \"n\", \"d\", \"w\", \"o\", \"n\", \"d\", \"e\", \"r\", \"f\", \"u\", \"l\",\n",
    " \"f\", \"o\", \"r\", \"t\", \"h\", \"e\", \"s\", \"u\", \"m\", \"m\", \"e\", \"r\"]\n",
    "\n",
    "note = \"give me the beer or else\""
   ]
  },
  {
   "cell_type": "code",
   "execution_count": null,
   "id": "tight-default",
   "metadata": {},
   "outputs": [],
   "source": []
  }
 ],
 "metadata": {
  "kernelspec": {
   "display_name": "Python 3",
   "language": "python",
   "name": "python3"
  },
  "language_info": {
   "codemirror_mode": {
    "name": "ipython",
    "version": 3
   },
   "file_extension": ".py",
   "mimetype": "text/x-python",
   "name": "python",
   "nbconvert_exporter": "python",
   "pygments_lexer": "ipython3",
   "version": "3.8.6"
  }
 },
 "nbformat": 4,
 "nbformat_minor": 5
}
