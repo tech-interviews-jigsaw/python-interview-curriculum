{
 "cells": [
  {
   "cell_type": "markdown",
   "id": "0ea12872-23c2-423c-ad5d-f41c91285af0",
   "metadata": {},
   "source": [
    "# Building Histograms Lab"
   ]
  },
  {
   "cell_type": "markdown",
   "id": "f2fcb512-fa7b-4c75-a667-6e435bc9a705",
   "metadata": {},
   "source": [
    "### Introduction"
   ]
  },
  {
   "cell_type": "markdown",
   "id": "bae4b5e1-0574-48d3-97a5-d1ac101a8d21",
   "metadata": {},
   "source": [
    "In this lesson, we'll practice building histograms to solve our leetcode style problems."
   ]
  },
  {
   "cell_type": "markdown",
   "id": "fa84bc6a-4932-4c70-9fa6-e54e474dac44",
   "metadata": {},
   "source": [
    "### Building a dictionary"
   ]
  },
  {
   "cell_type": "markdown",
   "id": "c5bf1cf3-60bd-479c-b1dd-feb2af068b37",
   "metadata": {},
   "source": [
    "Now write a histogram that given a list of words stores the first letter of each word as a key, and the corresponding words (that begin with that letter) as values."
   ]
  },
  {
   "cell_type": "markdown",
   "id": "e0dd84af-9be5-4e7b-a8af-a6099c59245a",
   "metadata": {},
   "source": [
    "> Do not use the counter to or fromkeys to solve the problem.  Rather use the steps of first building a skeleton or initial data structure, and then filling in that data structure."
   ]
  },
  {
   "cell_type": "code",
   "execution_count": 16,
   "id": "fb1aafcf-d2a7-4227-859f-f10308f7886c",
   "metadata": {},
   "outputs": [],
   "source": [
    "words = ['hello', 'madam', 'thank', 'you', 'for', 'coming', \n",
    "          'to', 'the', 'show', 'and', 'i', 'hope', 'that', 'you', 'enjoy', 'it']"
   ]
  },
  {
   "cell_type": "code",
   "execution_count": null,
   "id": "d16c8d75-52ce-4a60-a594-56f8dfa2d708",
   "metadata": {},
   "outputs": [],
   "source": [
    "# {'i': ['i', 'it'],\n",
    "#  'f': ['for'],\n",
    "#  't': ['thank', 'to', 'the', 'that'],\n",
    "#  'c': ['coming'],\n",
    "#  'a': ['and'],\n",
    "#  'y': ['you', 'you'],\n",
    "#  'h': ['hello', 'hope'],\n",
    "#  'e': ['enjoy'],\n",
    "#  's': ['show'],\n",
    "#  'm': ['madam']"
   ]
  },
  {
   "cell_type": "code",
   "execution_count": 24,
   "id": "5354d678-1f70-4045-ba94-be3dcff1c85f",
   "metadata": {},
   "outputs": [],
   "source": [
    "def build_dictionary(words):\n",
    "    first_letters = set([word[0] for word in words])\n",
    "    dictionary = {}\n",
    "    for first_letter in first_letters:\n",
    "        dictionary[first_letter] = []\n",
    "\n",
    "    for word in words:\n",
    "        dictionary[word[0]].append(word)"
   ]
  },
  {
   "cell_type": "code",
   "execution_count": 25,
   "id": "29f3b3aa-ea5e-467b-aadc-41b0da85d981",
   "metadata": {},
   "outputs": [
    {
     "data": {
      "text/plain": [
       "{'i': ['i', 'it'],\n",
       " 'f': ['for'],\n",
       " 't': ['thank', 'to', 'the', 'that'],\n",
       " 'c': ['coming'],\n",
       " 'a': ['and'],\n",
       " 'y': ['you', 'you'],\n",
       " 'h': ['hello', 'hope'],\n",
       " 'e': ['enjoy'],\n",
       " 's': ['show'],\n",
       " 'm': ['madam']}"
      ]
     },
     "execution_count": 25,
     "metadata": {},
     "output_type": "execute_result"
    }
   ],
   "source": [
    "dictionary"
   ]
  },
  {
   "cell_type": "markdown",
   "id": "82952f5a-fe59-4f1d-93bb-a912469ebec6",
   "metadata": {},
   "source": [
    "### Redoing Unique"
   ]
  },
  {
   "cell_type": "markdown",
   "id": "42f56ce4-599d-47da-8d5f-cc4ebcf3189c",
   "metadata": {},
   "source": [
    "Next, use a histogram to write a function that returns whether a list contains all unique values."
   ]
  },
  {
   "cell_type": "code",
   "execution_count": 1,
   "id": "bc3101e4-c91a-4d38-9b2d-558048187577",
   "metadata": {},
   "outputs": [],
   "source": [
    "def all_unique(numbers):\n",
    "    pass"
   ]
  },
  {
   "cell_type": "code",
   "execution_count": null,
   "id": "0ac214e3-b40c-4f47-9cfb-1162d54aa008",
   "metadata": {},
   "outputs": [],
   "source": [
    "unique_numbers = [1, 2, 3, 4, 5]\n",
    "\n",
    "\n",
    "all_unique(unique_numbers)\n",
    "\n",
    "# True"
   ]
  },
  {
   "cell_type": "code",
   "execution_count": null,
   "id": "87359bac-dc8c-428d-ae26-6deb3a53f573",
   "metadata": {},
   "outputs": [],
   "source": [
    "not_unique_numbers = [1, 2, 3, 4, 5, 1]\n",
    "\n",
    "all_unique(not_unique_numbers)\n",
    "\n",
    "# False"
   ]
  }
 ],
 "metadata": {
  "kernelspec": {
   "display_name": "Python 3 (ipykernel)",
   "language": "python",
   "name": "python3"
  },
  "language_info": {
   "codemirror_mode": {
    "name": "ipython",
    "version": 3
   },
   "file_extension": ".py",
   "mimetype": "text/x-python",
   "name": "python",
   "nbconvert_exporter": "python",
   "pygments_lexer": "ipython3",
   "version": "3.9.10"
  }
 },
 "nbformat": 4,
 "nbformat_minor": 5
}
