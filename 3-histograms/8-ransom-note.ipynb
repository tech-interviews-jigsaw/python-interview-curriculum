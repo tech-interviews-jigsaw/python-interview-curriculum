{
 "cells": [
  {
   "cell_type": "markdown",
   "id": "bcf4d450-5b9e-4b8b-9a02-bf86879eb175",
   "metadata": {},
   "source": [
    "# Ransom Note Problem"
   ]
  },
  {
   "cell_type": "markdown",
   "id": "a7eb32a2-dca8-476d-b52d-464e0f8a0fb1",
   "metadata": {},
   "source": [
    "### Introduction"
   ]
  },
  {
   "cell_type": "markdown",
   "id": "f2067cef-b06d-42a9-9c9e-0821408365ee",
   "metadata": {},
   "source": [
    "So in the last series of lessons, we saw how building to a histogram can help us solve leetcode problems.  It is so useful, that a histogram should be considered a data structure in itself.  So when thinking about a good data structure to coerce our data into, so far our list would be:\n",
    "\n",
    "* list\n",
    "* dictionary \n",
    "* histogram\n",
    "\n",
    "Now let's add another data structure that's we should add on there, a sorted list."
   ]
  },
  {
   "cell_type": "code",
   "execution_count": null,
   "id": "380bfc3c-edee-41c6-b258-30f66506782f",
   "metadata": {},
   "outputs": [],
   "source": []
  }
 ],
 "metadata": {
  "kernelspec": {
   "display_name": "Python 3 (ipykernel)",
   "language": "python",
   "name": "python3"
  },
  "language_info": {
   "codemirror_mode": {
    "name": "ipython",
    "version": 3
   },
   "file_extension": ".py",
   "mimetype": "text/x-python",
   "name": "python",
   "nbconvert_exporter": "python",
   "pygments_lexer": "ipython3",
   "version": "3.10.6"
  }
 },
 "nbformat": 4,
 "nbformat_minor": 5
}
