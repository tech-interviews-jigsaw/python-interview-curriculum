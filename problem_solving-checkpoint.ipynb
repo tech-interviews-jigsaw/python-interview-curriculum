{
 "cells": [
  {
   "cell_type": "markdown",
   "id": "figured-spelling",
   "metadata": {},
   "source": [
    "# Problem Solving"
   ]
  },
  {
   "cell_type": "markdown",
   "id": "personalized-folks",
   "metadata": {},
   "source": [
    "## Introduction"
   ]
  },
  {
   "cell_type": "markdown",
   "id": "central-radio",
   "metadata": {},
   "source": [
    "In this lesson, we'll go through a procedure for breaking down programming problems.  Now this procedure is particularly valuable in interview questions, which are oftentimes consist of logic as well as programming problems.  However, the techniques discussed here also apply to programming problems in general."
   ]
  },
  {
   "cell_type": "markdown",
   "id": "competent-imaging",
   "metadata": {},
   "source": [
    "## Our Steps"
   ]
  },
  {
   "cell_type": "markdown",
   "id": "removed-treat",
   "metadata": {},
   "source": [
    "Let's say we are asked to consider whether a string has every letter is unique."
   ]
  },
  {
   "cell_type": "markdown",
   "id": "improving-financing",
   "metadata": {},
   "source": [
    "### Step 1: Clarify the problem.\n",
    "\n",
    "In this stage, you are determining the scope of the problem and where to focus your energy before you begin solving the problem.  Are there points of ambiguity here?  Edge cases that we may need to consider?\n",
    "\n",
    "> Even if in your consideration, you end up dismissing something, it's generally good to tell your interviewer that you have made the consideration.  An interviewer wants to see that you are going through this process, and have these tools at your disposal, even if you do not need to lean on them for a particular problem.  \n",
    "\n",
    " \n",
    "**Why this is critical** As a developer, you will be given an assignment and then work will be checked later.  You can waste a lot of time by working towards the wrong problem, or not doing the upfront work of considering the scope of what you are being asked to solve.  \n",
    "   \n",
    "**Now, what questions would you ask about this problem?**\n",
    "\n",
    "Take a minute, and think about it. \n",
    "\n",
    "There does not seem to be a lot of ambiguity in this problem, but we can still go through this procedure.\n",
    "\n",
    "1. *Repeat the question:* \t \"Ok, so you'll provide me with a sequence of characters, and I'll return True if no character repeats.\"  \n",
    "\n",
    "> Notice the above has us rephrasing the problem with a focus on two different components: what are the inputs, and what is the output.  We could have been wrong about both.  Is the input only a string, or can we provide a list of numbers?  Are we sure we should return True or False?\n",
    "\n",
    "2. *Determine the scope:* We already gave some consideration to the scope of the problem.  But what about edge cases.  Here are some typical edge cases:\n",
    "\n",
    "* Negative numbers\n",
    "* An empty input\n",
    "* Capital letters\n",
    "\n",
    "A couple of these apply here: is an empty string unique?  Should we treat capital letters and lower case letters as the same letter, or are they different?\n",
    "\n",
    "> Even if this does not change the problem at all, it still makes the interviewer aware that we are trying to cast a wide net, and consider the scope of the problem.  We also give the interviewer an opportunity to direct him in certain areas.  If the interviewer wants us to skip over this phase and get straight to solving the problem, the interviewer will point us in that direction.\n",
    "\n",
    "3. *Give an example of the problem and solution*: \n",
    "\n",
    "Ok, so let's say we are given the string \"whatever\" and need to see if this is a palindrome.\n",
    "\n",
    "> If the interviewer provided us with an example, we would have used the provided example (as the interviewer may have chosen it for a reason).  Here, instead we come up with our own.\n",
    "> \n",
    "When choosing an example, it's a good idea to choose something complicated enough that avoids edge cases (like a single letter or zero letters), yet easy enough that our brains can solve it.  Generally, choosing three to six elements in a collection is fine.  Edge cases can be delayed to solve later on."
   ]
  },
  {
   "cell_type": "markdown",
   "id": "overhead-kennedy",
   "metadata": {},
   "source": [
    "### Step 2: Problem Solving"
   ]
  },
  {
   "cell_type": "markdown",
   "id": "logical-snowboard",
   "metadata": {},
   "source": [
    "Now that we feel comfortable in understanding the problem, we move onto the problem solving stage.  Now notice that we chose an example that it was pretty easy for our brains to solve.\n",
    "\n",
    "`whatever` -> `False`\n",
    "\n",
    "1. Unpack what the brain is doing\n",
    "\n",
    "Now it's our task to slow down, and try to move methodically to interpret what our brain is doing?  For example, above perhaps our brain is going through each letter and then checking if any subsequent letters match that letter.  At this point, it's good to write the technique in pseudocode.  \n",
    "\n",
    "It's own ok if our technique is not perfect.  We'll refine it as we move through different examples."
   ]
  },
  {
   "cell_type": "markdown",
   "id": "blind-surveillance",
   "metadata": {},
   "source": [
    "`w` \n",
    "* is `w` in `hatever`?\n",
    "\n",
    "`h`\n",
    "* is `h` in `atever`?"
   ]
  },
  {
   "cell_type": "markdown",
   "id": "chinese-friday",
   "metadata": {},
   "source": [
    "2. Choose the easiest technique\n",
    "\n",
    "The easiest technique is often a brute force solution.  That means to go one by one and choose every combination.  In this example, this means that we will go through every character in `whatever` -- `w, h, a...` and then see if the letter is repeated in the remaining string.  This will result in us using a nested loop, but that's fine for an initial solution."
   ]
  },
  {
   "cell_type": "markdown",
   "id": "federal-embassy",
   "metadata": {},
   "source": [
    "### 3. Translate to Code"
   ]
  },
  {
   "cell_type": "markdown",
   "id": "sunrise-envelope",
   "metadata": {},
   "source": [
    "After we have found an initial solution that we believe is the easiest approach, we can translate this into code.  If we have our pseudocode already written in a comment, it can be some small steps to translate this into Python.\n",
    "\n",
    "Afterwards, we should check the code with our original example, and our edge cases."
   ]
  },
  {
   "cell_type": "markdown",
   "id": "municipal-attack",
   "metadata": {},
   "source": [
    "### 4. Choose a different data structure?"
   ]
  },
  {
   "cell_type": "markdown",
   "id": "selected-syndication",
   "metadata": {},
   "source": [
    "Lots of times, our problem can be made easier, or more efficient, by changing our data to a different data structure.  Sometimes, these coercions can be made right up front.  But oftentimes it is best to pursue them after arriving at an initial working solution.\n",
    "\n",
    "With interview questions, here are some of the coercions we can make:\n",
    "\n",
    "1. String to a list\n",
    "2. List to a sorted list\n",
    "3. List to a set\n",
    "4. List to a histogram"
   ]
  },
  {
   "cell_type": "markdown",
   "id": "inappropriate-validation",
   "metadata": {},
   "source": [
    "Now the first two seem rather straightforward.  Converting a list to a sorted list can be particularly helpful because it is easier for telling us inclusion.  So for example, for our unique function, sorting our list would make things easier as we know for each character we only have to look at the next letter to check for a repeat.  \n",
    "\n",
    "> Remember that sorting costs n log n."
   ]
  },
  {
   "cell_type": "markdown",
   "id": "comparative-lounge",
   "metadata": {},
   "source": [
    "Another technique is simply to count up the number of times that each element occurs in a dictionary.  For example:"
   ]
  },
  {
   "cell_type": "markdown",
   "id": "colonial-central",
   "metadata": {},
   "source": [
    "> This is made easier with the Counter class. "
   ]
  },
  {
   "cell_type": "code",
   "execution_count": 4,
   "id": "olympic-intersection",
   "metadata": {},
   "outputs": [],
   "source": [
    "from collections import Counter\n",
    "c = Counter('whatever')"
   ]
  },
  {
   "cell_type": "code",
   "execution_count": 6,
   "id": "responsible-guyana",
   "metadata": {},
   "outputs": [
    {
     "data": {
      "text/plain": [
       "{'w': 1, 'h': 1, 'a': 1, 't': 1, 'e': 2, 'v': 1, 'r': 1}"
      ]
     },
     "execution_count": 6,
     "metadata": {},
     "output_type": "execute_result"
    }
   ],
   "source": [
    "dict(c)"
   ]
  },
  {
   "cell_type": "markdown",
   "id": "grave-aberdeen",
   "metadata": {},
   "source": [
    "This structure, where we maintain a count of the number occurrences of each element is called a histogram.  Oftentimes, this can also be helpful in solving a problem."
   ]
  },
  {
   "cell_type": "markdown",
   "id": "incredible-company",
   "metadata": {},
   "source": [
    "### Summary \n",
    "\n",
    "So do you see all of that work we did before we began coding?  That is the work we need to get into the habit of employing each time.  And not just with interview questions - this is the process professional programmers use with each problem.  So you should get into the habit of of incorporating this into your programming process as well. \n",
    "\n",
    "1. Clarify the problem \n",
    "2. Problem solve \n",
    "3. Translate to code\n",
    "\n",
    "And the entire way, make sure you are communicating to your interviewer.  Even if an idea doesn't end up being pursued, it is still good to bring the interviewer along in your thinking process.  Your interviewer will want a developer on their team who shares their thinking, and shares even wrong ideas so that the rest of the team can save time in not pursuing them.\n",
    "\n",
    "Finally, as you go through these programming problems, its good **for you to create your own checklist**.  What techniques are you employing?  How do you get unstuck?  What are good data structures to think about?\n"
   ]
  }
 ],
 "metadata": {
  "kernelspec": {
   "display_name": "Python 3",
   "language": "python",
   "name": "python3"
  },
  "language_info": {
   "codemirror_mode": {
    "name": "ipython",
    "version": 3
   },
   "file_extension": ".py",
   "mimetype": "text/x-python",
   "name": "python",
   "nbconvert_exporter": "python",
   "pygments_lexer": "ipython3",
   "version": "3.8.6"
  }
 },
 "nbformat": 4,
 "nbformat_minor": 5
}
