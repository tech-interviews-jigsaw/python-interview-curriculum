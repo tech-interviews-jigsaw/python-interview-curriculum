{
 "cells": [
  {
   "cell_type": "markdown",
   "id": "lonely-prince",
   "metadata": {},
   "source": [
    "# Complexity of Python Operations"
   ]
  },
  {
   "cell_type": "markdown",
   "id": "white-chambers",
   "metadata": {},
   "source": [
    "### Introduction\n",
    "\n",
    "In this reading, we'll see the complexity of various Python operations.  Now that we have discussed how the underlying operations work across datatypes, we'll take a look at various operations below.  The point is not to memorize the complexity of each of the operations below,  but rather to understand the complexity.  \n",
    "\n",
    "If there are functions that you are not familiar with, practice them."
   ]
  },
  {
   "cell_type": "markdown",
   "id": "clean-andrew",
   "metadata": {},
   "source": [
    "### Lists"
   ]
  },
  {
   "cell_type": "markdown",
   "id": "serious-kelly",
   "metadata": {},
   "source": [
    "* Note that with lists, calculating the length of a list is O(1), this is because when storing a list, the computer stores the starting address as well as the length of the list."
   ]
  },
  {
   "cell_type": "markdown",
   "id": "important-stamp",
   "metadata": {},
   "source": [
    "\n",
    "Operation     | Example      | Class         | \n",
    "--------------|--------------|---------------|\n",
    "Index         | `l[i]`         | O(1)\t     |\n",
    "Store         | `l[i] = 0`     | O(1)\t     |\n",
    "Length        | `len(l)`       | O(1)\t     |\n",
    "Append        | `l.append(5)`  | O(1)\t     | \n",
    "Pop\t      | `l.pop()`      | O(1)\t     | \n",
    "Clear         | `l.clear()`    | O(1)\t     |\n",
    "Slice         | `l[a:b]`       | O(b-a)\t | \n",
    "check ==, !=  | `l1 == l2`     | O(N)      |\n",
    "Insert        | `l[a:b] = ...` | O(N)\t     | \n",
    "Delete        | `del l[i]`     | O(N)\t     | \n",
    "Containment   | `x in` or `not in l`| O(N)\t     | \n",
    "Copy          | `l.copy()`     | O(N)\t     | \n",
    "Remove        | `l.remove(...)`| O(N)\t     | \n",
    "Pop\t      | `l.pop(i)`     | O(N)\t     | \n",
    "Extreme value | `min(l)` or `max(l)`| O(N)\t     | \n",
    "Reverse\t      | `l.reverse()`  | O(N)\t     |\n",
    "Iteration     | `for v in l:`  | O(N)      |\n",
    "Sort          | `l.sort()`     | O(N Log N)    |\n",
    "Multiply      | `k*l`          | O(k N)        |"
   ]
  },
  {
   "cell_type": "markdown",
   "id": "behind-federation",
   "metadata": {},
   "source": [
    "* Tuples support all operations that do not mutate the data structure (and they\n",
    "have the same complexity classes)."
   ]
  },
  {
   "cell_type": "markdown",
   "id": "banner-alexandria",
   "metadata": {},
   "source": [
    "### Complexity of Sets"
   ]
  },
  {
   "cell_type": "markdown",
   "id": "welcome-assist",
   "metadata": {},
   "source": [
    "Operation     | Example      | Class         |\n",
    "--------------|--------------|---------------|\n",
    "Length        | `len(s)`       | O(1)\t     |\n",
    "Add           | `s.add(5)`     | O(1)\t     |\n",
    "Containment   | `x in` or `not in s`| O(1)\t     | \n",
    "Remove        | `s.remove(..)` | O(1)\t     | \n",
    "Discard       | `s.discard(..)`| O(1)\t     | \n",
    "Pop           | `s.pop()`      | O(1)\t     | \n",
    "Clear         | `s.clear()`    | O(1)\t     | \n",
    "Construction  | `set(...)`     | O(len(...))|\n",
    "Iteration     | `for v in s:`  | O(N)      | \n",
    "Copy          | `s.copy()`     | O(N)\t     |\n",
    "\n"
   ]
  },
  {
   "cell_type": "markdown",
   "id": "color-wheat",
   "metadata": {},
   "source": [
    "* Sets have many more operations that are O(1) compared with lists and tuples.\n",
    "\n",
    "* Not needing to keep values in a specific order in a set (while lists/tuples require an order) allows for faster implementations of some set operations.\n",
    "\n",
    "* Frozen sets support all operations that do not mutate the data structure (and they have the same  complexity)."
   ]
  },
  {
   "cell_type": "markdown",
   "id": "unlikely-heritage",
   "metadata": {},
   "source": [
    "### Dictionaries\n",
    "\n",
    "* Eg. dict and defaultdict\n",
    "\n",
    "\n",
    "Operation     | Example      | Class         |\n",
    "--------------|--------------|---------------|\n",
    "Index         | `d[k]`         | O(1)\t     |\n",
    "Store         | `d[k] = v`     | O(1)\t     |\n",
    "Length        | `len(d)`       | O(1)\t     |\n",
    "Delete        | `del d[k]`     | O(1)\t     |\n",
    "get/setdefault| `d.get(k)`     | O(1)\t     |\n",
    "Pop           | `d.pop(k)`     | O(1)\t     | \n",
    "Pop item      | `d.popitem()`  | O(1)\t     | \n",
    "Clear         | `d.clear()`    | O(1)\t     | \n",
    "View          | `d.keys()`     | O(1)\t     | \n",
    "Construction   | `dict[(k, v)]`| O(N)\t | \n",
    "Iteration   | `for k in d.keys()`| O(N)\t | \n",
    "\n"
   ]
  },
  {
   "cell_type": "markdown",
   "id": "retired-norman",
   "metadata": {},
   "source": [
    "### Resources\n",
    "\n",
    "[Complexity in Python](https://www.ics.uci.edu/~pattis/ICS-33/lectures/complexitypython.txt)"
   ]
  }
 ],
 "metadata": {
  "kernelspec": {
   "display_name": "Python 3",
   "language": "python",
   "name": "python3"
  },
  "language_info": {
   "codemirror_mode": {
    "name": "ipython",
    "version": 3
   },
   "file_extension": ".py",
   "mimetype": "text/x-python",
   "name": "python",
   "nbconvert_exporter": "python",
   "pygments_lexer": "ipython3",
   "version": "3.8.6"
  }
 },
 "nbformat": 4,
 "nbformat_minor": 5
}
