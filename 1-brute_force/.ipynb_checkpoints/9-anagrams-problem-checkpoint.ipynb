{
 "cells": [
  {
   "cell_type": "markdown",
   "id": "bcf4d450-5b9e-4b8b-9a02-bf86879eb175",
   "metadata": {},
   "source": [
    "# Group Anagrams Problem"
   ]
  },
  {
   "cell_type": "markdown",
   "id": "a7eb32a2-dca8-476d-b52d-464e0f8a0fb1",
   "metadata": {},
   "source": [
    "### Problem"
   ]
  },
  {
   "cell_type": "markdown",
   "id": "612b4c26-da8b-44a1-83f2-5d0344a2a10f",
   "metadata": {},
   "source": [
    "Given an array of strings strs, group the anagrams together. You can return the answer in any order.\n",
    "\n",
    "An Anagram is a word or phrase formed by rearranging the letters of a different word or phrase, typically using all the original letters exactly once."
   ]
  },
  {
   "cell_type": "code",
   "execution_count": 7,
   "id": "64832d72-9977-4fe0-a17e-b8fa4228a597",
   "metadata": {},
   "outputs": [],
   "source": [
    "def group_anagrams(words):\n",
    "    pass\n",
    "    "
   ]
  },
  {
   "cell_type": "code",
   "execution_count": 6,
   "id": "0b6daf61-e46c-4bec-bb66-eb6efd1e856d",
   "metadata": {},
   "outputs": [],
   "source": [
    "strs = [\"eat\",\"tea\",\"tan\",\"ate\",\"nat\",\"bat\"]\n",
    "\n",
    "group_anagrams(strs)\n",
    "\n",
    "# [[\"bat\"],[\"nat\",\"tan\"],[\"ate\",\"eat\",\"tea\"]]"
   ]
  }
 ],
 "metadata": {
  "kernelspec": {
   "display_name": "Python 3 (ipykernel)",
   "language": "python",
   "name": "python3"
  },
  "language_info": {
   "codemirror_mode": {
    "name": "ipython",
    "version": 3
   },
   "file_extension": ".py",
   "mimetype": "text/x-python",
   "name": "python",
   "nbconvert_exporter": "python",
   "pygments_lexer": "ipython3",
   "version": "3.9.10"
  }
 },
 "nbformat": 4,
 "nbformat_minor": 5
}
