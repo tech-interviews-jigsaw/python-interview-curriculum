{
 "cells": [
  {
   "cell_type": "markdown",
   "id": "f6e75d6e-2f2e-4463-83e5-9342f6ebf428",
   "metadata": {},
   "source": [
    "# Nested Loops and Selection Sort"
   ]
  },
  {
   "cell_type": "markdown",
   "id": "c6e19045-8839-4fc8-b45a-e9c1edb76fd6",
   "metadata": {},
   "source": [
    "### Introduction"
   ]
  },
  {
   "cell_type": "markdown",
   "id": "9bd7a5b2-8497-48ce-b1d8-e744b1240ed7",
   "metadata": {},
   "source": [
    "In the last lesson, we saw how to use a single loop for some brute force algorithms.  Things become even more complicated if you nested loops.  Still often times this is the variation of try them all that we need to work through.  So let's see if we can do it."
   ]
  },
  {
   "cell_type": "markdown",
   "id": "994da345-7fa1-4312-a0b6-2e85d8d63c66",
   "metadata": {
    "tags": []
   },
   "source": [
    "### Brute Force Sorting "
   ]
  },
  {
   "cell_type": "markdown",
   "id": "f1dabfb5-ff5c-48f7-984b-632eca274507",
   "metadata": {},
   "source": [
    "One typical brute force approach is simply to try sorting a loop.  Notice that sorting a loop can be thought of as our find the min problem, repeated."
   ]
  },
  {
   "cell_type": "code",
   "execution_count": 4,
   "id": "9b7c26c3-205e-4ced-81c8-3dcbaf34ae45",
   "metadata": {},
   "outputs": [],
   "source": [
    "values = [13, 4, 9, 5, 3, 16, 12]"
   ]
  },
  {
   "cell_type": "markdown",
   "id": "a1bf9203-6d9b-43c2-93f2-1f484e779f00",
   "metadata": {},
   "source": [
    "The idea of selection sort can be understood by viewing the following [four minute video](https://www.youtube.com/watch?v=3hH8kTHFw2A).\n",
    "\n",
    "The idea is to start with an unsorted list, and a current index starting at zero to select the current number.  We then loop through the remaining elements, and for each element if the remaining element is less than the current number, we swap that remaining element with the current number.  We then increment the current index by one.\n",
    "\n",
    "So the idea is to find the minimum, then the minimum of the remaining elements and so on.  Here is how we code it."
   ]
  },
  {
   "cell_type": "code",
   "execution_count": 27,
   "id": "1c9c19ad-5810-4525-8a30-2350762939f0",
   "metadata": {},
   "outputs": [],
   "source": [
    "def selection_sort(array):\n",
    "    for current_idx in range(len(array)):\n",
    "        for remaining_idx in range(current_idx+1, len(array)):\n",
    "            if (array[remaining_idx] < array[current_idx]):\n",
    "                # Swap current min with first element of the unsorted array     \n",
    "                current_val = array[current_idx]\n",
    "                array[current_idx] = array[remaining_idx]\n",
    "                array[remaining_idx] = current_val\n",
    "    return array\n",
    "\n",
    "\n"
   ]
  },
  {
   "cell_type": "code",
   "execution_count": 28,
   "id": "0e51caa5-7cf9-425b-8da4-85d8fc95571a",
   "metadata": {},
   "outputs": [
    {
     "data": {
      "text/plain": [
       "[1, 2, 7, 8, 11, 15, 20]"
      ]
     },
     "execution_count": 28,
     "metadata": {},
     "output_type": "execute_result"
    }
   ],
   "source": [
    "values = [15, 2, 8, 7, 1, 20, 11]\n",
    "\n",
    "selection_sort(values)"
   ]
  },
  {
   "cell_type": "markdown",
   "id": "74c62e28-db95-4333-ba97-4a701bcfd46b",
   "metadata": {},
   "source": [
    "### Reviewing Range"
   ]
  },
  {
   "cell_type": "markdown",
   "id": "33a14dbd-82e7-4ccc-8cc7-486c984910ce",
   "metadata": {},
   "source": [
    "The selection sort above has a few details that are worth reviewing.  One is the `range(len(array))` code."
   ]
  },
  {
   "cell_type": "code",
   "execution_count": 33,
   "id": "994b4691-9a01-43a1-99a0-085b0c8b8903",
   "metadata": {},
   "outputs": [
    {
     "data": {
      "text/plain": [
       "7"
      ]
     },
     "execution_count": 33,
     "metadata": {},
     "output_type": "execute_result"
    }
   ],
   "source": [
    "len(array)"
   ]
  },
  {
   "cell_type": "code",
   "execution_count": 31,
   "id": "f77ff256-b2c1-4f1c-94f5-5c03be04d1ed",
   "metadata": {},
   "outputs": [
    {
     "data": {
      "text/plain": [
       "range(0, 7)"
      ]
     },
     "execution_count": 31,
     "metadata": {},
     "output_type": "execute_result"
    }
   ],
   "source": [
    "range(len(array))"
   ]
  },
  {
   "cell_type": "markdown",
   "id": "4a6a6533-1df7-439c-9131-ebffb5d1f0ab",
   "metadata": {},
   "source": [
    "Notice that while we create a range from 0 to 7, notice that the range function only produces a list of numbers from 0 to 6. "
   ]
  },
  {
   "cell_type": "code",
   "execution_count": 34,
   "id": "906e61f5-d47e-44eb-a3e9-56ba78ac41e8",
   "metadata": {},
   "outputs": [
    {
     "data": {
      "text/plain": [
       "[0, 1, 2, 3, 4, 5, 6]"
      ]
     },
     "execution_count": 34,
     "metadata": {},
     "output_type": "execute_result"
    }
   ],
   "source": [
    "list(range(len(array)))"
   ]
  },
  {
   "cell_type": "markdown",
   "id": "67ef34dc-ba0d-4294-ab44-26288d0eb1d4",
   "metadata": {},
   "source": [
    "This works out perfectly to select the each of the seven elements in the list."
   ]
  },
  {
   "cell_type": "markdown",
   "id": "124a54d8-a24d-40b2-b05f-4613d106e5ce",
   "metadata": {},
   "source": [
    "Then in the nested loop, we create a range with numbers `1 + current_idx` through 6.  "
   ]
  },
  {
   "cell_type": "code",
   "execution_count": 39,
   "id": "24403d6d-9007-43e8-8a71-f76ff49ded54",
   "metadata": {},
   "outputs": [
    {
     "data": {
      "text/plain": [
       "[1, 2, 3, 4, 5, 6]"
      ]
     },
     "execution_count": 39,
     "metadata": {},
     "output_type": "execute_result"
    }
   ],
   "source": [
    "current_idx = 0\n",
    "list(range(current_idx+1, len(array)))"
   ]
  },
  {
   "cell_type": "markdown",
   "id": "7fa17d61-b5b7-427d-9500-92139684a88f",
   "metadata": {},
   "source": [
    "So these are the remaining indices to repeatedly check for any numbers smaller than the current number.  For any remaining number less than the current number, we perform a swap."
   ]
  },
  {
   "cell_type": "markdown",
   "id": "c6841fe3-3a44-4237-b1df-964cb3ac8a2d",
   "metadata": {},
   "source": [
    "### Reviewing the Swap"
   ]
  },
  {
   "cell_type": "markdown",
   "id": "9e7f79f9-2c9b-4d2e-808f-b6ca38d7e923",
   "metadata": {},
   "source": [
    "Another component to focus on is the swap.  We can see this with the code below the if statement."
   ]
  },
  {
   "cell_type": "markdown",
   "id": "3f2ba297-6531-4209-9e3c-881ad3c581ee",
   "metadata": {},
   "source": [
    "```python\n",
    "if (array[remaining_idx] < array[current_idx]):\n",
    "    current_val = array[current_idx]\n",
    "    array[current_idx] = array[remaining_idx]\n",
    "    array[remaining_idx] = current_val\n",
    "```"
   ]
  },
  {
   "cell_type": "markdown",
   "id": "6fd5840b-f4a8-442d-977b-4e1c210f6a2e",
   "metadata": {},
   "source": [
    "So we can see that we temporarily store the current value, and then replace the slot of the current value with the new minimum.  Finally, in the last line we place the current value where the new minimum used to be.  "
   ]
  },
  {
   "cell_type": "markdown",
   "id": "bf46fb3f-f46e-4641-a29e-9838ae2ef78d",
   "metadata": {},
   "source": [
    "Another way to write a swap is with the following:"
   ]
  },
  {
   "cell_type": "markdown",
   "id": "aff159c2-3bbe-4044-a8a0-6768c0513da6",
   "metadata": {},
   "source": [
    "```python\n",
    "array[current_idx], array[remaining_idx] = array[remaining_idx] , array[current_idx]\n",
    "```"
   ]
  },
  {
   "cell_type": "code",
   "execution_count": 41,
   "id": "15f74320-b68a-41b2-ad58-0bf887fd82ef",
   "metadata": {},
   "outputs": [],
   "source": [
    "def selection_sort(array):\n",
    "    for current_idx in range(len(array)):\n",
    "        for remaining_idx in range(current_idx+1, len(array)):\n",
    "            if (array[remaining_idx] < array[current_idx]):\n",
    "                # Swap current min with first element of the unsorted array     \n",
    "                array[current_idx], array[remaining_idx] = array[remaining_idx] , array[current_idx]\n",
    "    return array\n"
   ]
  },
  {
   "cell_type": "code",
   "execution_count": 42,
   "id": "ec34c85b-92ef-4986-952a-60645cfd41f1",
   "metadata": {},
   "outputs": [
    {
     "data": {
      "text/plain": [
       "[1, 2, 7, 8, 11, 15, 20]"
      ]
     },
     "execution_count": 42,
     "metadata": {},
     "output_type": "execute_result"
    }
   ],
   "source": [
    "selection_sort(values)"
   ]
  }
 ],
 "metadata": {
  "kernelspec": {
   "display_name": "Python 3 (ipykernel)",
   "language": "python",
   "name": "python3"
  },
  "language_info": {
   "codemirror_mode": {
    "name": "ipython",
    "version": 3
   },
   "file_extension": ".py",
   "mimetype": "text/x-python",
   "name": "python",
   "nbconvert_exporter": "python",
   "pygments_lexer": "ipython3",
   "version": "3.9.10"
  }
 },
 "nbformat": 4,
 "nbformat_minor": 5
}
