{
 "cells": [
  {
   "cell_type": "markdown",
   "id": "71b8f98e-749b-4f93-bd22-752bc3ce21db",
   "metadata": {},
   "source": [
    "1. Write out binary search"
   ]
  },
  {
   "cell_type": "code",
   "execution_count": null,
   "id": "0013fa4a-e46d-41a6-9619-4227568a7d7f",
   "metadata": {},
   "outputs": [],
   "source": [
    "https://www.geeksforgeeks.org/python-program-for-binary-search/"
   ]
  },
  {
   "cell_type": "markdown",
   "id": "0f5093b1-f088-45ea-9bac-6ea5ba4b4d0b",
   "metadata": {},
   "source": [
    "* Think of edge cases\n",
    "* Moving from one data structure to another, etc."
   ]
  }
 ],
 "metadata": {
  "kernelspec": {
   "display_name": "Python 3 (ipykernel)",
   "language": "python",
   "name": "python3"
  },
  "language_info": {
   "codemirror_mode": {
    "name": "ipython",
    "version": 3
   },
   "file_extension": ".py",
   "mimetype": "text/x-python",
   "name": "python",
   "nbconvert_exporter": "python",
   "pygments_lexer": "ipython3",
   "version": "3.9.10"
  }
 },
 "nbformat": 4,
 "nbformat_minor": 5
}
