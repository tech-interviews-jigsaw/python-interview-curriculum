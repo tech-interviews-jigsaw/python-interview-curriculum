{
 "cells": [
  {
   "cell_type": "markdown",
   "id": "f6e75d6e-2f2e-4463-83e5-9342f6ebf428",
   "metadata": {},
   "source": [
    "# Nested Loops and Selection Sort"
   ]
  },
  {
   "cell_type": "markdown",
   "id": "c6e19045-8839-4fc8-b45a-e9c1edb76fd6",
   "metadata": {},
   "source": [
    "### Introduction"
   ]
  },
  {
   "cell_type": "markdown",
   "id": "9bd7a5b2-8497-48ce-b1d8-e744b1240ed7",
   "metadata": {},
   "source": [
    "In the last lesson, we saw how to use a single loop for some brute force algorithms.  Things become even more complicated if you nested loops.  Still often times this is the variation of try them all that we need to work through.  So let's see if we can do it."
   ]
  },
  {
   "cell_type": "markdown",
   "id": "2ca5ef2b-b896-4d5f-8377-4c6697ea26e2",
   "metadata": {},
   "source": [
    "### Rebuilding Selection Sort"
   ]
  },
  {
   "cell_type": "markdown",
   "id": "e8793a5f-62c0-4289-a6f2-c1e8c4dd0055",
   "metadata": {},
   "source": [
    "Selection sort is a tricky algorithm to accomplish.  As a first step, print out the related indices for selection sort. "
   ]
  },
  {
   "cell_type": "code",
   "execution_count": 2,
   "id": "3f98b187-ea23-4dd1-aec1-d763f0792dde",
   "metadata": {},
   "outputs": [],
   "source": [
    "values = [15, 2, 8, 7]"
   ]
  },
  {
   "cell_type": "code",
   "execution_count": 7,
   "id": "5007a602-a7ac-4ef1-8242-1acd64496acf",
   "metadata": {},
   "outputs": [],
   "source": [
    "def selection_sort_indices(values):\n",
    "    pass"
   ]
  },
  {
   "cell_type": "code",
   "execution_count": 8,
   "id": "4de42506-667d-4a3d-8352-0b8c7dda08b7",
   "metadata": {},
   "outputs": [
    {
     "name": "stdout",
     "output_type": "stream",
     "text": [
      "0 1\n",
      "0 2\n",
      "0 3\n",
      "1 2\n",
      "1 3\n",
      "2 3\n"
     ]
    }
   ],
   "source": [
    "selection_sort_indices(values)     \n",
    "\n",
    "# 0 1\n",
    "# 0 2\n",
    "# 0 3\n",
    "# 1 2\n",
    "# 1 3\n",
    "# 2 3"
   ]
  },
  {
   "cell_type": "markdown",
   "id": "8a7814f9-5f43-42d2-a309-6f69384085a7",
   "metadata": {},
   "source": [
    "Next, write the section sort function."
   ]
  },
  {
   "cell_type": "code",
   "execution_count": 12,
   "id": "8351d25b-8b87-40f9-93b0-87a45790a500",
   "metadata": {},
   "outputs": [],
   "source": [
    "def selection_sort(values):\n",
    "    pass"
   ]
  },
  {
   "cell_type": "code",
   "execution_count": 13,
   "id": "f1f36f35-575f-4364-bbb5-65bc5057e9b3",
   "metadata": {},
   "outputs": [],
   "source": [
    "values = [15, 2, 8, 7]"
   ]
  },
  {
   "cell_type": "code",
   "execution_count": 14,
   "id": "e44251de-7542-4e9f-b6d3-36a5302491f9",
   "metadata": {},
   "outputs": [
    {
     "data": {
      "text/plain": [
       "[2, 7, 8, 15]"
      ]
     },
     "execution_count": 14,
     "metadata": {},
     "output_type": "execute_result"
    }
   ],
   "source": [
    "selection_sort(values)\n",
    "\n",
    "# [2, 7, 8, 15]"
   ]
  },
  {
   "cell_type": "markdown",
   "id": "f3989e04-7246-466a-b415-1375e548d73c",
   "metadata": {},
   "source": [
    "2. Two sum (using brute force)"
   ]
  },
  {
   "cell_type": "markdown",
   "id": "1254b707-cd79-4a06-86b5-f4b95ef218fa",
   "metadata": {},
   "source": [
    "Next use a nested loop for the two sum problem.  Remember, that for the two sum problem we are given a list of numbers and a target, find all pairs that add up to that target."
   ]
  },
  {
   "cell_type": "code",
   "execution_count": 18,
   "id": "d5f22e5d-edf5-4eea-81da-309d9f3dcfdc",
   "metadata": {},
   "outputs": [
    {
     "data": {
      "text/plain": [
       "[(2, 5), (3, 4), (6, 1)]"
      ]
     },
     "execution_count": 18,
     "metadata": {},
     "output_type": "execute_result"
    }
   ],
   "source": [
    "numbers = [2, 3, 4, 5, 6, 9, 1]\n",
    "target = 7\n",
    "\n",
    "def two_sum(numbers, target):\n",
    "    pass\n",
    "            \n",
    "two_sum(numbers, target)\n",
    "\n",
    "# [(2, 5), (3, 4), (6, 1)]"
   ]
  },
  {
   "cell_type": "markdown",
   "id": "d2f92b20-85a5-4df7-8c87-39ed71602c24",
   "metadata": {},
   "source": [
    "3. All unique (use a nested loop)"
   ]
  },
  {
   "cell_type": "markdown",
   "id": "d59823df-f3ce-49ea-b15f-417d53da49b3",
   "metadata": {},
   "source": [
    "Now use a nested loop to check if all of the numbers in a list are unique."
   ]
  },
  {
   "cell_type": "code",
   "execution_count": 19,
   "id": "c5b37149-486c-438b-9255-b5df33b7bbf4",
   "metadata": {},
   "outputs": [],
   "source": [
    "def all_unique(numbers):\n",
    "    pass"
   ]
  },
  {
   "cell_type": "code",
   "execution_count": 20,
   "id": "16b1d702-f09d-4951-9266-b259ce991ffd",
   "metadata": {},
   "outputs": [
    {
     "data": {
      "text/plain": [
       "True"
      ]
     },
     "execution_count": 20,
     "metadata": {},
     "output_type": "execute_result"
    }
   ],
   "source": [
    "unique_numbers = [1, 2, 3, 4, 5]\n",
    "\n",
    "\n",
    "all_unique(unique_numbers)"
   ]
  },
  {
   "cell_type": "code",
   "execution_count": 21,
   "id": "a1e719d1-1c7b-48db-bd90-ee88ac76faac",
   "metadata": {},
   "outputs": [
    {
     "data": {
      "text/plain": [
       "False"
      ]
     },
     "execution_count": 21,
     "metadata": {},
     "output_type": "execute_result"
    }
   ],
   "source": [
    "not_unique_numbers = [1, 2, 3, 4, 5, 1]\n",
    "\n",
    "all_unique(not_unique_numbers)"
   ]
  }
 ],
 "metadata": {
  "kernelspec": {
   "display_name": "Python 3 (ipykernel)",
   "language": "python",
   "name": "python3"
  },
  "language_info": {
   "codemirror_mode": {
    "name": "ipython",
    "version": 3
   },
   "file_extension": ".py",
   "mimetype": "text/x-python",
   "name": "python",
   "nbconvert_exporter": "python",
   "pygments_lexer": "ipython3",
   "version": "3.9.10"
  }
 },
 "nbformat": 4,
 "nbformat_minor": 5
}
