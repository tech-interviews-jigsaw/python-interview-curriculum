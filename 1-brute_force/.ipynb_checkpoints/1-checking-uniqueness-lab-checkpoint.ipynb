{
 "cells": [
  {
   "cell_type": "markdown",
   "id": "9c39d164-6eb3-455f-8086-037afa1b669a",
   "metadata": {},
   "source": [
    "# Checking Uniqueness Lab"
   ]
  },
  {
   "cell_type": "markdown",
   "id": "b4461515-3511-4f47-9ace-b6d0810df53f",
   "metadata": {},
   "source": [
    "### Introduction"
   ]
  },
  {
   "cell_type": "markdown",
   "id": "1f4a0819-f220-4926-bc7a-5f2fbea13af0",
   "metadata": {},
   "source": [
    "In this lesson, we'll review writing a function to check uniqueness lab.\n",
    "\n",
    "We learned how to check uniqueness three different ways -- once with sorting, and in two other ways through brute force.  As a challenge, try to solve this problem all three ways."
   ]
  },
  {
   "cell_type": "code",
   "execution_count": null,
   "id": "a46a4a3d-0574-4349-babe-fdf836481af9",
   "metadata": {},
   "outputs": [],
   "source": [
    "import numpy as np\n",
    "non_unique = [ -78,   81,   63,   79,  -27,   52,  -18,   20,   52,   39,   -1,\n",
    "        -48,   12,  -46,  -49,   64,   36,  -71,   73,  -70,   -8,   11,\n",
    "        -98,  -95,  -68,   67,   42,  -79,   52,  -93,   30,   67,   -4,\n",
    "        -35,   17,  -70,  -27,  -15,  -68,   74,   -1,  -44,  -67,  -94,\n",
    "        -46]\n",
    "\n",
    "unique_elements = [-98, -95, -94, -93, -79, -78, -71, -70, -68, -67, -49, -48, -46,\n",
    "       -44, -35, -27, -18, -15,  -8,  -4,  -1,  11,  12,  17,  20,  30,\n",
    "        36,  39,  42,  52,  63,  64,  67,  73,  74,  79,  81]"
   ]
  },
  {
   "cell_type": "code",
   "execution_count": null,
   "id": "bbdcca0d-d699-4e61-8e20-456b9c0d3f2c",
   "metadata": {},
   "outputs": [],
   "source": []
  },
  {
   "cell_type": "code",
   "execution_count": 1,
   "id": "43269143-e1d4-42a5-be3a-864e48862ce0",
   "metadata": {},
   "outputs": [],
   "source": [
    "def all_unique(elements):\n",
    "    pass"
   ]
  },
  {
   "cell_type": "code",
   "execution_count": null,
   "id": "3cf6b6b2-7455-44a6-8b69-d04d5d2dce11",
   "metadata": {},
   "outputs": [],
   "source": [
    "all_unique(non_unique)\n",
    "# False"
   ]
  },
  {
   "cell_type": "code",
   "execution_count": null,
   "id": "4fc773a1-deca-4021-a59f-8a5e3942a33f",
   "metadata": {},
   "outputs": [],
   "source": [
    "all_unique(unique)\n",
    "# True"
   ]
  }
 ],
 "metadata": {
  "kernelspec": {
   "display_name": "Python 3 (ipykernel)",
   "language": "python",
   "name": "python3"
  },
  "language_info": {
   "codemirror_mode": {
    "name": "ipython",
    "version": 3
   },
   "file_extension": ".py",
   "mimetype": "text/x-python",
   "name": "python",
   "nbconvert_exporter": "python",
   "pygments_lexer": "ipython3",
   "version": "3.10.6"
  }
 },
 "nbformat": 4,
 "nbformat_minor": 5
}
