{
 "cells": [
  {
   "cell_type": "markdown",
   "id": "96b639f9-96ab-4410-93ed-3a5124a5ed65",
   "metadata": {},
   "source": [
    "# Two Sum Lab"
   ]
  },
  {
   "cell_type": "markdown",
   "id": "bedbc21a-bd32-49ef-8570-82af8b014440",
   "metadata": {},
   "source": [
    "> Problem"
   ]
  },
  {
   "cell_type": "markdown",
   "id": "1d94b59b-a413-4c6f-934d-f081883864c9",
   "metadata": {},
   "source": [
    "Given an array of integers nums and an integer target, return indices of the two numbers such that they add up to target.\n",
    "\n",
    "You may assume that each input would have exactly one solution, and you may not use the same element twice."
   ]
  },
  {
   "cell_type": "markdown",
   "id": "a872f468-7e09-415b-a4e9-47f779a405a8",
   "metadata": {},
   "source": [
    "### Approaches"
   ]
  },
  {
   "cell_type": "markdown",
   "id": "e06ebe8d-97dd-468a-b0f1-77030f9bcd62",
   "metadata": {},
   "source": [
    "1. Use the brute force solution to solve two sum"
   ]
  },
  {
   "cell_type": "code",
   "execution_count": 2,
   "id": "f01d941d-f43f-41eb-b152-3b8094b449bc",
   "metadata": {},
   "outputs": [],
   "source": [
    "nums = [2,7,11,15]\n",
    "target = 9"
   ]
  },
  {
   "cell_type": "code",
   "execution_count": 4,
   "id": "860de90d-a19e-4d40-88a2-422785f3e7c5",
   "metadata": {},
   "outputs": [],
   "source": [
    "output = [0,1]\n",
    "# because it's the indices"
   ]
  },
  {
   "cell_type": "code",
   "execution_count": 5,
   "id": "9d0f4c4b-f782-47a4-8221-18aa76926cee",
   "metadata": {},
   "outputs": [],
   "source": [
    "nums = [3,2,4]\n",
    "target = 6\n",
    "\n",
    "\n",
    "# output [1,2]"
   ]
  },
  {
   "cell_type": "markdown",
   "id": "d783e600-dc0c-40db-a63f-fa501ab17a8b",
   "metadata": {},
   "source": [
    "2. Use a histogram to solve the two sum problem"
   ]
  },
  {
   "cell_type": "code",
   "execution_count": null,
   "id": "bd86b131-a90b-41b5-baf1-93757998bcf2",
   "metadata": {},
   "outputs": [],
   "source": []
  }
 ],
 "metadata": {
  "kernelspec": {
   "display_name": "Python 3 (ipykernel)",
   "language": "python",
   "name": "python3"
  },
  "language_info": {
   "codemirror_mode": {
    "name": "ipython",
    "version": 3
   },
   "file_extension": ".py",
   "mimetype": "text/x-python",
   "name": "python",
   "nbconvert_exporter": "python",
   "pygments_lexer": "ipython3",
   "version": "3.9.10"
  }
 },
 "nbformat": 4,
 "nbformat_minor": 5
}
