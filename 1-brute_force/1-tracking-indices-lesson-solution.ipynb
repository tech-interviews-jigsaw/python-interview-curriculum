{
 "cells": [
  {
   "cell_type": "markdown",
   "id": "f6e75d6e-2f2e-4463-83e5-9342f6ebf428",
   "metadata": {},
   "source": [
    "# Tracking indices"
   ]
  },
  {
   "cell_type": "markdown",
   "id": "c6e19045-8839-4fc8-b45a-e9c1edb76fd6",
   "metadata": {},
   "source": [
    "### Introduction"
   ]
  },
  {
   "cell_type": "markdown",
   "id": "27794f20-edae-416a-b1d0-a9f14c73b548",
   "metadata": {},
   "source": [
    "One difficult thing when working with loops is simply tracking one or more index."
   ]
  },
  {
   "cell_type": "markdown",
   "id": "994da345-7fa1-4312-a0b6-2e85d8d63c66",
   "metadata": {},
   "source": [
    "### Indices with Loops"
   ]
  },
  {
   "cell_type": "markdown",
   "id": "3ccd253c-8873-4d2c-b271-1cd1ccee59ec",
   "metadata": {},
   "source": [
    "When looping through a list of elements, one way to select each element is through the index."
   ]
  },
  {
   "cell_type": "code",
   "execution_count": 1,
   "id": "e05a13db-bcd5-43ab-8793-05636139c032",
   "metadata": {},
   "outputs": [
    {
     "name": "stdout",
     "output_type": "stream",
     "text": [
      "d\n",
      "f\n",
      "l\n",
      "a\n",
      "c\n"
     ]
    }
   ],
   "source": [
    "letters = ['d', 'f', 'l', 'a', 'c']\n",
    "\n",
    "for i in range(len(letters)):\n",
    "    print(letters[i])"
   ]
  },
  {
   "cell_type": "markdown",
   "id": "4c73a134-1645-47a2-a8fa-9a330825dd76",
   "metadata": {},
   "source": [
    "Above we use the range function.  This is useful when selecting each element in a list.  Let's take a deeper look at it.  "
   ]
  },
  {
   "cell_type": "code",
   "execution_count": 2,
   "id": "994b4691-9a01-43a1-99a0-085b0c8b8903",
   "metadata": {},
   "outputs": [
    {
     "data": {
      "text/plain": [
       "5"
      ]
     },
     "execution_count": 2,
     "metadata": {},
     "output_type": "execute_result"
    }
   ],
   "source": [
    "len(letters)"
   ]
  },
  {
   "cell_type": "code",
   "execution_count": 3,
   "id": "f77ff256-b2c1-4f1c-94f5-5c03be04d1ed",
   "metadata": {},
   "outputs": [
    {
     "data": {
      "text/plain": [
       "range(0, 5)"
      ]
     },
     "execution_count": 3,
     "metadata": {},
     "output_type": "execute_result"
    }
   ],
   "source": [
    "range(len(letters))"
   ]
  },
  {
   "cell_type": "markdown",
   "id": "ccd44b76-ee20-4e80-821c-f61a2148711c",
   "metadata": {},
   "source": [
    "Notice that while we create a range from 0 to 5, notice that the range function only produces a list of numbers from 0 to 4. "
   ]
  },
  {
   "cell_type": "code",
   "execution_count": 4,
   "id": "906e61f5-d47e-44eb-a3e9-56ba78ac41e8",
   "metadata": {},
   "outputs": [
    {
     "data": {
      "text/plain": [
       "[0, 1, 2, 3, 4]"
      ]
     },
     "execution_count": 4,
     "metadata": {},
     "output_type": "execute_result"
    }
   ],
   "source": [
    "list(range(len(letters)))"
   ]
  },
  {
   "cell_type": "markdown",
   "id": "3e909820-994c-470a-ba16-c3bd740df1ae",
   "metadata": {},
   "source": [
    "This works out perfectly to select the each of the five elements of our list above the list."
   ]
  },
  {
   "cell_type": "code",
   "execution_count": 5,
   "id": "71fbf1de-b7fc-497f-ad77-aaa706d72491",
   "metadata": {},
   "outputs": [
    {
     "name": "stdout",
     "output_type": "stream",
     "text": [
      "d\n",
      "f\n",
      "l\n",
      "a\n",
      "c\n"
     ]
    }
   ],
   "source": [
    "letters = ['d', 'f', 'l', 'a', 'c']\n",
    "\n",
    "for i in range(len(letters)):\n",
    "#     i = 0 through 4\n",
    "    print(letters[i])"
   ]
  },
  {
   "cell_type": "markdown",
   "id": "c3be83c7-1017-4bb8-a2e2-230935fbbbda",
   "metadata": {},
   "source": [
    "### Tracking multiple indices"
   ]
  },
  {
   "cell_type": "markdown",
   "id": "a164844f-717d-4eb5-9f2f-96f6a182957c",
   "metadata": {},
   "source": [
    "Notice that sometimes we'll need to track multiple indices of a list.  "
   ]
  },
  {
   "cell_type": "markdown",
   "id": "a6aa39d5-e71d-4cd9-8574-dcba5d6c8fa2",
   "metadata": {},
   "source": [
    "For example, above we have the index increment from 0 to the length of the list.  But what if we want a separate number that moves backwards through the indices at the same time.  \n",
    "\n",
    "Given a list of letters write a function that prints out the following."
   ]
  },
  {
   "cell_type": "code",
   "execution_count": 16,
   "id": "a3062493-4fd9-4bfa-bbfc-30dac0e8ee68",
   "metadata": {},
   "outputs": [],
   "source": [
    "def two_indices(letters):\n",
    "    for i in range(len(letters)):\n",
    "        print(i, len(letters) - 1 - i)"
   ]
  },
  {
   "cell_type": "code",
   "execution_count": 15,
   "id": "0eec98d8-0918-44e4-a3ec-047955939806",
   "metadata": {},
   "outputs": [
    {
     "name": "stdout",
     "output_type": "stream",
     "text": [
      "0 4\n",
      "1 3\n",
      "2 2\n",
      "3 1\n",
      "4 0\n"
     ]
    }
   ],
   "source": [
    "two_indices(letters)\n",
    "\n",
    "# 0 4\n",
    "# 1 3\n",
    "# 2 2\n",
    "# 3 1\n",
    "# 4 0"
   ]
  },
  {
   "cell_type": "markdown",
   "id": "27cbf4a9-d615-40d9-918b-9d3f240f56a6",
   "metadata": {},
   "source": [
    "### Finding Palindromes"
   ]
  },
  {
   "cell_type": "markdown",
   "id": "b396e273-ce9f-461d-b40f-f3efad0c5184",
   "metadata": {},
   "source": [
    "Oftentimes a good first step when using the brute force mechanism is to first make sure that the indices are being looped through correctly."
   ]
  },
  {
   "cell_type": "markdown",
   "id": "94744805-23a0-4ce4-848f-50b6f1a71058",
   "metadata": {},
   "source": [
    "Use that technique to check if a word is a palindrome.  A palindrome is a word that is the same both forwards and backwards.  \n",
    "\n",
    "Use the brute force mechanism to check if a word is a palindrome, and first print out the indices before solving the problem.  "
   ]
  },
  {
   "cell_type": "code",
   "execution_count": 23,
   "id": "313d1f5d-6fe6-44fc-bee2-1f0269045752",
   "metadata": {},
   "outputs": [
    {
     "data": {
      "text/plain": [
       "True"
      ]
     },
     "execution_count": 23,
     "metadata": {},
     "output_type": "execute_result"
    }
   ],
   "source": [
    "def is_palindrome(word):\n",
    "    for i in range(len(word)):\n",
    "        back_i = len(word) - 1 - i\n",
    "        if word[i] != word[back_i]:\n",
    "            return False\n",
    "    return True\n",
    "        "
   ]
  },
  {
   "cell_type": "code",
   "execution_count": null,
   "id": "dc828626-b691-4728-bfe6-a529a1f49576",
   "metadata": {},
   "outputs": [],
   "source": [
    "yes = 'kayak'\n",
    "\n",
    "is_palindrome(yes)\n",
    "# True"
   ]
  },
  {
   "cell_type": "code",
   "execution_count": 24,
   "id": "1ddd0c12-385e-48de-9568-d1b90f6376b9",
   "metadata": {},
   "outputs": [
    {
     "data": {
      "text/plain": [
       "False"
      ]
     },
     "execution_count": 24,
     "metadata": {},
     "output_type": "execute_result"
    }
   ],
   "source": [
    "no = 'kayaki'\n",
    "\n",
    "is_palindrome(no)\n",
    "# False"
   ]
  },
  {
   "cell_type": "markdown",
   "id": "8f29e3cc-46bb-4032-817b-8d0a7216152c",
   "metadata": {},
   "source": [
    "### Reversing a list"
   ]
  },
  {
   "cell_type": "markdown",
   "id": "78ded48d-9321-4386-aef4-8f894da6b19e",
   "metadata": {},
   "source": [
    "Reversing a list is another problem that can be solved using the brute force mechanism.  Use the brute force mechanism to reverse a list.  "
   ]
  },
  {
   "cell_type": "markdown",
   "id": "5a53aa24-b9f6-4440-8f19-6e335112357f",
   "metadata": {},
   "source": [
    "> Remember to use the print statement to both print out any used indices and ultimately the selected elements."
   ]
  },
  {
   "cell_type": "code",
   "execution_count": 28,
   "id": "5d8c138c-1664-4f5d-8add-5f81760203ad",
   "metadata": {},
   "outputs": [],
   "source": [
    "array = [1, 2, 3, 4, 5]"
   ]
  },
  {
   "cell_type": "code",
   "execution_count": 36,
   "id": "dfb54694-9493-482f-874a-b48c2037a984",
   "metadata": {},
   "outputs": [
    {
     "data": {
      "text/plain": [
       "[5, 4, 3, 2, 1]"
      ]
     },
     "execution_count": 36,
     "metadata": {},
     "output_type": "execute_result"
    }
   ],
   "source": [
    "def reverse(array):\n",
    "    for i in range(round(len(array)/2)):\n",
    "        back_i = len(array) - i - 1\n",
    "        array[i], array[back_i] = array[back_i], array[i]\n",
    "    return array\n",
    "     \n",
    "reverse(array)\n",
    "\n",
    "# [5, 4, 3, 2, 1]"
   ]
  },
  {
   "cell_type": "markdown",
   "id": "91a3636d-a961-47ee-907a-d8ebafdbff86",
   "metadata": {},
   "source": [
    "### Answers"
   ]
  },
  {
   "cell_type": "code",
   "execution_count": 17,
   "id": "dec15e92-869d-48a1-9352-2287c07467fa",
   "metadata": {},
   "outputs": [],
   "source": [
    "def two_indices(letters):\n",
    "    for i in range(len(letters)):\n",
    "        print(i, len(letters) - 1 - i)\n"
   ]
  },
  {
   "cell_type": "code",
   "execution_count": 18,
   "id": "4a4a2f4b-7ec0-4fe6-a4ba-5ab29e37a4d5",
   "metadata": {},
   "outputs": [
    {
     "name": "stdout",
     "output_type": "stream",
     "text": [
      "0 4\n",
      "1 3\n",
      "2 2\n",
      "3 1\n",
      "4 0\n"
     ]
    }
   ],
   "source": [
    "two_indices(letters)"
   ]
  },
  {
   "cell_type": "code",
   "execution_count": null,
   "id": "ccc2611f-03fa-4ac8-afe9-c7ec684c9cc2",
   "metadata": {},
   "outputs": [],
   "source": []
  },
  {
   "cell_type": "code",
   "execution_count": null,
   "id": "6f315769-2828-4528-a2bd-1f3e557880c1",
   "metadata": {},
   "outputs": [],
   "source": [
    "def is_palindrome(word):\n",
    "    for i in range(len(word)):\n",
    "        back_i = len(word) - 1 - i\n",
    "        if word[i] != word[back_i]:\n",
    "            return False\n",
    "    return True"
   ]
  }
 ],
 "metadata": {
  "kernelspec": {
   "display_name": "Python 3 (ipykernel)",
   "language": "python",
   "name": "python3"
  },
  "language_info": {
   "codemirror_mode": {
    "name": "ipython",
    "version": 3
   },
   "file_extension": ".py",
   "mimetype": "text/x-python",
   "name": "python",
   "nbconvert_exporter": "python",
   "pygments_lexer": "ipython3",
   "version": "3.9.10"
  }
 },
 "nbformat": 4,
 "nbformat_minor": 5
}
