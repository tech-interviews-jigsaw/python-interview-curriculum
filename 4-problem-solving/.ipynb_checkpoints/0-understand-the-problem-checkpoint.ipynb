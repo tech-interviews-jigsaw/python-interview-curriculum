{
 "cells": [
  {
   "cell_type": "markdown",
   "id": "figured-spelling",
   "metadata": {},
   "source": [
    "# 1. Understand the Problem"
   ]
  },
  {
   "cell_type": "markdown",
   "id": "personalized-folks",
   "metadata": {},
   "source": [
    "## Introduction"
   ]
  },
  {
   "cell_type": "markdown",
   "id": "central-radio",
   "metadata": {},
   "source": [
    "In this lesson, we'll go through a procedure for breaking down programming problems.  Now this procedure is particularly valuable in interview questions, which are oftentimes consist of logic as well as programming problems.  However, the techniques discussed here also apply to programming problems in general."
   ]
  },
  {
   "cell_type": "markdown",
   "id": "competent-imaging",
   "metadata": {},
   "source": [
    "## The Problem"
   ]
  },
  {
   "cell_type": "markdown",
   "id": "removed-treat",
   "metadata": {},
   "source": [
    "> **Problem**: Write a function that given a list of strings, determines whether there are any duplicates of that string."
   ]
  },
  {
   "cell_type": "markdown",
   "id": "improving-financing",
   "metadata": {
    "tags": []
   },
   "source": [
    "### Step 1: Rephrase the question\n",
    "\n",
    "The first step to making sure you understand the problem at hand is to simply repeat it.  Ideally, you rephrase the problem a little, to make sure that you are capturing the important components.\n",
    " \n",
    "**Why this is critical** As a developer, you will be given an assignment and then your work will be checked later.  You can waste a lot of time by working towards the wrong problem, or not doing the upfront work of considering the scope of what you are being asked to solve.  Hiring managers know this.  They have likely experienced firsthand developers who build things that were not needed nor asked for.  Finding developers who take the time to understand the problem before solving it is critical. "
   ]
  },
  {
   "cell_type": "markdown",
   "id": "53a5fbd6-389d-4938-9e8f-0f0f40cff8e0",
   "metadata": {},
   "source": [
    "**Now, what questions would you ask about this problem?**\n",
    "\n",
    "Take a minute, and think about it. \n",
    "\n",
    "There does seem to be some ambiguity with this problem, so let's move forward with this procedure."
   ]
  },
  {
   "cell_type": "markdown",
   "id": "b789fb3f-6690-4aca-9180-980d52e9a969",
   "metadata": {},
   "source": [
    "1. *Repeat the question:* \t \"Ok, so you'll provide me with a list of strings, and I should return the list of duplicate strings.\"  \n",
    "\n",
    "> Notice the above has us rephrasing the problem with a focus on two different components: what are the inputs, and what is the output.  In the original question, the output was fairly vague.  But the input is perhaps vague as well -- is the input only a string, or can we provide a list of numbers?  "
   ]
  },
  {
   "cell_type": "markdown",
   "id": "7e668d2a-b271-4b1c-91f6-ff69dbd21e67",
   "metadata": {},
   "source": [
    "It turns out the return value should be in the form of a dictionary.  We will be given a list of strings and will return a dictionary where the repeated string is the key, and the indices are the values."
   ]
  },
  {
   "cell_type": "markdown",
   "id": "3cd6f250-f8b2-47c2-ad11-ea67a4926ebf",
   "metadata": {},
   "source": [
    "```python\n",
    "{'foobar': [2, 5], 'foobaz': [1, 3]}\n",
    "```"
   ]
  },
  {
   "cell_type": "markdown",
   "id": "732bc769-592c-4e20-a3af-4f87460c7785",
   "metadata": {},
   "source": [
    "### 2. *Determine the scope* \n",
    "\n",
    "#### A. Ask for the context?  Find out why?\n",
    "\n",
    "Now just repeating the question is a good first step.  But the problem may have even more requirements that we didn't consider.  \n",
    "\n",
    "**Why this is critical** Software engineers receive their work from product managers.  And the product managers may forget to mention some requirements.  For example, how much data are we working with.  Or maybe the issue of duplicate strings really isn't a problem at all.  Or maybe it's a symptom of a larger issue that we should be solving.  \n",
    "\n",
    "Here are a couple of good ways to ask why:"
   ]
  },
  {
   "cell_type": "markdown",
   "id": "d121f19b-a0af-42b9-9e19-b6d89bd30dcd",
   "metadata": {},
   "source": [
    "* Is there a specific use case I should be considering?\n",
    "* Can you tell me a little bit more about how this feature may be used?"
   ]
  },
  {
   "cell_type": "markdown",
   "id": "3b5a75cd-1a21-4c5f-8114-a4ea1c3e2d1b",
   "metadata": {},
   "source": [
    "> **Interviewer**: We are trying to identify duplicate phone numbers -- so we can check whether we have users who are registering twice, or providing a fake phone number. \n"
   ]
  },
  {
   "cell_type": "markdown",
   "id": "d892650c-06b5-4cca-9804-7011f747fd38",
   "metadata": {},
   "source": [
    "#### B. Are there edge cases?\n",
    "\n",
    "Edge cases are situations that occur when the data is a bit unexpected.  For example, with the check if a string is unique, it seems like we should format the string first to remove any hyphens, or perhaps standardize country codes.\n",
    "\n",
    "Here are a couple of typical edge cases to consider:\n",
    "\n",
    "> * Negative numbers\n",
    "> * An empty input\n",
    "> * Capital letters vs lowercase letters"
   ]
  },
  {
   "cell_type": "markdown",
   "id": "76592aeb-ffc9-4518-b932-bdde0e8e01d6",
   "metadata": {},
   "source": [
    "Notice that asking about the usecase gave us some hints about some edge cases."
   ]
  },
  {
   "cell_type": "markdown",
   "id": "be3ff009-995f-4d2b-98c2-136a224feb6f",
   "metadata": {},
   "source": [
    "> **Why this is critical** Even if this does not change the problem at all, it still makes the interviewer aware that we are trying to cast a wide net, and consider the scope of the problem.  We also give the interviewer an opportunity to direct him in certain areas.  If the interviewer wants us to skip over this phase and get straight to solving the problem, the interviewer will point us in that direction."
   ]
  },
  {
   "cell_type": "markdown",
   "id": "d8fc5e22-cb7d-44eb-8a71-d095503f7956",
   "metadata": {},
   "source": [
    "#### 3. *Give an example of the problem and solution*: \n",
    "\n",
    "Ok, so now that we have a good understanding of the problem, it's time to make it concrete.  Provide an example of the input and the output. \n",
    "\n",
    "> If the interviewer provided us with an example, we would have used the provided example (as the interviewer may have chosen it for a reason).  Here, instead we come up with our own.\n",
    "> \n",
    "When choosing an example, it's a good idea to choose something complicated enough that avoids edge cases (like a single letter or zero letters), yet easy enough that our brains can solve it.  Generally, choosing three to six elements in a collection is fine.  Edge cases can be delayed to solve later on.\n",
    "\n",
    "So with that in mind, let's choose the following:"
   ]
  },
  {
   "cell_type": "code",
   "execution_count": 2,
   "id": "7b6dd1b8-5144-4425-9dab-e67401458030",
   "metadata": {},
   "outputs": [],
   "source": [
    "numbers = [\"2124443321\", \"2158861321\", \n",
    "           \"8564659988\", \"3121100845\",\n",
    "           \"8564659988\", \"2124443321\"]"
   ]
  },
  {
   "cell_type": "markdown",
   "id": "e9bc3bf9-4b36-42fc-ba85-843f49cde3ba",
   "metadata": {},
   "source": [
    "And we can write the following function."
   ]
  },
  {
   "cell_type": "code",
   "execution_count": 3,
   "id": "f054a586-ff61-4fb0-8d19-389d78ec110d",
   "metadata": {},
   "outputs": [],
   "source": [
    "def find_repeat(numbers):\n",
    "    pass"
   ]
  },
  {
   "cell_type": "markdown",
   "id": "3c677c1d-90eb-4a35-901e-cf7c08bdd637",
   "metadata": {},
   "source": [
    "Which should produce the following output."
   ]
  },
  {
   "cell_type": "code",
   "execution_count": 1,
   "id": "4287d87c-cf2a-437a-8bfc-9be1c1990685",
   "metadata": {},
   "outputs": [
    {
     "data": {
      "text/plain": [
       "{'2124443321': [0, 5], '8564659988': [2, 4]}"
      ]
     },
     "execution_count": 1,
     "metadata": {},
     "output_type": "execute_result"
    }
   ],
   "source": [
    "{\"2124443321\": [0, 5], \"8564659988\": [2, 4]}"
   ]
  },
  {
   "cell_type": "markdown",
   "id": "incredible-company",
   "metadata": {},
   "source": [
    "### Summary \n",
    "\n"
   ]
  },
  {
   "cell_type": "markdown",
   "id": "d7b0d2e4-c768-4e09-9c6e-0dab475a5f34",
   "metadata": {},
   "source": [
    "In this lesson, we discussed techniques for understanding a problem.  We described a procedure that involves the following steps:"
   ]
  },
  {
   "cell_type": "markdown",
   "id": "c7ea38f4-d3a8-4434-981e-a54a18f53d63",
   "metadata": {},
   "source": [
    "1. Rephrase/repeat the problem\n",
    "\n",
    "Here, we are making sure that we absorbed the initial description, and are not leaving out critical details.  Rephrasing the problem oftentimes provides more of a check on this than simply repeating the problem, because it forces us to filter for relevant details.\n",
    "\n",
    "2. Determine the scope\n",
    "\n",
    "A. What's the use case?\n",
    "\n",
    "By asking about the use case, we may learn some context that will allow us to better understand the problem, which could make the problem more or less complicated to solve.  \n",
    "\n",
    "B. Consider edge cases\n",
    "\n",
    "Edge cases are those scenarios that may be atypical -- often in terms of the data we receive.  Typical edge cases are empty inputs, negative numbers, poorly formatted data, or capital letters.  \n",
    "\n",
    "3. Give an example\n",
    "\n",
    "Once we understand the problem, the next step is to provide an example input and solution. \n",
    "\n",
    "We want to choose an exmaple that applies to the usecase, but avoids edge cases and is easy enough that our brains can solve it.  Generally, choosing three to six elements in a collection is fine."
   ]
  }
 ],
 "metadata": {
  "kernelspec": {
   "display_name": "Python 3 (ipykernel)",
   "language": "python",
   "name": "python3"
  },
  "language_info": {
   "codemirror_mode": {
    "name": "ipython",
    "version": 3
   },
   "file_extension": ".py",
   "mimetype": "text/x-python",
   "name": "python",
   "nbconvert_exporter": "python",
   "pygments_lexer": "ipython3",
   "version": "3.9.7"
  }
 },
 "nbformat": 4,
 "nbformat_minor": 5
}
