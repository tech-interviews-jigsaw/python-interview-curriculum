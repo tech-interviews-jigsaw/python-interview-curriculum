{
 "cells": [
  {
   "cell_type": "markdown",
   "id": "figured-spelling",
   "metadata": {},
   "source": [
    "# 3. Translating to Code"
   ]
  },
  {
   "cell_type": "markdown",
   "id": "personalized-folks",
   "metadata": {},
   "source": [
    "## Introduction"
   ]
  },
  {
   "cell_type": "markdown",
   "id": "22c363fd-7a22-40b3-a5d3-57da802482ce",
   "metadata": {},
   "source": [
    "In the last lesson, we moved through the steps of defining the problem -- where we repeated the problem focusing on the inputs and outputs, determined the problem's scope, and then providing example problems and solutions."
   ]
  },
  {
   "cell_type": "markdown",
   "id": "08ccf8ad-fec5-4c8e-969b-845230b87610",
   "metadata": {},
   "source": [
    "In this lesson, we'll move onto a procedure for finding solutions to the problem. "
   ]
  },
  {
   "cell_type": "markdown",
   "id": "805f5162-1272-42b2-939c-2a1ac4c9ab9f",
   "metadata": {},
   "source": [
    "### 3. Translating to code"
   ]
  },
  {
   "cell_type": "markdown",
   "id": "f97e57ea-a846-4dd6-bc59-2fc807bdd6e8",
   "metadata": {},
   "source": [
    "Ok, now it's time to translate the above into code.  Here's how we do it.  We'll copy the steps above into code, and comment them out.  And we'll copy our inputs and place it at the top."
   ]
  },
  {
   "cell_type": "code",
   "execution_count": 7,
   "id": "f4d85d8c-53cc-46d3-9465-0292437dbed4",
   "metadata": {},
   "outputs": [],
   "source": [
    "numbers = [\"2124443321\", \"2158861321\", \n",
    "           \"8564659988\", \"3121100845\",\n",
    "           \"8564659988\", \"2124443321\"]\n",
    "\n",
    "# 1. Go through the numbers one by one\n",
    "\n",
    "# 2. If we have not seen the number before, place it in a new pile\n",
    "\n",
    "# 3. If we have seen the number before, place it in the pile with the previous number"
   ]
  },
  {
   "cell_type": "markdown",
   "id": "6a725615-6a4d-4236-95ca-7da91500e884",
   "metadata": {},
   "source": [
    "Next we translate it into code."
   ]
  },
  {
   "cell_type": "markdown",
   "id": "e9bc332c-cde8-42e9-9b20-a676484a9d2c",
   "metadata": {},
   "source": [
    "\n",
    "> Notice that two of the statements naturally translate.\n",
    "\n",
    "The `Go through the numbers one by one` is a loop.  And the pile we place each unique value into is likely either a list or a dictionary.  Lists and dictionaries are similar, but lists are *ordered* whereas dictionaries naturally come with labels -- the keys.  So let's place our data into a dictionary where the label is the phone number."
   ]
  },
  {
   "cell_type": "markdown",
   "id": "6df2da3d-7122-42c2-b596-df57bb991ed1",
   "metadata": {},
   "source": [
    "Ok, so now let's try translating our comments into code."
   ]
  },
  {
   "cell_type": "markdown",
   "id": "70e2d7ee-06c4-4e8a-8284-9af9a2094831",
   "metadata": {},
   "source": [
    "> This will not work."
   ]
  },
  {
   "cell_type": "code",
   "execution_count": 8,
   "id": "f949e72f-f3bf-4195-8e6b-3479d01ca3f3",
   "metadata": {},
   "outputs": [],
   "source": [
    "numbers = [\"2124443321\", \"2158861321\", \n",
    "           \"8564659988\", \"3121100845\",\n",
    "           \"8564659988\", \"2124443321\"]\n",
    "\n",
    "organized_nums = {}\n",
    "\n",
    "# 1. Go through the numbers one by one\n",
    "for number in numbers:\n",
    "    \n",
    "# 2. If we have not seen the number before, place it in a new pile\n",
    "    organized_nums[number] = [number]\n",
    "    \n",
    "# 3. If we have seen the number before, place it in the pile with the previous number"
   ]
  },
  {
   "cell_type": "markdown",
   "id": "03de68f2-e871-4664-9b8e-16924ee21f08",
   "metadata": {},
   "source": [
    "The above is the correct idea, but we're having a problem here.  The complication is that we have to create a new list if we have not seen the number before and then add the number, or place the number into an existing list, if we have seen the number before."
   ]
  },
  {
   "cell_type": "markdown",
   "id": "2a4dcf6b-6995-438a-b4fe-fefa5258080e",
   "metadata": {},
   "source": [
    "How do we know if a dictionary has a key?  Well we probably could use the method `keys()`.  Or we can Google."
   ]
  },
  {
   "cell_type": "markdown",
   "id": "4480fd75-dbf1-4daa-a2b2-bdfac2b09540",
   "metadata": {},
   "source": [
    "> <img src=\"./ask_google.png\" width=\"60%\">"
   ]
  },
  {
   "cell_type": "markdown",
   "id": "f42329ea-1b7f-42da-93f7-612027b80dc5",
   "metadata": {},
   "source": [
    "Updating our code.  Ok, we'll use the `keys()` method, and update our code.\n",
    "\n",
    "> Notice that our code still reflects our comments."
   ]
  },
  {
   "cell_type": "code",
   "execution_count": 9,
   "id": "13cb2713-c3c8-465b-866e-1263eebf615c",
   "metadata": {},
   "outputs": [],
   "source": [
    "numbers = [\"2124443321\", \"2158861321\", \n",
    "           \"8564659988\", \"3121100845\",\n",
    "           \"8564659988\", \"2124443321\"]\n",
    "\n",
    "organized_nums = {}\n",
    "\n",
    "# 1. Go through the numbers one by one\n",
    "for number in numbers:\n",
    "    \n",
    "# 2. If we have not seen the number before, \n",
    "    if number not in organized_nums.keys():\n",
    "        # place it in a new pile\n",
    "        organized_nums[number] = []\n",
    "        organized_nums[number].append(number)\n",
    "    else:\n",
    "        # 3. If we have seen the number before, place it in the pile with the previous number\n",
    "        organized_nums[number].append(number)"
   ]
  },
  {
   "cell_type": "markdown",
   "id": "256e2147-6071-47cc-8889-baeab5b41385",
   "metadata": {},
   "source": [
    "And then we can check the result."
   ]
  },
  {
   "cell_type": "code",
   "execution_count": 10,
   "id": "356ee2c2-985c-4d8e-a6b9-b8feeb42e8df",
   "metadata": {},
   "outputs": [
    {
     "data": {
      "text/plain": [
       "{'2124443321': ['2124443321', '2124443321'],\n",
       " '2158861321': ['2158861321'],\n",
       " '8564659988': ['8564659988', '8564659988'],\n",
       " '3121100845': ['3121100845']}"
      ]
     },
     "execution_count": 10,
     "metadata": {},
     "output_type": "execute_result"
    }
   ],
   "source": [
    "organized_nums"
   ]
  },
  {
   "cell_type": "markdown",
   "id": "9228b5fd-cdc3-453d-ae93-8ea467d94280",
   "metadata": {},
   "source": [
    "```text\n",
    "\"2124443321\" \"2158861321\" \"8564659988\" \"3121100845\"\n",
    "\"2124443321\"              \"8564659988\"\n",
    "```"
   ]
  },
  {
   "cell_type": "markdown",
   "id": "61ca8100-c60c-4c24-b1cf-589d5d4b8282",
   "metadata": {},
   "source": [
    "3. Getting to the solution"
   ]
  },
  {
   "cell_type": "markdown",
   "id": "41e6344c-7d28-43bc-a7d4-84cd108ad8f9",
   "metadata": {},
   "source": [
    "Of course there is a problem with the above.  We haven't quite produced the output requested.  Let's see this.\n",
    "\n",
    "> We have outputted the following:"
   ]
  },
  {
   "cell_type": "code",
   "execution_count": null,
   "id": "09e6f58c-56bf-464b-a5a1-efa80dc402e5",
   "metadata": {},
   "outputs": [],
   "source": [
    "{'2124443321': ['2124443321', '2124443321'],\n",
    " '2158861321': ['2158861321'],\n",
    " '8564659988': ['8564659988', '8564659988'],\n",
    " '3121100845': ['3121100845']}"
   ]
  },
  {
   "cell_type": "markdown",
   "id": "98c33023-ceaf-4809-acc0-8db71b620070",
   "metadata": {},
   "source": [
    "And we want to get to this."
   ]
  },
  {
   "cell_type": "code",
   "execution_count": null,
   "id": "114c6a72-503e-4c5c-a4a0-6fd73b4229a5",
   "metadata": {},
   "outputs": [],
   "source": [
    "{\"2124443321\": [0, 5], \"8564659988\": [2, 4]}"
   ]
  },
  {
   "cell_type": "markdown",
   "id": "52de43de-794f-476b-8d00-57601b8e73c6",
   "metadata": {},
   "source": [
    "So while, we have properly translated thought process into code, we still have more work before we get to the specified solution.  Let's tackle that in the next lesson. "
   ]
  },
  {
   "cell_type": "markdown",
   "id": "c3016c9f-0cd0-44eb-968e-70ad91268b11",
   "metadata": {},
   "source": [
    "### Summary"
   ]
  },
  {
   "cell_type": "markdown",
   "id": "146805e3-f334-4dc6-9c6c-2e55bf213666",
   "metadata": {},
   "source": [
    "In this lesson, we saw techniques for translating our thought process into code.  Our first step was to copy our steps for solving the problem into comments in code, as well as our initial data."
   ]
  },
  {
   "cell_type": "code",
   "execution_count": 21,
   "id": "deb8c88f-b496-47bf-b33b-aaefffa07384",
   "metadata": {},
   "outputs": [],
   "source": [
    "numbers = [\"2124443321\", \"2158861321\", \n",
    "           \"8564659988\", \"3121100845\",\n",
    "           \"8564659988\", \"2124443321\"]\n",
    "\n",
    "# 1. Go through the numbers one by one\n",
    "# 2. If we have not seen the number before, place it in a new pile\n",
    "# 3. If we have seen the number before, place it in the pile with the previous number"
   ]
  },
  {
   "cell_type": "markdown",
   "id": "fc911634-4457-46f1-ad26-eae5c173f409",
   "metadata": {},
   "source": [
    "We then translated these steps into code, noting that `Go through the numbers one by one` corresponded to a loop, and the `piles` corresponded to attributes of a dictionary.  Finally, note that we were comfortable not getting to the solution requested to us immediately.  Rather, we got *most* of the way there, and can continue with the rest of the steps further on."
   ]
  }
 ],
 "metadata": {
  "kernelspec": {
   "display_name": "Python 3 (ipykernel)",
   "language": "python",
   "name": "python3"
  },
  "language_info": {
   "codemirror_mode": {
    "name": "ipython",
    "version": 3
   },
   "file_extension": ".py",
   "mimetype": "text/x-python",
   "name": "python",
   "nbconvert_exporter": "python",
   "pygments_lexer": "ipython3",
   "version": "3.9.7"
  }
 },
 "nbformat": 4,
 "nbformat_minor": 5
}
