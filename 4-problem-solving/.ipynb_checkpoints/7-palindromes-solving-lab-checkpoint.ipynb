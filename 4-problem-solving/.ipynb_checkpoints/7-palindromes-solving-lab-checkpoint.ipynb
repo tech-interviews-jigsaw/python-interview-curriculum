{
 "cells": [
  {
   "cell_type": "markdown",
   "id": "figured-spelling",
   "metadata": {},
   "source": [
    "# 2. Problem Solving"
   ]
  },
  {
   "cell_type": "markdown",
   "id": "personalized-folks",
   "metadata": {},
   "source": [
    "## Introduction"
   ]
  },
  {
   "cell_type": "markdown",
   "id": "9a4b5da0-c953-4719-9a33-ed24f6e132ae",
   "metadata": {},
   "source": [
    "In this lesson, we'll work on the palindrome solving the palindrome problem without code, and then we can translate it into code.  Let's get started."
   ]
  },
  {
   "cell_type": "markdown",
   "id": "07687745-61db-4fef-a182-b58fffb07661",
   "metadata": {},
   "source": [
    "### Resuming our Problem"
   ]
  },
  {
   "cell_type": "markdown",
   "id": "44e397f1-aff5-4015-a4db-24e257667224",
   "metadata": {},
   "source": [
    "So previously, we made sure that we understood the problem.  We will be given a string and will write a function that returns `True` if the string is a palindrome, and `False` if it is not.  We defined a palindrome as something that is the same forwards and backwards.\n",
    "\n",
    "We ended the last lesson, by providing a few examples, and the related solution."
   ]
  },
  {
   "cell_type": "code",
   "execution_count": 1,
   "id": "457b8940-833f-459d-aa0e-27f91b92d6b7",
   "metadata": {},
   "outputs": [],
   "source": [
    "def is_palindrome(text):\n",
    "    pass"
   ]
  },
  {
   "cell_type": "code",
   "execution_count": 4,
   "id": "603183bf-6d58-45d3-82f0-103e694f255b",
   "metadata": {},
   "outputs": [],
   "source": [
    "first_string = \"whatever\" # False\n",
    "second_string = \"madam\" # True\n"
   ]
  },
  {
   "cell_type": "markdown",
   "id": "5b0aab7e-d1e2-4779-885a-68fdb312740f",
   "metadata": {},
   "source": [
    "Ok, now it's your turn.\n",
    "\n",
    "1. Answer the examples in your head\n",
    "\n",
    "The first step is to solve the examples in your head.  For example, here are two new examples."
   ]
  },
  {
   "cell_type": "code",
   "execution_count": null,
   "id": "e58da4ab-ac6b-4b6d-90c0-c10bc5c00b6c",
   "metadata": {},
   "outputs": [],
   "source": [
    "third_string = \"toot\" \n",
    "fourth_string = \"madam im adam\""
   ]
  },
  {
   "cell_type": "markdown",
   "id": "2f802b6f-1f7d-4dfd-8720-98681fc2eaf7",
   "metadata": {},
   "source": [
    "2. Write down the steps"
   ]
  },
  {
   "cell_type": "markdown",
   "id": "5d9cb1f1-99f2-4a7d-a5b4-6c75a330bcb5",
   "metadata": {},
   "source": [
    "Now that we know our brain can properly answer the question, the next step is to write down the steps our brain performed."
   ]
  },
  {
   "cell_type": "markdown",
   "id": "013788e3-cd83-48b7-8d0b-a75a0f5de593",
   "metadata": {},
   "source": [
    "> Oftentimes, three is a good number of steps, but there can be more."
   ]
  },
  {
   "cell_type": "markdown",
   "id": "173e5169-c041-4b3b-ac09-f57d48aefa84",
   "metadata": {},
   "source": [
    "```\n",
    "# write steps here\n",
    "\n",
    "```"
   ]
  },
  {
   "cell_type": "markdown",
   "id": "5af21939-88e2-40e7-a3a3-8b06ef16f67e",
   "metadata": {},
   "source": [
    "### Translate to code"
   ]
  },
  {
   "cell_type": "markdown",
   "id": "9a876630-76f3-45e1-b378-532431c6ef43",
   "metadata": {},
   "source": [
    "Ok, now it's time to translate this procedure into code."
   ]
  },
  {
   "cell_type": "code",
   "execution_count": 5,
   "id": "20d13e67-d61d-41af-ba2c-e54c7b3ccb6b",
   "metadata": {},
   "outputs": [],
   "source": [
    "def is_palindrome(text):\n",
    "    pass"
   ]
  },
  {
   "cell_type": "code",
   "execution_count": 6,
   "id": "7927fa1a-177a-4387-b8dc-ae9a98e697ba",
   "metadata": {},
   "outputs": [],
   "source": [
    "is_palindrome(\"whatever\") # False\n",
    "is_palindrome(\"madam\") # True\n",
    "is_palindrome(\"toot\") # True\n",
    "is_palindrome(\"Madam Im Adam\") # True"
   ]
  },
  {
   "cell_type": "markdown",
   "id": "incredible-company",
   "metadata": {},
   "source": [
    "### Summary \n",
    "\n",
    "So do you see all of that work we did before we began coding?  That is the work we need to get into the habit of employing each time.  And not just with interview questions - this is the process professional programmers use with each problem.  So you should get into the habit of of incorporating this into your programming process as well. \n",
    "\n",
    "1. Clarify the problem \n",
    "2. Problem solve \n",
    "3. Translate to code\n",
    "\n",
    "And the entire way, make sure you are communicating to your interviewer.  Even if an idea doesn't end up being pursued, it is still good to bring the interviewer along in your thinking process.  Your interviewer will want a developer on their team who shares their thinking, and shares even wrong ideas so that the rest of the team can save time in not pursuing them.\n",
    "\n",
    "Finally, as you go through these programming problems, its good **for you to create your own checklist**.  What techniques are you employing?  How do you get unstuck?  What are good data structures to think about?\n"
   ]
  }
 ],
 "metadata": {
  "kernelspec": {
   "display_name": "Python 3 (ipykernel)",
   "language": "python",
   "name": "python3"
  },
  "language_info": {
   "codemirror_mode": {
    "name": "ipython",
    "version": 3
   },
   "file_extension": ".py",
   "mimetype": "text/x-python",
   "name": "python",
   "nbconvert_exporter": "python",
   "pygments_lexer": "ipython3",
   "version": "3.9.7"
  }
 },
 "nbformat": 4,
 "nbformat_minor": 5
}
