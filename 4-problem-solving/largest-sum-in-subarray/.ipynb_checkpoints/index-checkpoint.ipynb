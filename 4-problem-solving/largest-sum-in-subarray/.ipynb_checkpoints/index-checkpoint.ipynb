{
 "cells": [
  {
   "cell_type": "markdown",
   "id": "looking-basketball",
   "metadata": {},
   "source": [
    "# Largest Subarray Sum\n"
   ]
  },
  {
   "cell_type": "markdown",
   "id": "printable-missouri",
   "metadata": {
    "tags": []
   },
   "source": [
    "### Problem\n",
    "Given an array of integers find a sequence with the largest sum.\n",
    "\n",
    "For example, take a look at an example below."
   ]
  },
  {
   "cell_type": "code",
   "execution_count": 1,
   "id": "significant-performer",
   "metadata": {},
   "outputs": [],
   "source": [
    "array = [1, -1, 5, 3, -7, 4, 5, 6, -100, 4]"
   ]
  },
  {
   "cell_type": "code",
   "execution_count": 3,
   "id": "hindu-sigma",
   "metadata": {},
   "outputs": [],
   "source": [
    "def largestSubarraySum(array):\n",
    "    pass\n",
    "\n",
    "largestSubarraySum(array)\n",
    "# 16\n"
   ]
  },
  {
   "cell_type": "code",
   "execution_count": null,
   "id": "binary-devil",
   "metadata": {},
   "outputs": [],
   "source": []
  }
 ],
 "metadata": {
  "kernelspec": {
   "display_name": "Python 3 (ipykernel)",
   "language": "python",
   "name": "python3"
  },
  "language_info": {
   "codemirror_mode": {
    "name": "ipython",
    "version": 3
   },
   "file_extension": ".py",
   "mimetype": "text/x-python",
   "name": "python",
   "nbconvert_exporter": "python",
   "pygments_lexer": "ipython3",
   "version": "3.9.7"
  }
 },
 "nbformat": 4,
 "nbformat_minor": 5
}
