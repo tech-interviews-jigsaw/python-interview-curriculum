{
 "cells": [
  {
   "cell_type": "markdown",
   "id": "figured-spelling",
   "metadata": {},
   "source": [
    "# 4. Solving the Problem"
   ]
  },
  {
   "cell_type": "markdown",
   "id": "personalized-folks",
   "metadata": {},
   "source": [
    "## Introduction"
   ]
  },
  {
   "cell_type": "markdown",
   "id": "22c363fd-7a22-40b3-a5d3-57da802482ce",
   "metadata": {},
   "source": [
    "In the last lesson, we translated our thought process into code.  This led us to the following."
   ]
  },
  {
   "cell_type": "code",
   "execution_count": 2,
   "id": "f4d85d8c-53cc-46d3-9465-0292437dbed4",
   "metadata": {},
   "outputs": [],
   "source": [
    "numbers = [\"2124443321\", \"2158861321\", \n",
    "           \"8564659988\", \"3121100845\",\n",
    "           \"8564659988\", \"2124443321\"]\n",
    "\n",
    "organized_nums = {}\n",
    "\n",
    "# 1. Go through the numbers one by one\n",
    "for number in numbers:\n",
    "    \n",
    "# 2. If we have not seen the number before, \n",
    "    if number not in organized_nums.keys():\n",
    "        # place it in a new pile\n",
    "        organized_nums[number] = []\n",
    "        organized_nums[number].append(number)\n",
    "    else:\n",
    "        # 3. If we have seen the number before, place it in the pile with the previous number\n",
    "        organized_nums[number].append(number)"
   ]
  },
  {
   "cell_type": "markdown",
   "id": "41e6344c-7d28-43bc-a7d4-84cd108ad8f9",
   "metadata": {},
   "source": [
    "Of course there is a problem with the above.  We haven't quite produced the output requested.\n",
    "\n",
    "We have outputted the following:"
   ]
  },
  {
   "cell_type": "code",
   "execution_count": null,
   "id": "09e6f58c-56bf-464b-a5a1-efa80dc402e5",
   "metadata": {},
   "outputs": [],
   "source": [
    "{'2124443321': ['2124443321', '2124443321'],\n",
    " '2158861321': ['2158861321'],\n",
    " '8564659988': ['8564659988', '8564659988'],\n",
    " '3121100845': ['3121100845']}"
   ]
  },
  {
   "cell_type": "markdown",
   "id": "98c33023-ceaf-4809-acc0-8db71b620070",
   "metadata": {},
   "source": [
    "And we want to get to this."
   ]
  },
  {
   "cell_type": "code",
   "execution_count": null,
   "id": "114c6a72-503e-4c5c-a4a0-6fd73b4229a5",
   "metadata": {},
   "outputs": [],
   "source": [
    "{\"2124443321\": [0, 5], \"8564659988\": [2, 4]}"
   ]
  },
  {
   "cell_type": "markdown",
   "id": "7b502c07-1ea6-46ca-bedf-03347d595c44",
   "metadata": {},
   "source": [
    "In this lesson, we'll work towards the solution."
   ]
  },
  {
   "cell_type": "markdown",
   "id": "61ca8100-c60c-4c24-b1cf-589d5d4b8282",
   "metadata": {},
   "source": [
    "### Getting to the solution"
   ]
  },
  {
   "cell_type": "markdown",
   "id": "0dc89ee4-00d2-4f61-8d8b-f93bfe4e6015",
   "metadata": {},
   "source": [
    "When we initially solved the problem, we chose a slightly easier problem than the one asked of us.  We placed the matches into piles.  But we still need to:\n",
    "\n",
    "1. Insert the index of the duplicated elements, and \n",
    "2. Only show the duplicated elements."
   ]
  },
  {
   "cell_type": "markdown",
   "id": "330fa599-8ccc-4437-a04a-cc86d76cfeb8",
   "metadata": {},
   "source": [
    "We should tackle these issues one at a time, tackling the *easier* problem first."
   ]
  },
  {
   "cell_type": "markdown",
   "id": "6c63a5f8-00fe-43cb-8293-7833a467fc6f",
   "metadata": {
    "tags": []
   },
   "source": [
    "### 1. Adding the index"
   ]
  },
  {
   "cell_type": "markdown",
   "id": "045456b4-7e5a-4ec3-b66c-53f54dbcbb75",
   "metadata": {},
   "source": [
    "Let's take another look at our code."
   ]
  },
  {
   "cell_type": "code",
   "execution_count": null,
   "id": "a65fb90e-f817-43d7-b37a-d5134b2818cc",
   "metadata": {},
   "outputs": [],
   "source": [
    "numbers = [\"2124443321\", \"2158861321\", \n",
    "           \"8564659988\", \"3121100845\",\n",
    "           \"8564659988\", \"2124443321\"]\n",
    "\n",
    "organized_nums = {}\n",
    "\n",
    "for number in numbers:\n",
    "    if number not in organized_nums.keys():\n",
    "        organized_nums[number] = []\n",
    "        organized_nums[number].append(number)\n",
    "    else:\n",
    "        organized_nums[number].append(number)"
   ]
  },
  {
   "cell_type": "markdown",
   "id": "6d6fd23d-bc63-4a57-b1ad-bb8227b9996a",
   "metadata": {},
   "source": [
    "It seems that the issue is that instead of appending the `number` we should append the *index* of the number.  The hard part is to find the index of an element as we move through a loop. How do we do that?\n",
    "\n",
    "Again, let's [ask Google](https://www.google.com/search?q=python+find+index+of+element+in+loop&oq=python+find+index+of+element+in+loop&aqs=chrome..69i57j0i22i30.6909j0j9&sourceid=chrome&ie=UTF-8) how to accomplish this.  \n",
    "\n",
    "> We see something about the enumerate function."
   ]
  },
  {
   "cell_type": "markdown",
   "id": "4c08dde0-285c-4afe-87ee-2619866533d8",
   "metadata": {},
   "source": [
    "And then because `enumerate` is somewhat foreign to us, we should quickly practice using it before moving incorporating it into our work."
   ]
  },
  {
   "cell_type": "code",
   "execution_count": 12,
   "id": "35c86778-f8d3-43d2-b5d5-5c268f906740",
   "metadata": {},
   "outputs": [
    {
     "name": "stdout",
     "output_type": "stream",
     "text": [
      "0 2124443321\n",
      "1 2158861321\n",
      "2 8564659988\n",
      "3 3121100845\n",
      "4 8564659988\n",
      "5 2124443321\n"
     ]
    }
   ],
   "source": [
    "numbers = [\"2124443321\", \"2158861321\", \n",
    "           \"8564659988\", \"3121100845\",\n",
    "           \"8564659988\", \"2124443321\"]\n",
    "\n",
    "for index, number in enumerate(numbers):\n",
    "    print(index, number)"
   ]
  },
  {
   "cell_type": "markdown",
   "id": "95cb1366-ef1d-4918-8e93-dd7f84334c8a",
   "metadata": {},
   "source": [
    "Ok, so enumerate returns two block variables to us, of the index and then the element.  Let's update our code."
   ]
  },
  {
   "cell_type": "code",
   "execution_count": 13,
   "id": "be9feeb6-d4bf-4be6-b573-9efa8242f38e",
   "metadata": {},
   "outputs": [],
   "source": [
    "numbers = [\"2124443321\", \"2158861321\", \n",
    "           \"8564659988\", \"3121100845\",\n",
    "           \"8564659988\", \"2124443321\"]\n",
    "\n",
    "organized_nums = {}\n",
    "for index, number in enumerate(numbers):\n",
    "    if number not in organized_nums.keys():\n",
    "        organized_nums[number] = []\n",
    "        organized_nums[number].append(index)\n",
    "    else:\n",
    "        organized_nums[number].append(index)"
   ]
  },
  {
   "cell_type": "code",
   "execution_count": 14,
   "id": "d16dccf4-2c79-462e-8a6e-1bd04992d970",
   "metadata": {},
   "outputs": [
    {
     "data": {
      "text/plain": [
       "{'2124443321': [0, 5],\n",
       " '2158861321': [1],\n",
       " '8564659988': [2, 4],\n",
       " '3121100845': [3]}"
      ]
     },
     "execution_count": 14,
     "metadata": {},
     "output_type": "execute_result"
    }
   ],
   "source": [
    "organized_nums"
   ]
  },
  {
   "cell_type": "markdown",
   "id": "40d6a7fb-f5ab-4aba-9fad-2b3629638740",
   "metadata": {},
   "source": [
    "And let's again compare our result with the solution expected of us."
   ]
  },
  {
   "cell_type": "code",
   "execution_count": null,
   "id": "5a826c3e-5182-4757-b758-7428292a2d02",
   "metadata": {},
   "outputs": [],
   "source": [
    "{\"2124443321\": [0, 5], \"8564659988\": [2, 4]}"
   ]
  },
  {
   "cell_type": "markdown",
   "id": "8002d3aa-11dc-4f8f-9940-31656d06d256",
   "metadata": {},
   "source": [
    "### 2. Only include duplicate elements "
   ]
  },
  {
   "cell_type": "markdown",
   "id": "4331fdb9-a2ae-409b-930b-68f3441432b2",
   "metadata": {},
   "source": [
    "Ok, so we have only one step left, and that is to only keep the duplicate elements.  We essentially have two options:\n",
    "\n",
    "1. Pre-processing\n",
    "2. Post-processing"
   ]
  },
  {
   "cell_type": "markdown",
   "id": "95ba6c07-5b79-41da-9a30-37cab32596e7",
   "metadata": {},
   "source": [
    "1. Pre-processing\n",
    "\n",
    "With preprocessing, before we loop through the data, we would first only loop through numbers that are duplicated.  Then for each of the duplicated numbers we would add their index to the dictionary.\n",
    "\n",
    "2. Post-processing \n",
    "\n",
    "With post-processing we take our dictionary above and create a new dictionary with key value pairs where there are multiple elements. \n",
    "\n",
    "Here post-processing seems easier.  So let's go with that.  Notice that we can use our problem solving techniques to accomplish this.  We'll copy the input and desired output below."
   ]
  },
  {
   "cell_type": "code",
   "execution_count": 17,
   "id": "88226e68-d353-498e-975c-e60be4f859bc",
   "metadata": {},
   "outputs": [],
   "source": [
    "organized_nums = {'2124443321': [0, 5],\n",
    " '2158861321': [1],\n",
    " '8564659988': [2, 4],\n",
    " '3121100845': [3]}\n",
    "\n",
    "# solution -> {\"2124443321\": [0, 5], \"8564659988\": [2, 4]}"
   ]
  },
  {
   "cell_type": "markdown",
   "id": "1eabc3af-9e00-49fb-99ea-4ca560d81eed",
   "metadata": {},
   "source": [
    "And then we can solve this by only selecting those attributes that have a list with more than one element in it, like so."
   ]
  },
  {
   "cell_type": "code",
   "execution_count": 19,
   "id": "708dd59a-5997-49cb-870c-855442e1d917",
   "metadata": {},
   "outputs": [
    {
     "data": {
      "text/plain": [
       "{'2124443321': [0, 5], '8564659988': [2, 4]}"
      ]
     },
     "execution_count": 19,
     "metadata": {},
     "output_type": "execute_result"
    }
   ],
   "source": [
    "{k:v for k, v in organized_nums.items() if len(v) > 1}"
   ]
  },
  {
   "cell_type": "markdown",
   "id": "e70410ee-3d87-49be-a745-d6e78a7631fd",
   "metadata": {},
   "source": [
    "Now let's put all of our code together and wrap it in the function `find_repeat`."
   ]
  },
  {
   "cell_type": "code",
   "execution_count": 4,
   "id": "967629b2-7e12-4958-8cad-d8b1c41d43d1",
   "metadata": {},
   "outputs": [
    {
     "data": {
      "text/plain": [
       "{'2124443321': [0, 5], '8564659988': [2, 4]}"
      ]
     },
     "execution_count": 4,
     "metadata": {},
     "output_type": "execute_result"
    }
   ],
   "source": [
    "numbers = [\"2124443321\", \"2158861321\", \n",
    "           \"8564659988\", \"3121100845\",\n",
    "           \"8564659988\", \"2124443321\"]\n",
    "\n",
    "def find_repeat(numbers):\n",
    "    organized_nums = {}\n",
    "    for index, number in enumerate(numbers):\n",
    "        if number not in organized_nums.keys():\n",
    "            organized_nums[number] = []\n",
    "            organized_nums[number].append(index)\n",
    "        else:\n",
    "            organized_nums[number].append(index)\n",
    "    return {k:v for k, v in organized_nums.items() if len(v) > 1}\n",
    "\n",
    "find_repeat(numbers)"
   ]
  },
  {
   "cell_type": "markdown",
   "id": "4bb90093-ad07-4228-930b-e8351bc80a49",
   "metadata": {},
   "source": [
    "And we are done."
   ]
  },
  {
   "cell_type": "markdown",
   "id": "incredible-company",
   "metadata": {
    "tags": []
   },
   "source": [
    "### Summary "
   ]
  },
  {
   "cell_type": "markdown",
   "id": "cf42a9cd-640e-48f9-86e2-238bdfee4357",
   "metadata": {},
   "source": [
    "In this lesson, we wrote the code to produce the desired output.  We used our problem solving technique of copying over the starting point and the ending point, and began with inserting the index into our list.  When we learned something new with Google (enumerate), we first tried it out on it's own before incorporating it into the larger function.  \n",
    "\n",
    "With our step of only selecting items that have more than one attribute, we saw that we could accomplish this through pre-processing or post-processing.  With pre-processing we would first remove any values that are duplicates, and then create the dictionary.  And with post-processing, which we chose, we removed our duplicate items after the dictionary was created.  We chose the technique which we found easier. "
   ]
  }
 ],
 "metadata": {
  "kernelspec": {
   "display_name": "Python 3 (ipykernel)",
   "language": "python",
   "name": "python3"
  },
  "language_info": {
   "codemirror_mode": {
    "name": "ipython",
    "version": 3
   },
   "file_extension": ".py",
   "mimetype": "text/x-python",
   "name": "python",
   "nbconvert_exporter": "python",
   "pygments_lexer": "ipython3",
   "version": "3.9.7"
  }
 },
 "nbformat": 4,
 "nbformat_minor": 5
}
