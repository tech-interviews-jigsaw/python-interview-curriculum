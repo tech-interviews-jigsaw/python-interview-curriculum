{
 "cells": [
  {
   "cell_type": "markdown",
   "id": "9c58f6b4-b9a6-403b-b6f3-06d29999f634",
   "metadata": {},
   "source": [
    "# Understand the Problem Lab"
   ]
  },
  {
   "cell_type": "markdown",
   "id": "5a612cbe-f9b6-48f1-83e4-8033384e4306",
   "metadata": {},
   "source": [
    "### Introduction"
   ]
  },
  {
   "cell_type": "markdown",
   "id": "d0e8c787-dc59-44e8-a127-6341a99b9ad7",
   "metadata": {},
   "source": [
    "In the last lesson, we saw that the first thing to do when given a problem is to make sure that we properly understand it.  We specified three steps to understanding the problem.  \n",
    "\n",
    "1. Rephrase/repeat the problem\n",
    "2. Determine the scope\n",
    "    * What's the use case\n",
    "    * Consider edge cases\n",
    "3. Give an example of a problem and solution"
   ]
  },
  {
   "cell_type": "markdown",
   "id": "c908414c-9176-496e-9f78-5e6a8d682d82",
   "metadata": {},
   "source": [
    "In this lesson, let's practice moving through those steps."
   ]
  },
  {
   "cell_type": "markdown",
   "id": "9de2c35f-8a75-4bda-830d-5ab61e98e899",
   "metadata": {},
   "source": [
    "> While it may unnecessary deliberately move through these steps, the point is to feel comfortable with these steps so we can lean on them when the problems become difficult.  "
   ]
  },
  {
   "cell_type": "markdown",
   "id": "a6c832ea-fc63-4ddf-b0af-1cfb1761d13f",
   "metadata": {},
   "source": [
    "### Our Problem"
   ]
  },
  {
   "cell_type": "markdown",
   "id": "6e486bdf-762d-48b9-9138-7b2e31a41711",
   "metadata": {},
   "source": [
    "> **The problem**: Write a function that determines whether a string is a palindrome."
   ]
  },
  {
   "cell_type": "markdown",
   "id": "643c6e70-dd51-4525-aa07-1da9185dbded",
   "metadata": {},
   "source": [
    "Now let's move through our define the problem steps."
   ]
  },
  {
   "cell_type": "markdown",
   "id": "6f12b6e8-0397-4499-81c6-1f62bc70ffd1",
   "metadata": {},
   "source": [
    "1. Repeat the problem"
   ]
  },
  {
   "cell_type": "markdown",
   "id": "0c6e1793-6b74-42f9-b48f-f431b20865ff",
   "metadata": {},
   "source": [
    "> How can we repeat the problem in such a way that we can confirm or clarify our understanding of the problem.  Make sure to clarify any inputs and outputs.\n",
    "\n",
    "\n",
    "> Write your answer below."
   ]
  },
  {
   "cell_type": "code",
   "execution_count": null,
   "id": "23343d99-dafc-43fd-b403-a2e72d3c28be",
   "metadata": {},
   "outputs": [],
   "source": []
  },
  {
   "cell_type": "code",
   "execution_count": null,
   "id": "c903d502-6c65-484a-9893-e21a77857d47",
   "metadata": {},
   "outputs": [],
   "source": []
  },
  {
   "cell_type": "markdown",
   "id": "ae029d54-f501-4385-9d6f-3c0baed7ebb8",
   "metadata": {},
   "source": [
    "2. Determine the scope"
   ]
  },
  {
   "cell_type": "markdown",
   "id": "8c10250d-2089-4cbd-8d58-221d5cf1c726",
   "metadata": {},
   "source": [
    "A. Ok, now ask that classic question.  Write it below."
   ]
  },
  {
   "cell_type": "code",
   "execution_count": null,
   "id": "02529f72-d7bb-402f-903a-0b66289f4b21",
   "metadata": {},
   "outputs": [],
   "source": []
  },
  {
   "cell_type": "markdown",
   "id": "1af080aa-3d29-45b9-8840-7430bba291dc",
   "metadata": {},
   "source": [
    "> Interviewer Response:  There is no particular use case here. "
   ]
  },
  {
   "cell_type": "markdown",
   "id": "48e849ad-8034-4c3d-9192-e75a82ea8ca0",
   "metadata": {},
   "source": [
    "B. Next consider various edge cases."
   ]
  },
  {
   "cell_type": "markdown",
   "id": "3e77c79b-f35a-4a9f-9ceb-540dcf26b414",
   "metadata": {},
   "source": [
    "> Write down various edge cases that you may need to consider."
   ]
  },
  {
   "cell_type": "markdown",
   "id": "b1dcc986-a3f4-4669-883d-1b393aeea6f0",
   "metadata": {},
   "source": [
    "3. Specify a couple of examples"
   ]
  },
  {
   "cell_type": "markdown",
   "id": "9bb7769e-7c61-44ec-ad97-0db13ee31a34",
   "metadata": {},
   "source": [
    "Now define the function, write down a few examples of strings to pass through the function, and write the output from the function."
   ]
  },
  {
   "cell_type": "markdown",
   "id": "ec4a95ec-8129-4289-af8f-31d607dc72dd",
   "metadata": {},
   "source": [
    "### Summary"
   ]
  },
  {
   "cell_type": "markdown",
   "id": "f88389c4-94fd-448f-8422-89f983de7f84",
   "metadata": {},
   "source": [
    "In this lesson, we moved through the first steps of problem solving which is to make sure we understand the problem.  While this problem was a little less ambiguous than some others we will see, it was fine for practicing to understand problems given to us.  Once again, the steps for us are the following:"
   ]
  },
  {
   "cell_type": "markdown",
   "id": "f0870d18-d639-4ee1-a738-b0fdf423d1b4",
   "metadata": {},
   "source": [
    "1. Rephrase/repeat the problem\n",
    "2. Determine the scope\n",
    "    * What's the use case\n",
    "    * Consider edge cases\n",
    "3. Give an example of a problem and solution"
   ]
  }
 ],
 "metadata": {
  "kernelspec": {
   "display_name": "Python 3 (ipykernel)",
   "language": "python",
   "name": "python3"
  },
  "language_info": {
   "codemirror_mode": {
    "name": "ipython",
    "version": 3
   },
   "file_extension": ".py",
   "mimetype": "text/x-python",
   "name": "python",
   "nbconvert_exporter": "python",
   "pygments_lexer": "ipython3",
   "version": "3.9.7"
  }
 },
 "nbformat": 4,
 "nbformat_minor": 5
}
