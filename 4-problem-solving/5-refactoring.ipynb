{
 "cells": [
  {
   "cell_type": "markdown",
   "id": "eb06908c-8224-4ef0-bc07-99dbce3838e6",
   "metadata": {},
   "source": [
    "# Refactoring"
   ]
  },
  {
   "cell_type": "markdown",
   "id": "750d236f-aada-4cf0-8998-e16ce153bd81",
   "metadata": {},
   "source": [
    "### Introduction"
   ]
  },
  {
   "cell_type": "markdown",
   "id": "a678f202-f5be-4163-ad47-6fdf33492030",
   "metadata": {},
   "source": [
    "Now that we have solved the problem presented to us, the next step is to refactor our solution.  In this lesson, we'll see some alternatives to our initial solution."
   ]
  },
  {
   "cell_type": "markdown",
   "id": "98529e21-fc54-4374-9e4e-a42c5f4b62a4",
   "metadata": {},
   "source": [
    "### Spotting the Problem"
   ]
  },
  {
   "cell_type": "markdown",
   "id": "d5795a14-5ef2-4bdd-8fb9-e97828a9b4e9",
   "metadata": {},
   "source": [
    "Let's take a look at our current solution."
   ]
  },
  {
   "cell_type": "code",
   "execution_count": 1,
   "id": "c18a38e3-c2dd-4b4b-9935-95aa97951415",
   "metadata": {},
   "outputs": [],
   "source": [
    "numbers = [\"2124443321\", \"2158861321\", \n",
    "           \"8564659988\", \"3121100845\",\n",
    "           \"8564659988\", \"2124443321\"]\n",
    "\n",
    "def find_repeat(numbers):\n",
    "    organized_nums = {}\n",
    "    for index, number in enumerate(numbers):\n",
    "        if number not in organized_nums.keys():\n",
    "            organized_nums[number] = []\n",
    "            organized_nums[number].append(index)\n",
    "        else:\n",
    "            organized_nums[number].append(index)\n",
    "    return {k:v for k, v in organized_nums.items() if len(v) > 1}"
   ]
  },
  {
   "cell_type": "markdown",
   "id": "b1a7f513-1a0d-4c61-9579-789e175e4c1c",
   "metadata": {},
   "source": [
    "Now one of the main things to look at when refactoring is `if else` statements.  Our if else statements tend to complicate our code.  \n",
    "\n",
    "The `if else` statement in our code above is particularly problematic as it is nested within a for loop.  Let's see if we can remove it."
   ]
  },
  {
   "cell_type": "markdown",
   "id": "3bc5eb93-46f9-48b8-b9d2-de97b3920b25",
   "metadata": {},
   "source": [
    "1. Removing the duplication\n",
    "\n",
    "The first thing we main notice is that code in the `if else` statement is repeated -- take a look at the `append` statement.  We can fix this, by always appending, and only adding a list if the number does not exist."
   ]
  },
  {
   "cell_type": "markdown",
   "id": "139418ac-73dd-4b6c-b8cf-d66622a23dbe",
   "metadata": {},
   "source": [
    "> Updating the code we get the following."
   ]
  },
  {
   "cell_type": "code",
   "execution_count": 2,
   "id": "5367d682-92f8-4ec5-bbad-0e1614aae363",
   "metadata": {},
   "outputs": [],
   "source": [
    "numbers = [\"2124443321\", \"2158861321\", \n",
    "           \"8564659988\", \"3121100845\",\n",
    "           \"8564659988\", \"2124443321\"]\n",
    "\n",
    "def find_repeat(numbers):\n",
    "    organized_nums = {}\n",
    "    for index, number in enumerate(numbers):\n",
    "        if number not in organized_nums.keys():\n",
    "            organized_nums[number] = []\n",
    "        organized_nums[number].append(index)\n",
    "    return {k:v for k, v in organized_nums.items() if len(v) > 1}"
   ]
  },
  {
   "cell_type": "markdown",
   "id": "a8da44ec-6c79-4782-8692-4e543bae63f3",
   "metadata": {},
   "source": [
    "Now every time we make even a small change, we should run our code to make sure that it still works."
   ]
  },
  {
   "cell_type": "code",
   "execution_count": 3,
   "id": "5a3ca2df-3512-4a9b-8215-1a93e7799626",
   "metadata": {},
   "outputs": [
    {
     "data": {
      "text/plain": [
       "{'2124443321': [0, 5], '8564659988': [2, 4]}"
      ]
     },
     "execution_count": 3,
     "metadata": {},
     "output_type": "execute_result"
    }
   ],
   "source": [
    "find_repeat(numbers)"
   ]
  },
  {
   "cell_type": "markdown",
   "id": "f4783006-85de-429b-9834-4e56edd9c628",
   "metadata": {},
   "source": [
    "Ok, looks good.  Let's keep going."
   ]
  },
  {
   "cell_type": "markdown",
   "id": "5a876270-518f-428b-b67e-7bd5541981d1",
   "metadata": {},
   "source": [
    "2. Removing `if`"
   ]
  },
  {
   "cell_type": "markdown",
   "id": "d56eb1e1-81c5-40c9-9148-8f5d8791a712",
   "metadata": {},
   "source": [
    "Now we did remove some of our duplication above, but having an `if` statement inside of a for loop is still bad news.  What can we do instead?\n",
    "\n",
    "Well perhaps, when we create the `organized_nums` dictionary, we can already set the key and values.  This way, we don't have to worry about adding a key and a corresponding list.  We can do this like so.   "
   ]
  },
  {
   "cell_type": "code",
   "execution_count": 4,
   "id": "e2316b63-9f57-42d1-957a-2de36239b86e",
   "metadata": {},
   "outputs": [],
   "source": [
    "numbers = [\"2124443321\", \"2158861321\", \n",
    "           \"8564659988\", \"3121100845\",\n",
    "           \"8564659988\", \"2124443321\"]"
   ]
  },
  {
   "cell_type": "markdown",
   "id": "8de7bc33-da88-4a4e-bdc4-7dc7d7d5dcd2",
   "metadata": {},
   "source": [
    "> Find the unique numbers."
   ]
  },
  {
   "cell_type": "code",
   "execution_count": 6,
   "id": "e4e4648d-c824-494c-9d96-7e148fd3cb75",
   "metadata": {},
   "outputs": [],
   "source": [
    "unique_nums = set(numbers)"
   ]
  },
  {
   "cell_type": "markdown",
   "id": "2af37431-9d75-4557-8a5b-a9b5905dcb2e",
   "metadata": {},
   "source": [
    "Create a dictionary with these numbers as the keys."
   ]
  },
  {
   "cell_type": "code",
   "execution_count": 35,
   "id": "d15f5486-211f-474f-81c8-2321b549e600",
   "metadata": {},
   "outputs": [
    {
     "data": {
      "text/plain": [
       "{'3121100845': [], '2124443321': [], '8564659988': [], '2158861321': []}"
      ]
     },
     "execution_count": 35,
     "metadata": {},
     "output_type": "execute_result"
    }
   ],
   "source": [
    "vals = [[] for num in unique_nums]\n",
    "organized_nums = dict(list(zip(unique_nums, vals)))\n",
    "\n",
    "organized_nums"
   ]
  },
  {
   "cell_type": "markdown",
   "id": "9d54a206-53cf-444d-a04f-45750c157eb5",
   "metadata": {},
   "source": [
    "> So the `fromkeys` method takes two arguments -- the list of keys and the corresponding value for each key -- here, a list. "
   ]
  },
  {
   "cell_type": "markdown",
   "id": "db829408-2373-4b1e-b656-0932574a14eb",
   "metadata": {},
   "source": [
    "Notice that now we can remove the `if` statement entirely."
   ]
  },
  {
   "cell_type": "code",
   "execution_count": 40,
   "id": "1b14018b-9e2a-4ec6-8fe3-b3e9bda1a08a",
   "metadata": {},
   "outputs": [],
   "source": [
    "numbers = [\"2124443321\", \"2158861321\", \n",
    "           \"8564659988\", \"3121100845\",\n",
    "           \"8564659988\", \"2124443321\"]\n",
    "\n",
    "def find_repeat(numbers):\n",
    "    vals = [[] for num in set(numbers)]\n",
    "    organized_nums = dict(list(zip(unique_nums, vals)))\n",
    "    \n",
    "    for index, number in enumerate(numbers):\n",
    "        organized_nums[number].append(index)\n",
    "    return {k:v for k, v in organized_nums.items() if len(v) > 1}"
   ]
  },
  {
   "cell_type": "code",
   "execution_count": 39,
   "id": "801b0958-3e64-4a9c-bc12-d8e2ef0458d8",
   "metadata": {},
   "outputs": [
    {
     "data": {
      "text/plain": [
       "{'2124443321': [0, 5], '8564659988': [2, 4]}"
      ]
     },
     "execution_count": 39,
     "metadata": {},
     "output_type": "execute_result"
    }
   ],
   "source": [
    "find_repeat(numbers)"
   ]
  },
  {
   "cell_type": "markdown",
   "id": "99985fbb-6106-4e64-9843-0463e67ad73c",
   "metadata": {},
   "source": [
    "### More methods?"
   ]
  },
  {
   "cell_type": "markdown",
   "id": "966359f0-d732-4f7a-ac88-960bc84c8068",
   "metadata": {},
   "source": [
    "Ok, now our code is looking pretty strong.  If there's anything to imrpove, it might be to break our code above into methods.  Notice that we can view the above code in three steps."
   ]
  },
  {
   "cell_type": "code",
   "execution_count": 41,
   "id": "c40fac20-ece7-4fe4-87ce-8fe1368c7952",
   "metadata": {},
   "outputs": [],
   "source": [
    "def find_repeat(numbers):\n",
    "    # build placeholder\n",
    "    vals = [[] for num in set(numbers)]\n",
    "    organized_nums = dict(list(zip(unique_nums, vals)))\n",
    "    \n",
    "    # add indices to placeholder\n",
    "    for index, number in enumerate(numbers):\n",
    "        organized_nums[number].append(index)\n",
    "    # select duplicates\n",
    "    return {k:v for k, v in organized_nums.items() if len(v) > 1}"
   ]
  },
  {
   "cell_type": "markdown",
   "id": "191b8d14-d297-4ca1-9f66-e2dfa2508e23",
   "metadata": {},
   "source": [
    "Or two steps."
   ]
  },
  {
   "cell_type": "code",
   "execution_count": 42,
   "id": "82f7c56a-c8fd-4007-af9e-aab03a1beece",
   "metadata": {},
   "outputs": [],
   "source": [
    "def find_repeat(numbers):\n",
    "    # build element indices\n",
    "    vals = [[] for num in set(numbers)]\n",
    "    organized_nums = dict(list(zip(unique_nums, vals)))\n",
    "    \n",
    "    for index, number in enumerate(numbers):\n",
    "        organized_nums[number].append(index)\n",
    "    # select duplicates\n",
    "    return {k:v for k, v in organized_nums.items() if len(v) > 1}"
   ]
  },
  {
   "cell_type": "markdown",
   "id": "e6f76df6-9ac5-4eac-8a2f-e8727025f6d6",
   "metadata": {},
   "source": [
    "Let's go with the breaking this into two steps.  To do so, we'll simply turn the comments into functions."
   ]
  },
  {
   "cell_type": "code",
   "execution_count": 50,
   "id": "f40ae589-7796-4c88-952c-be9995bf03be",
   "metadata": {},
   "outputs": [],
   "source": [
    "def build_element_indices(numbers):\n",
    "    vals = [[] for num in set(numbers)]\n",
    "    organized_nums = dict(list(zip(unique_nums, vals)))\n",
    "    \n",
    "    for index, number in enumerate(numbers):\n",
    "        organized_nums[number].append(index)\n",
    "    return organized_nums\n",
    "\n",
    "def select_duplicates(element_indices):\n",
    "    return {k:v for k, v in element_indices.items() if len(v) > 1}\n",
    "\n",
    "def find_repeat(numbers):\n",
    "    organized_nums = build_element_indices(numbers)\n",
    "    return select_duplicates(organized_nums)"
   ]
  },
  {
   "cell_type": "markdown",
   "id": "96df0bd5-3b91-48b1-ac82-d9b3ed07c770",
   "metadata": {},
   "source": [
    "And then we should confirm that the code still."
   ]
  },
  {
   "cell_type": "code",
   "execution_count": 52,
   "id": "fdbee7db-2c8b-415b-b22f-a4f724d35048",
   "metadata": {},
   "outputs": [
    {
     "data": {
      "text/plain": [
       "{'2124443321': [0, 5], '8564659988': [2, 4]}"
      ]
     },
     "execution_count": 52,
     "metadata": {},
     "output_type": "execute_result"
    }
   ],
   "source": [
    "numbers = [\"2124443321\", \"2158861321\", \n",
    "           \"8564659988\", \"3121100845\",\n",
    "           \"8564659988\", \"2124443321\"]\n",
    "\n",
    "find_repeat(numbers)"
   ]
  },
  {
   "cell_type": "markdown",
   "id": "e32552b2-8894-4642-bc58-e41ec849624c",
   "metadata": {},
   "source": [
    "And we are back to our solution."
   ]
  },
  {
   "cell_type": "markdown",
   "id": "4ac48528-59be-448a-8971-00bc49101c81",
   "metadata": {},
   "source": [
    "### Summary"
   ]
  },
  {
   "cell_type": "markdown",
   "id": "04bdc8f7-ea64-44b2-8837-769b0f275dff",
   "metadata": {},
   "source": [
    "In this lesson, we saw a couple of techniques for refactoring our code.  The first was to remove the `if else` statement.  The main way we accomplished this was by first building a placeholder where we first created a dictionary where the set of unique numbers were keys and each corresponding value was a new list.  This way, for each element, we needed to find the matching key, and add it to the corresponding list.\n",
    "\n",
    "The next refactoring we did was to break our function down into multiple functions.  We did this by first adding a comment above each chunk of code.  "
   ]
  },
  {
   "cell_type": "code",
   "execution_count": 53,
   "id": "689cde5a-ab55-497e-9774-d1798cc06d31",
   "metadata": {},
   "outputs": [],
   "source": [
    "def find_repeat(numbers):\n",
    "    # build element indices\n",
    "    vals = [[] for num in set(numbers)]\n",
    "    organized_nums = dict(list(zip(unique_nums, vals)))\n",
    "    \n",
    "    for index, number in enumerate(numbers):\n",
    "        organized_nums[number].append(index)\n",
    "    # select duplicates\n",
    "    return {k:v for k, v in organized_nums.items() if len(v) > 1}"
   ]
  },
  {
   "cell_type": "markdown",
   "id": "2ce3df0a-95ab-4c1d-81f5-5c3ca43e9688",
   "metadata": {},
   "source": [
    "And then turning those comments into separate functions."
   ]
  },
  {
   "cell_type": "code",
   "execution_count": 54,
   "id": "dc703e42-74d8-4ac0-91d1-cd67d3822599",
   "metadata": {},
   "outputs": [],
   "source": [
    "def build_element_indices(numbers):\n",
    "    vals = [[] for num in set(numbers)]\n",
    "    organized_nums = dict(list(zip(unique_nums, vals)))\n",
    "    \n",
    "    for index, number in enumerate(numbers):\n",
    "        organized_nums[number].append(index)\n",
    "    return organized_nums\n",
    "\n",
    "def select_duplicates(element_indices):\n",
    "    return {k:v for k, v in element_indices.items() if len(v) > 1}"
   ]
  },
  {
   "cell_type": "markdown",
   "id": "91eeb9d1-7673-4bcd-bf93-9e0cfec65a93",
   "metadata": {},
   "source": [
    "So that our overall function is now just a couple of lines long."
   ]
  },
  {
   "cell_type": "code",
   "execution_count": null,
   "id": "c82c8da2-2cfd-4aec-ac74-a776b0247854",
   "metadata": {},
   "outputs": [],
   "source": [
    "def find_repeat(numbers):\n",
    "    organized_nums = build_element_indices(numbers)\n",
    "    return select_duplicates(organized_nums)"
   ]
  }
 ],
 "metadata": {
  "kernelspec": {
   "display_name": "Python 3 (ipykernel)",
   "language": "python",
   "name": "python3"
  },
  "language_info": {
   "codemirror_mode": {
    "name": "ipython",
    "version": 3
   },
   "file_extension": ".py",
   "mimetype": "text/x-python",
   "name": "python",
   "nbconvert_exporter": "python",
   "pygments_lexer": "ipython3",
   "version": "3.9.7"
  }
 },
 "nbformat": 4,
 "nbformat_minor": 5
}
