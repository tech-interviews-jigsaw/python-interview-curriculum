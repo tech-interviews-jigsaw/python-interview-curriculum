{
 "cells": [
  {
   "cell_type": "markdown",
   "id": "3109bf3c-1ebc-47b2-8028-260160a72523",
   "metadata": {},
   "source": [
    "# Snowflake Example"
   ]
  },
  {
   "cell_type": "markdown",
   "id": "b40473ff-2c62-40f8-8425-a52cc3084cb3",
   "metadata": {},
   "source": [
    "* Snowflake example"
   ]
  },
  {
   "cell_type": "markdown",
   "id": "36928b1e-fd0b-4e34-9535-b14e8df2e275",
   "metadata": {},
   "source": [
    "> Identical"
   ]
  },
  {
   "cell_type": "code",
   "execution_count": 1,
   "id": "3f1fcbc7-2cbe-4ba1-aa9b-fbb0bd493cb7",
   "metadata": {
    "tags": []
   },
   "outputs": [],
   "source": [
    "sn_1 = [1, 2, 3, 4, 5, 6]\n",
    "\n",
    "sn_2 = [4, 5, 6, 1, 2, 3]"
   ]
  },
  {
   "cell_type": "markdown",
   "id": "9bbccd22-7383-4356-bab5-798388343cfa",
   "metadata": {},
   "source": [
    "> Also identical - moving leftward"
   ]
  },
  {
   "cell_type": "code",
   "execution_count": 2,
   "id": "c21c0d43-f751-4e5b-8ded-f1d7484fc8c3",
   "metadata": {},
   "outputs": [],
   "source": [
    "sn_3 = [1, 2, 3, 4, 5, 6]\n",
    "\n",
    "sn_4 = [3, 2, 1, 6, 5, 4]"
   ]
  },
  {
   "cell_type": "markdown",
   "id": "f3ca5d79-6985-42ac-9188-bfc3500867fa",
   "metadata": {},
   "source": [
    "So then check moving right, and also check moving right."
   ]
  },
  {
   "cell_type": "markdown",
   "id": "6f55f34b-3df1-442f-b305-a7f104b5b1d9",
   "metadata": {},
   "source": [
    "### Resources\n",
    "\n",
    "Algorithmic Thinking Chapter 1."
   ]
  }
 ],
 "metadata": {
  "kernelspec": {
   "display_name": "Python 3 (ipykernel)",
   "language": "python",
   "name": "python3"
  },
  "language_info": {
   "codemirror_mode": {
    "name": "ipython",
    "version": 3
   },
   "file_extension": ".py",
   "mimetype": "text/x-python",
   "name": "python",
   "nbconvert_exporter": "python",
   "pygments_lexer": "ipython3",
   "version": "3.9.7"
  }
 },
 "nbformat": 4,
 "nbformat_minor": 5
}
