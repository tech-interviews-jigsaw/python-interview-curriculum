{
 "cells": [
  {
   "cell_type": "markdown",
   "id": "figured-spelling",
   "metadata": {},
   "source": [
    "# 2. Problem Solving"
   ]
  },
  {
   "cell_type": "markdown",
   "id": "personalized-folks",
   "metadata": {},
   "source": [
    "## Introduction"
   ]
  },
  {
   "cell_type": "markdown",
   "id": "22c363fd-7a22-40b3-a5d3-57da802482ce",
   "metadata": {},
   "source": [
    "In the last lesson, we moved through the steps of understanding a problem -- where we repeated the problem focusing on the inputs and outputs, determined the problem's scope, and then providing example problems and solutions."
   ]
  },
  {
   "cell_type": "markdown",
   "id": "08ccf8ad-fec5-4c8e-969b-845230b87610",
   "metadata": {},
   "source": [
    "In this lesson, we'll move onto a procedure for finding solutions to the problem. "
   ]
  },
  {
   "cell_type": "markdown",
   "id": "db985a8f-c3b9-4ed8-a288-c05e2141c948",
   "metadata": {},
   "source": [
    "### Problem Solving"
   ]
  },
  {
   "cell_type": "markdown",
   "id": "575d8cf7-19f0-429e-b898-670f5b02f8f1",
   "metadata": {},
   "source": [
    "Let's remember where we last left off.  We are given a list of strings like those below."
   ]
  },
  {
   "cell_type": "code",
   "execution_count": null,
   "id": "3cc1a740-aa56-4bdb-8574-9ef12f18e3e4",
   "metadata": {},
   "outputs": [],
   "source": [
    "numbers = [\"2124443321\", \"2158861321\", \n",
    "           \"8564659988\", \"3121100845\",\n",
    "           \"8564659988\", \"2124443321\"]"
   ]
  },
  {
   "cell_type": "markdown",
   "id": "b53b8c3b-fc38-4b2d-8369-f96b5003899a",
   "metadata": {},
   "source": [
    "And we are asked to write a function that returns whether or not the string has been seen before.  "
   ]
  },
  {
   "cell_type": "code",
   "execution_count": 2,
   "id": "84a5c1fb-2ded-4e05-b8c4-553f8879c6e1",
   "metadata": {},
   "outputs": [],
   "source": [
    "def find_repeat(numbers):\n",
    "    pass"
   ]
  },
  {
   "cell_type": "markdown",
   "id": "82b2d606-80e7-4282-b944-241e6f9626b4",
   "metadata": {},
   "source": [
    "And after passing through the above list, we should see the following:"
   ]
  },
  {
   "cell_type": "code",
   "execution_count": 3,
   "id": "55af65e0-5be7-4071-9ccb-399828d0b946",
   "metadata": {},
   "outputs": [
    {
     "data": {
      "text/plain": [
       "{'2124443321': [0, 5], '8564659988': [2, 4]}"
      ]
     },
     "execution_count": 3,
     "metadata": {},
     "output_type": "execute_result"
    }
   ],
   "source": [
    "{\"2124443321\": [0, 5], \"8564659988\": [2, 4]}"
   ]
  },
  {
   "cell_type": "markdown",
   "id": "overhead-kennedy",
   "metadata": {
    "tags": []
   },
   "source": [
    "### Step 1: Problem Solving"
   ]
  },
  {
   "cell_type": "markdown",
   "id": "7e686240-1768-4d3d-8c4c-774e01a0fece",
   "metadata": {},
   "source": [
    "1. First, solve it without code "
   ]
  },
  {
   "cell_type": "markdown",
   "id": "f805f644-b482-472b-ac77-5e524194109d",
   "metadata": {},
   "source": [
    "Now the first step in problem solving is to first solve the problem without code.  Let's take a look at our inputs."
   ]
  },
  {
   "cell_type": "code",
   "execution_count": null,
   "id": "4d87cc8f-52c8-43ae-9f9a-81a8a2adbe17",
   "metadata": {},
   "outputs": [],
   "source": [
    "numbers = [\"2124443321\", \"2158861321\", \n",
    "           \"8564659988\", \"3121100845\",\n",
    "           \"8564659988\", \"2124443321\"]"
   ]
  },
  {
   "cell_type": "markdown",
   "id": "8060ab07-d531-4951-b4d8-3c3996625168",
   "metadata": {},
   "source": [
    "Can you identify the numbers that are inputs?  Copy them below -- don't worry about formatting it into a dictionary, or collecting the indices.  Let's just use the space below to come to the solution -- and accomplish this in the easiest way we can.  \n",
    "\n",
    "This is what we get."
   ]
  },
  {
   "cell_type": "markdown",
   "id": "3af6b7fb-cc58-407f-a80c-467562b126d1",
   "metadata": {},
   "source": [
    "```text\n",
    "\"2124443321\" \"2158861321\" \"8564659988\" \"3121100845\"\n",
    "\"2124443321\"              \"8564659988\"\n",
    "```"
   ]
  },
  {
   "cell_type": "markdown",
   "id": "3ea74307-5343-4ca1-b848-74be4c582e9f",
   "metadata": {},
   "source": [
    "So what did we do above?  We essentially placed each of our unique numbers into a separate pile.  If you've ever played cards and organized your cards by some category you've likely done something similar."
   ]
  },
  {
   "cell_type": "markdown",
   "id": "e12c547e-0a81-448b-8516-f7e2c20e2a4e",
   "metadata": {},
   "source": [
    "<img src=\"./playing_cards.png\" width=\"40%\">"
   ]
  },
  {
   "cell_type": "markdown",
   "id": "c9c3f930-78f9-4019-8bc5-dab50e182947",
   "metadata": {},
   "source": [
    "Ok, so we just accomplished the first step, we solved it without code."
   ]
  },
  {
   "cell_type": "markdown",
   "id": "cc9c1dcf-8821-4f94-b177-25d207a84e95",
   "metadata": {},
   "source": [
    "2. Translate what our brain just did into steps"
   ]
  },
  {
   "cell_type": "markdown",
   "id": "82a51314-46fe-4cde-aabf-ec8223068bcb",
   "metadata": {},
   "source": [
    "So previously we went from here to here."
   ]
  },
  {
   "cell_type": "code",
   "execution_count": 5,
   "id": "dbb1ac47-c0d9-4354-b1cb-dfb3557d910e",
   "metadata": {},
   "outputs": [],
   "source": [
    "numbers = [\"2124443321\", \"2158861321\", \n",
    "           \"8564659988\", \"3121100845\",\n",
    "           \"8564659988\", \"2124443321\"]"
   ]
  },
  {
   "cell_type": "markdown",
   "id": "e105c2f7-87ae-4b85-bcca-7bd45f464772",
   "metadata": {},
   "source": [
    "```text\n",
    "\"2124443321\" \"2158861321\" \"8564659988\" \"3121100845\"\n",
    "\"2124443321\"              \"8564659988\"\n",
    "```"
   ]
  },
  {
   "cell_type": "markdown",
   "id": "f84654eb-f8df-4eef-9260-67f121fdccc1",
   "metadata": {},
   "source": [
    "The next step is to understand how our brain was able to solve the problem above.  Here's the procedure our brain went through."
   ]
  },
  {
   "cell_type": "markdown",
   "id": "655db1ec-0d5d-47e0-900b-655228e70c76",
   "metadata": {},
   "source": [
    "1. Go through the numbers one by one\n",
    "2. If we have not seen the number before, place it in a new pile\n",
    "3. If we have seen the number before, place it in the pile with the previous number"
   ]
  },
  {
   "cell_type": "markdown",
   "id": "b5520dfd-b960-4faf-ac99-5effc69d6821",
   "metadata": {},
   "source": [
    "Ok, now the next step is to translate this into code."
   ]
  },
  {
   "cell_type": "markdown",
   "id": "incredible-company",
   "metadata": {
    "tags": []
   },
   "source": [
    "### Summary "
   ]
  },
  {
   "cell_type": "markdown",
   "id": "c2cb9e9b-76ad-425b-aa51-3239d6602f1d",
   "metadata": {},
   "source": [
    "In this lesson, we moved through the key step in a engineering problem, which is problem solving.  The way we accomplished this was to first answer the question in our head -- which was to start from a list of strings and find the duplicate elements."
   ]
  },
  {
   "cell_type": "code",
   "execution_count": 5,
   "id": "fa64bbeb-7393-4f59-87eb-4ac6ade4135c",
   "metadata": {},
   "outputs": [],
   "source": [
    "numbers = [\"2124443321\", \"2158861321\", \n",
    "           \"8564659988\", \"3121100845\",\n",
    "           \"8564659988\", \"2124443321\"]"
   ]
  },
  {
   "cell_type": "markdown",
   "id": "628c30c3-2d8a-4fdb-9d10-551d5ea606da",
   "metadata": {},
   "source": [
    "```text\n",
    "\"2124443321\" \"2158861321\" \"8564659988\" \"3121100845\"\n",
    "\"2124443321\"              \"8564659988\"\n",
    "```"
   ]
  },
  {
   "cell_type": "markdown",
   "id": "5f7afcb0-d2f5-4d68-bada-ac61ca4df0de",
   "metadata": {},
   "source": [
    "We essentially did this by matching the elements.  We then broke down the procedure that our brain followed to come to this solution."
   ]
  },
  {
   "cell_type": "markdown",
   "id": "85326575-624a-4f8e-9316-54109d6e5d69",
   "metadata": {},
   "source": [
    "1. Go through the numbers one by one\n",
    "2. If we have not seen the number before, place it in a new pile\n",
    "3. If we have seen the number before, place it in the pile with the previous number"
   ]
  },
  {
   "cell_type": "markdown",
   "id": "7e00ff6d-aa62-4a50-9ae1-854264cde8e7",
   "metadata": {},
   "source": [
    "Now that we have broken this down into steps, the next component is to translate this into code."
   ]
  },
  {
   "cell_type": "markdown",
   "id": "09297d38-103e-46b8-8a26-207346d77bcf",
   "metadata": {},
   "source": [
    "### Give it a shot"
   ]
  },
  {
   "cell_type": "markdown",
   "id": "416cebf1-9abb-432c-84f4-a1b7894997fb",
   "metadata": {},
   "source": [
    "We'll leave this as an exercise for you.  To make it a bit easier -- see if you can first produce the following data structure, where you place each of the elements into a separate pile."
   ]
  },
  {
   "cell_type": "code",
   "execution_count": 1,
   "id": "68fb57b9-cb35-4ccb-85b6-86c738d129f0",
   "metadata": {},
   "outputs": [],
   "source": [
    "numbers = [\"2124443321\", \"2158861321\", \n",
    "           \"8564659988\", \"3121100845\",\n",
    "           \"8564659988\", \"2124443321\"]"
   ]
  },
  {
   "cell_type": "code",
   "execution_count": null,
   "id": "8244c846-fc3d-4f58-9002-7c1f62e029c4",
   "metadata": {},
   "outputs": [],
   "source": [
    "{'2124443321': ['2124443321', '2124443321'],\n",
    " '2158861321': ['2158861321'],\n",
    " '8564659988': ['8564659988', '8564659988'],\n",
    " '3121100845': ['3121100845']}"
   ]
  },
  {
   "cell_type": "markdown",
   "id": "3a92a92e-520d-46fa-a4db-e9af9822b233",
   "metadata": {},
   "source": [
    "Notice that the above data structure reflects our thinking above."
   ]
  },
  {
   "cell_type": "markdown",
   "id": "cd33765c-2ca4-44f1-8ee3-7535e6920945",
   "metadata": {},
   "source": [
    "```text\n",
    "\"2124443321\" \"2158861321\" \"8564659988\" \"3121100845\"\n",
    "\"2124443321\"              \"8564659988\"\n",
    "```"
   ]
  },
  {
   "cell_type": "markdown",
   "id": "82f3d6ca-4c3f-46db-8697-f0a44f6a7003",
   "metadata": {},
   "source": [
    "Then if you can get to the data structure above, see if you can produce a dictionary that whose keys are the duplicate values, and the values are the related indices."
   ]
  },
  {
   "cell_type": "code",
   "execution_count": 3,
   "id": "a8df4689-4166-4fdd-adb7-97e02a092e62",
   "metadata": {},
   "outputs": [
    {
     "data": {
      "text/plain": [
       "{'2124443321': [0, 5], '8564659988': [2, 4]}"
      ]
     },
     "execution_count": 3,
     "metadata": {},
     "output_type": "execute_result"
    }
   ],
   "source": [
    "{\"2124443321\": [0, 5], \"8564659988\": [2, 4]}"
   ]
  }
 ],
 "metadata": {
  "kernelspec": {
   "display_name": "Python 3 (ipykernel)",
   "language": "python",
   "name": "python3"
  },
  "language_info": {
   "codemirror_mode": {
    "name": "ipython",
    "version": 3
   },
   "file_extension": ".py",
   "mimetype": "text/x-python",
   "name": "python",
   "nbconvert_exporter": "python",
   "pygments_lexer": "ipython3",
   "version": "3.9.7"
  }
 },
 "nbformat": 4,
 "nbformat_minor": 5
}
